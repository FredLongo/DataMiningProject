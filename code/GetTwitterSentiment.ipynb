{
  "nbformat": 4,
  "nbformat_minor": 0,
  "metadata": {
    "colab": {
      "provenance": [],
      "authorship_tag": "ABX9TyOpTAxx1FD8zurh56kSrHtE",
      "include_colab_link": true
    },
    "kernelspec": {
      "name": "python3",
      "display_name": "Python 3"
    },
    "language_info": {
      "name": "python"
    }
  },
  "cells": [
    {
      "cell_type": "markdown",
      "metadata": {
        "id": "view-in-github",
        "colab_type": "text"
      },
      "source": [
        "<a href=\"https://colab.research.google.com/github/FredLongo/DataMiningProject/blob/main/code/GetTwitterSentiment.ipynb\" target=\"_parent\"><img src=\"https://colab.research.google.com/assets/colab-badge.svg\" alt=\"Open In Colab\"/></a>"
      ]
    },
    {
      "cell_type": "markdown",
      "source": [
        "This first part is about processing the Twitter data to a format we can work with.   \n"
      ],
      "metadata": {
        "id": "-gt85Llw_0cp"
      }
    },
    {
      "cell_type": "markdown",
      "source": [
        "# Project Overview\n",
        "\n",
        "## Evaluation of Twiter stock sentement on price stock prices.\n",
        "\n",
        "In this project we evaluate twiter tweet posts to see if tweets can act as leading indecators or laging indicaterst to stock prices.  We do this over a one day, three day, five day pre and post of tweet.  \n",
        "\n",
        "\n"
      ],
      "metadata": {
        "id": "mEwxVGti9a79"
      }
    },
    {
      "cell_type": "markdown",
      "source": [
        "# Aquiring Tweets\n",
        "\n",
        "We targeted twitter tweets to data mine as a source for evaluation of sentament.  Twitter was chosen because many of the paper we reviewed took this approch.  We wanted to emulate some of their process.  However Twitter has changed it's policies over the past year to not allow twitter pulls for free to research.  As a result We needed to use a thired party product to pull a few months worth of tweets.  This third party was Apify (www.apify.com)  as a tool it can pull twiter feeds.  This file was created using the tool and the results of which can be found at # Data pulled from https://console.apify.com/actors/2s3kSMq7tpuC3bI6M/runs/cMp5HramffKLAmVSt#output\n",
        "\n",
        "The json file is stored to the folloiwng location\n",
        " https://drive.google.com/file/d/1s429__b-2Gptf2oN2g-t--1aNPkMiyU-/view?usp=drive_link and should be downloaded to the local colab environment for processing.  \n",
        "\n",
        "\n",
        "## Limiting/Filtering twitter-Tweets.json Data Set\n",
        "During this process we thought about the diffrent approches to evaluation of stock.  We could look at all tweets and get sentenment with respect to the market as a whole.  However we found that their are so many ways to iterprete the tweets with respect to the market as a whole was difficalt. Some filtering was required.  We chose to limit our stocks to just the top 7 of the S&P 500.  By doing so we felt this this would be easerir to selectivly identify tweets with respect to the stock.  The stocks we chose are \"Apple\",\"Alphabet\",\"Amazon\",\"Microsoft\",\"Meta\",\"Nvidia\" and \"Tesla\".  Using their Stock lable of \"AAPL\",\"GOOG\",\"AMZN\",\"MSFT\",\"META\",\"NVDA\",\"TSLA\"\n",
        "\n",
        "We also just looked a a few months of tweets.  So as to limit the data set to just a sample timeframe.  \n",
        "\n",
        "Twitter has many users(channels) that produce tweets. We recognize not all channels are intresed in producing relevent, relyable and consistent statements with respect to market or stocks.  So we limit the channals that we monitored to just a few key player that we though might be relevent in the marketspace of stock evaluations.  The channals we chose to evaluate are \"@USNewsMoney\", \"@TMFStockAdvisor\", \"@ftfinancenews\", \"@Stocktwits\", \"@MadMoneyOnCNBC\" and \"@SquawkCNBC\".  We found these to be popular that should fit our needs.\n",
        "\n",
        "\n"
      ],
      "metadata": {
        "id": "KuQ7215q_4uA"
      }
    },
    {
      "cell_type": "markdown",
      "source": [
        "Loading tweet data."
      ],
      "metadata": {
        "id": "LEz7VDQ1FIVJ"
      }
    },
    {
      "cell_type": "code",
      "execution_count": 68,
      "metadata": {
        "id": "SBQdtyBwzosZ"
      },
      "outputs": [],
      "source": [
        "import json\n",
        "import csv\n",
        "import requests\n",
        "from datetime import datetime\n",
        "\n"
      ]
    },
    {
      "cell_type": "code",
      "source": [
        "\n",
        "#The Twitter-Tweets file can be pulled off the internet from the following\n",
        "\n",
        "# As CSV\n",
        "#Tweets_url = 'https://drive.google.com/file/d/1HqubufxP00MJtA_Rh75d3E0WXH-x9Pqt/view?usp=sharing'\n",
        "#Tweets_filename = 'Tweets.csv'\n",
        "\n",
        "# As JSON\n",
        "#Tweets_url = 'https://drive.google.com/file/d/1s429__b-2Gptf2oN2g-t--1aNPkMiyU-/view?usp=drive_link'\n",
        "Tweets_filename = 'twitter-tweets.json'\n",
        "\n",
        "# As JSON Text File extention.\n",
        "#Tweets_url = 'https://drive.google.com/file/d/1AFXhblSsY-5UmMEWNad2GHsVy_NRz4zu/view?usp=drive_link'\n",
        "\n",
        "\n",
        "#infile = f\"/content/{Tweets_filename}\"\n",
        "infile = Tweets_filename\n",
        "\n",
        "print(infile)\n",
        "\n",
        "with open(infile, \"r\") as f:\n",
        "  data = json.load(f)\n",
        "\n",
        "\n",
        "\n",
        "\n"
      ],
      "metadata": {
        "colab": {
          "base_uri": "https://localhost:8080/"
        },
        "id": "7dVV8pfAKiki",
        "outputId": "aefbe28f-7ada-4e9e-ae6a-e423e332ab5e"
      },
      "execution_count": 95,
      "outputs": [
        {
          "output_type": "stream",
          "name": "stdout",
          "text": [
            "twitter-tweets.json\n"
          ]
        }
      ]
    },
    {
      "cell_type": "markdown",
      "source": [
        "Load stock price data."
      ],
      "metadata": {
        "id": "xWvUAVD3lgAU"
      }
    },
    {
      "cell_type": "code",
      "source": [
        "\n",
        "#Stock Price URL of the file to be downloaded\n",
        "StockPrice_url = 'https://drive.google.com/file/d/1Hk3Ca66ai_vAO14EFAD1AfOEk2A60E-U/view?usp=drive_link'\n",
        "\n",
        "# Send a GET request to the URL\n",
        "StockPrice_response = requests.get(StockPrice_url)\n",
        "\n",
        "# Ensure the request was successful\n",
        "if StockPrice_response.status_code == 200:\n",
        "    # Write the content of the response to a file\n",
        "    with open('StockPrice.csv', 'wb') as file:\n",
        "        file.write(StockPrice_response.content)\n",
        "else:\n",
        "    print(f\"Failed to download the file. Status code: {StockPrice_response.status_code}\")\n"
      ],
      "metadata": {
        "id": "kUpZkFsVrO7h"
      },
      "execution_count": 70,
      "outputs": []
    },
    {
      "cell_type": "markdown",
      "source": [
        "# Data Structure\n",
        "\n",
        "We needed a way to store our data so we implented SQLITE database to  use.\n"
      ],
      "metadata": {
        "id": "XjDl94NGnu_z"
      }
    },
    {
      "cell_type": "code",
      "source": [
        "\n",
        "import sqlite3\n",
        "conn = sqlite3.connect(\"Project.db\")\n",
        "\n",
        "# Create a cursor object using the cursor() method\n",
        "cursor = conn.cursor()\n"
      ],
      "metadata": {
        "id": "ip_IaVLXoDqN"
      },
      "execution_count": 71,
      "outputs": []
    },
    {
      "cell_type": "code",
      "source": [
        "# SQL command to create Tweets table\n",
        "\n",
        "create_table_command = \"\"\"\n",
        "CREATE TABLE Tweets (\n",
        "    Timestamp DATE,\n",
        "    DateKey TEXT,\n",
        "    Channel TEXT,\n",
        "    Stock  TEXT,\n",
        "    Neg_score FLOAT,\n",
        "    Neu_score FLOAT,\n",
        "    Pos_score FLOAT,\n",
        "    Sentiment Int,\n",
        "    Tweet_orginal TEXT,\n",
        "    Tweet_clean TEXT\n",
        "\n",
        ");\n",
        "\"\"\"\n",
        "\n",
        "\n",
        "# Execute the SQL command\n",
        "cursor.execute(create_table_command)\n",
        "\n",
        "\n"
      ],
      "metadata": {
        "id": "fGfpjAyRojzy",
        "outputId": "cc9c8035-e5fd-4fc1-ced0-20b289b0c68a",
        "colab": {
          "base_uri": "https://localhost:8080/"
        }
      },
      "execution_count": 74,
      "outputs": [
        {
          "output_type": "execute_result",
          "data": {
            "text/plain": [
              "<sqlite3.Cursor at 0x7b8124149040>"
            ]
          },
          "metadata": {},
          "execution_count": 74
        }
      ]
    },
    {
      "cell_type": "code",
      "source": [
        "#dbexec(\"drop table Tweets\")"
      ],
      "metadata": {
        "id": "2-REJOoyA-N0"
      },
      "execution_count": 73,
      "outputs": []
    },
    {
      "cell_type": "code",
      "source": [
        "# SQL command to create Stocks table\n",
        "\n",
        "create_table_command = \"\"\"\n",
        "CREATE TABLE Stocks (\n",
        "    ID INTEGER PRIMARY KEY AUTOINCREMENT,\n",
        "    Date DATE,\n",
        "    DateKey TEXT,\n",
        "    AAPL_C\tFLOAT,\n",
        "    AMZN_C\tFLOAT,\n",
        "    GOOG_C\tFLOAT,\n",
        "    META_C\tFLOAT,\n",
        "    MSFT_C\tFLOAT,\n",
        "    NVDA_C\tFLOAT,\n",
        "    TSLA_C\tFLOAT,\n",
        "    AAPL_H\tFLOAT,\n",
        "    AMZN_H\tFLOAT,\n",
        "    GOOG_H\tFLOAT,\n",
        "    META_H\tFLOAT,\n",
        "    MSFT_H\tFLOAT,\n",
        "    NVDA_H\tFLOAT,\n",
        "    TSLA_H\tFLOAT,\n",
        "    AAPL_L\tFLOAT,\n",
        "    AMZN_L\tFLOAT,\n",
        "    GOOG_L\tFLOAT,\n",
        "    META_L\tFLOAT,\n",
        "    MSFT_L\tFLOAT,\n",
        "    NVDA_L\tFLOAT,\n",
        "    TSLA_L\tFLOAT,\n",
        "    AAPL_O\tFLOAT,\n",
        "    AMZN_O\tFLOAT,\n",
        "    GOOG_O\tFLOAT,\n",
        "    META_O\tFLOAT,\n",
        "    MSFT_O\tFLOAT,\n",
        "    NVDA_O\tFLOAT,\n",
        "    TSLA_O\tFLOAT,\n",
        "    AAPL_V\tFLOAT,\n",
        "    AMZN_V\tFLOAT,\n",
        "    GOOG_V\tFLOAT,\n",
        "    META_V\tFLOAT,\n",
        "    MSFT_V\tFLOAT,\n",
        "    NVDA_V\tFLOAT,\n",
        "    TSLA_V\tFLOAT,\n",
        "    AAPL_N\tFLOAT,\n",
        "    AMZN_N\tFLOAT,\n",
        "    GOOG_N\tFLOAT,\n",
        "    META_N\tFLOAT,\n",
        "    MSFT_N\tFLOAT,\n",
        "    NVDA_N\tFLOAT,\n",
        "    TSLA_N\tFLOAT,\n",
        "    AAPL_U\tFLOAT,\n",
        "    AMZN_U\tFLOAT,\n",
        "    GOOG_U\tFLOAT,\n",
        "    META_U\tFLOAT,\n",
        "    MSFT_U\tFLOAT,\n",
        "    NVDA_U\tFLOAT,\n",
        "    TSLA_U\tFLOAT,\n",
        "    AAPL_P\tFLOAT,\n",
        "    AMZN_P\tFLOAT,\n",
        "    GOOG_P\tFLOAT,\n",
        "    META_P\tFLOAT,\n",
        "    MSFT_P\tFLOAT,\n",
        "    NVDA_P\tFLOAT,\n",
        "    TSLA_P  FLOAT\n",
        ");\n",
        "\"\"\"\n",
        "\n",
        "# Execute the SQL command\n",
        "cursor.execute(create_table_command)"
      ],
      "metadata": {
        "id": "o4eTuYmH2Tkm",
        "outputId": "4a7dc5ab-e99f-4928-ec17-008bb3c48245",
        "colab": {
          "base_uri": "https://localhost:8080/"
        }
      },
      "execution_count": 77,
      "outputs": [
        {
          "output_type": "execute_result",
          "data": {
            "text/plain": [
              "<sqlite3.Cursor at 0x7b8124149040>"
            ]
          },
          "metadata": {},
          "execution_count": 77
        }
      ]
    },
    {
      "cell_type": "code",
      "source": [
        "#dbexec(\"drop table Stocks\")"
      ],
      "metadata": {
        "id": "2seEccaT-p6P"
      },
      "execution_count": 76,
      "outputs": []
    },
    {
      "cell_type": "code",
      "source": [
        "# List all table in DB\n",
        "\n",
        "list_tables_command = \"SELECT name FROM sqlite_master WHERE type='table';\"\n",
        "cursor.execute(list_tables_command)\n",
        "\n",
        "tables = cursor.fetchall()\n",
        "for table in tables:\n",
        "  print(table[0])"
      ],
      "metadata": {
        "id": "G-28QESVomZs",
        "colab": {
          "base_uri": "https://localhost:8080/"
        },
        "outputId": "fd5a76d7-a5b5-4a03-95fb-ae6c241c3ab4"
      },
      "execution_count": 96,
      "outputs": [
        {
          "output_type": "stream",
          "name": "stdout",
          "text": [
            "sqlite_sequence\n",
            "Tweets\n",
            "Stocks\n"
          ]
        }
      ]
    },
    {
      "cell_type": "code",
      "source": [
        "\n",
        "# SQL command to get all columns of a table\n",
        "\n",
        "table_name = 'Tweets'  # Replace with your table name\n",
        "pragma_query = f\"PRAGMA table_info({table_name});\"\n",
        "\n",
        "# Execute the command\n",
        "cursor.execute(pragma_query)\n",
        "\n",
        "# Fetch all results\n",
        "columns = cursor.fetchall()\n",
        "\n",
        "# Print column names\n",
        "print(f\"Table: {table_name}\")\n",
        "for col in columns:\n",
        "    print(col[1])  # Column names are in the second position in the result tuple\n",
        "print(\"\")\n",
        "\n",
        "\n",
        "table_name = 'Stocks'  # Replace with your table name\n",
        "pragma_query = f\"PRAGMA table_info({table_name});\"\n",
        "\n",
        "# Execute the command\n",
        "cursor.execute(pragma_query)\n",
        "\n",
        "# Fetch all results\n",
        "columns = cursor.fetchall()\n",
        "\n",
        "# Print column names\n",
        "print(f\"Table: {table_name}\")\n",
        "for col in columns:\n",
        "    print(col[1])  # Column names are in the second position in the result tuple\n",
        "\n",
        "\n"
      ],
      "metadata": {
        "id": "uqq9KUZz3f6T",
        "colab": {
          "base_uri": "https://localhost:8080/"
        },
        "outputId": "731c68dd-96ae-4b26-be2d-c219f07c6f94"
      },
      "execution_count": 97,
      "outputs": [
        {
          "output_type": "stream",
          "name": "stdout",
          "text": [
            "Table: Tweets\n",
            "Timestamp\n",
            "DateKey\n",
            "Channel\n",
            "Stock\n",
            "Neg_score\n",
            "Neu_score\n",
            "Pos_score\n",
            "Sentiment\n",
            "Tweet_orginal\n",
            "Tweet_clean\n",
            "\n",
            "Table: Stocks\n",
            "ID\n",
            "Date\n",
            "DateKey\n",
            "AAPL_C\n",
            "AMZN_C\n",
            "GOOG_C\n",
            "META_C\n",
            "MSFT_C\n",
            "NVDA_C\n",
            "TSLA_C\n",
            "AAPL_H\n",
            "AMZN_H\n",
            "GOOG_H\n",
            "META_H\n",
            "MSFT_H\n",
            "NVDA_H\n",
            "TSLA_H\n",
            "AAPL_L\n",
            "AMZN_L\n",
            "GOOG_L\n",
            "META_L\n",
            "MSFT_L\n",
            "NVDA_L\n",
            "TSLA_L\n",
            "AAPL_O\n",
            "AMZN_O\n",
            "GOOG_O\n",
            "META_O\n",
            "MSFT_O\n",
            "NVDA_O\n",
            "TSLA_O\n",
            "AAPL_V\n",
            "AMZN_V\n",
            "GOOG_V\n",
            "META_V\n",
            "MSFT_V\n",
            "NVDA_V\n",
            "TSLA_V\n",
            "AAPL_N\n",
            "AMZN_N\n",
            "GOOG_N\n",
            "META_N\n",
            "MSFT_N\n",
            "NVDA_N\n",
            "TSLA_N\n",
            "AAPL_U\n",
            "AMZN_U\n",
            "GOOG_U\n",
            "META_U\n",
            "MSFT_U\n",
            "NVDA_U\n",
            "TSLA_U\n",
            "AAPL_P\n",
            "AMZN_P\n",
            "GOOG_P\n",
            "META_P\n",
            "MSFT_P\n",
            "NVDA_P\n",
            "TSLA_P\n"
          ]
        }
      ]
    },
    {
      "cell_type": "code",
      "source": [
        "def dbexec(command):\n",
        "  # Execute the command\n",
        "  cursor.execute(command)\n",
        "\n",
        "  # Fetch all the rows from the executed query\n",
        "  rows = cursor.fetchall()\n",
        "\n",
        "  # Iterate through rows and print them\n",
        "  for row in rows:\n",
        "    print(row)\n",
        "\n",
        "\n"
      ],
      "metadata": {
        "id": "Ahcn6VBjzUxt"
      },
      "execution_count": 80,
      "outputs": []
    },
    {
      "cell_type": "code",
      "source": [
        "\n",
        "def Stock_case_AAPL():\n",
        "    return \"AAPL\"\n",
        "\n",
        "def Stock_case_GOOG():\n",
        "    return \"GOOG\"\n",
        "\n",
        "def Stock_case_AMZN():\n",
        "    return \"AMZN\"\n",
        "\n",
        "def Stock_case_META():\n",
        "    return \"META\"\n",
        "\n",
        "def Stock_case_MSFT():\n",
        "    return \"MSFT\"\n",
        "\n",
        "def Stock_case_NVDA():\n",
        "    return \"NVDA\"\n",
        "\n",
        "def Stock_case_TSLA():\n",
        "    return \"TSLA\"\n",
        "\n",
        "def Stock_case_default():\n",
        "    return \"ERROR\"\n",
        "\n",
        "def Stock_Symble(StockID):\n",
        "  StockID = StockID.strip()\n",
        "  switcher = {\n",
        "      'AAPL':       Stock_case_AAPL,\n",
        "      'Alphabet':  \tStock_case_GOOG,\n",
        "      'AMZN':   \t\tStock_case_AMZN,\n",
        "      'Apple':   \t\tStock_case_AAPL,\n",
        "      'GOOG':   \t\tStock_case_GOOG,\n",
        "      'META':   \t \tStock_case_META,\n",
        "      'Microsoft': \tStock_case_MSFT,\n",
        "      'MSFT':   \t\tStock_case_MSFT,\n",
        "      'NVDA':   \t\tStock_case_NVDA,\n",
        "      'Nvidia':   \tStock_case_NVDA,\n",
        "      'Tesla':   \t\tStock_case_TSLA,\n",
        "      'TSLA':   \t\tStock_case_TSLA\n",
        "  }\n",
        "\n",
        "  # Get the function from switcher dictionary\n",
        "  case_function = switcher.get(StockID, Stock_case_default)\n",
        "\n",
        "  # Execute the function\n",
        "  return case_function()\n",
        "\n",
        "\n"
      ],
      "metadata": {
        "id": "EgaBLive0sLk"
      },
      "execution_count": 81,
      "outputs": []
    },
    {
      "cell_type": "markdown",
      "source": [
        "# Evaluation of Twitter Sentiment"
      ],
      "metadata": {
        "id": "tGniHGe_E29l"
      }
    },
    {
      "cell_type": "markdown",
      "source": [
        "At this point I want to add the code to do the sentiment alalisis.\n",
        "\n"
      ],
      "metadata": {
        "id": "n-fnSw-Im217"
      }
    },
    {
      "cell_type": "code",
      "source": [
        "\n",
        "from transformers import AutoTokenizer, AutoModelForSequenceClassification\n",
        "from scipy.special import softmax\n",
        "\n",
        "\n",
        "# load model and tokenizer\n",
        "roberta = \"cardiffnlp/twitter-roberta-base-sentiment\"\n",
        "\n",
        "model = AutoModelForSequenceClassification.from_pretrained(roberta)\n",
        "tokenizer = AutoTokenizer.from_pretrained(roberta)\n",
        "\n",
        "labels = ['Negative', 'Neutral', 'Positive']\n",
        "\n",
        "Negative = 0\n",
        "Neutral = 1\n",
        "Positive = 2\n",
        "\n"
      ],
      "metadata": {
        "id": "75BicuOmm9rm"
      },
      "execution_count": 82,
      "outputs": []
    },
    {
      "cell_type": "code",
      "source": [
        "def remove_quotes(input_string):\n",
        "    # Remove single quotes\n",
        "    no_single_quotes = input_string.replace(\"'\", \"\")\n",
        "\n",
        "    # Remove double quotes\n",
        "    no_quotes = no_single_quotes.replace('\"', \"\")\n",
        "\n",
        "    return no_quotes"
      ],
      "metadata": {
        "id": "YIvyElIWlWVV"
      },
      "execution_count": 83,
      "outputs": []
    },
    {
      "cell_type": "code",
      "source": [
        "def remove_emojis(text):\n",
        "    # Define the emoji pattern using Unicode ranges\n",
        "    emoji_pattern = re.compile(\"[\"\n",
        "                           u\"\\U0001F600-\\U0001F64F\"  # emoticons\n",
        "                           u\"\\U0001F300-\\U0001F5FF\"  # symbols & pictographs\n",
        "                           u\"\\U0001F680-\\U0001F6FF\"  # transport & map symbols\n",
        "                           u\"\\U0001F1E0-\\U0001F1FF\"  # flags (iOS)\n",
        "                           u\"\\U00002702-\\U000027B0\"\n",
        "                           u\"\\U000024C2-\\U0001F251\"\n",
        "                           \"]+\", flags=re.UNICODE)\n",
        "\n",
        "    # Remove emojis from the text\n",
        "    return emoji_pattern.sub(r'', text)\n"
      ],
      "metadata": {
        "id": "R9OkeX5hZfZ3"
      },
      "execution_count": 84,
      "outputs": []
    },
    {
      "cell_type": "code",
      "source": [
        "import re\n",
        "\n",
        "def clean_string(input_string):\n",
        "    # Regex to match only visible characters\n",
        "    # This excludes most control characters like \\n, \\t, \\r, etc.\n",
        "    visible_chars_regex = r'[^\\x20-\\x7E]'\n",
        "\n",
        "    # Substitute non-visible characters with an empty string\n",
        "    cleaned_string = re.sub(visible_chars_regex, '', input_string)\n",
        "\n",
        "    return cleaned_string\n"
      ],
      "metadata": {
        "id": "AJ3F5PWZXwD1"
      },
      "execution_count": 85,
      "outputs": []
    },
    {
      "cell_type": "code",
      "source": [
        "def preprocesses_tweet(tweet):\n",
        "  tweet_words = []\n",
        "\n",
        "  cleaned_string = remove_emojis(tweet)\n",
        "  cleaned_string = remove_quotes(cleaned_string)\n",
        "  cleaned_string = clean_string(cleaned_string)\n",
        "\n",
        "\n",
        "  # replace\n",
        "  for word in cleaned_string.split(' '):\n",
        "    # username\n",
        "    if word.startswith('@') and len(word) > 1 :\n",
        "      word = '@user'\n",
        "\n",
        "    # http link\n",
        "    elif word.startswith('http'):\n",
        "      word = \"http\"\n",
        "\n",
        "    elif word == '':\n",
        "      continue\n",
        "\n",
        "    tweet_words.append(word)\n",
        "\n",
        "\n",
        "  tweet_proc = \" \".join(tweet_words)\n",
        "  return tweet_proc\n"
      ],
      "metadata": {
        "id": "7dWCHf6CrFur"
      },
      "execution_count": 86,
      "outputs": []
    },
    {
      "cell_type": "code",
      "source": [
        "def get_tweet_sentiment(tweet_proc):\n",
        "  # sentiment analysis\n",
        "  encoded_tweet = tokenizer(tweet_proc, return_tensors='pt')\n",
        "  # output = model(encoded_tweet['input_ids'], encoded_tweet['attention_mask'])\n",
        "  output = model(**encoded_tweet)\n",
        "\n",
        "  scores = output[0][0].detach().numpy()\n",
        "  scores = softmax(scores)\n",
        "\n",
        "  maxposition = 0\n",
        "  maxscore = 0\n",
        "\n",
        "  for i in range(len(scores)):\n",
        "    if maxscore <= scores[i]:\n",
        "      maxposition = i\n",
        "      maxscore = scores[i]\n",
        "\n",
        "  return labels[maxposition]  , scores[maxposition], maxposition, scores[0],scores[1],scores[2]\n",
        "\n",
        "\n"
      ],
      "metadata": {
        "id": "kofDI5AUtuy7"
      },
      "execution_count": 87,
      "outputs": []
    },
    {
      "cell_type": "code",
      "source": [
        "# Evaluate Tweet and and to database.\n",
        "import time\n",
        "\n",
        "#out_data = []\n",
        "loop_count = -1\n",
        "tweet_proc = \"\"\n",
        "\n",
        "\n",
        "# Need to create a tweet loop\n",
        "\n",
        "for x in data:\n",
        "  loop_count+=1\n",
        "  print(loop_count)\n",
        "  try:\n",
        "\n",
        "    tweet_proc = preprocesses_tweet(x['text'])\n",
        "    sentiment_label, sentiment_score, Sentiment, scores0,scores1,scores2 = get_tweet_sentiment(tweet_proc)\n",
        "    stock_symble_o = x['searchQuery']\n",
        "    stock_symble = Stock_Symble(x['searchQuery'])\n",
        "\n",
        "\n",
        "    date_object = datetime.strptime(x['timestamp'],  \"%Y-%m-%dT%H:%M:%S.%fZ\" )\n",
        "    date_key = date_object.strftime(\"%Y-%m-%d\")\n",
        "\n",
        "    insert_command = f\"INSERT INTO Tweets (Timestamp, DateKey, Channel, Stock, Neg_score, Neu_score, Pos_score, sentiment,Tweet_clean) VALUES ('{x['timestamp']}','{date_key}','{x['user']['username']}', '{stock_symble}','{scores0}','{scores1}','{scores2}','{Sentiment}','{tweet_proc}')\"\n",
        "    #insert_command = f\"INSERT INTO Tweets (Timestamp, Channel, Stock, Neg_score, Neu_score, Pos_score, sentiment,Tweet_clean) VALUES ('{x['timestamp']}','{x['user']['username']}', '{stock_symble}','{scores0}','{scores1}','{scores2}','{Sentiment}','{tweet_proc}')\"\n",
        "    cursor.execute(insert_command)\n",
        "\n",
        "  except Exception as e:\n",
        "    print(f\"---------------------------------------\")\n",
        "    print(f\"exception on {str(loop_count)}\")\n",
        "    print(f\"Error {e}\")\n",
        "    continue\n",
        "\n",
        "\n",
        "\n",
        "# Commit the changes to database on drive.\n",
        "conn.commit()\n",
        "\n",
        "dbexec(\"Select count(1) from Tweets\")\n"
      ],
      "metadata": {
        "id": "aWoAqEnpm-r0",
        "outputId": "3b356bbf-cae1-4799-9249-05a278044a08",
        "colab": {
          "base_uri": "https://localhost:8080/"
        }
      },
      "execution_count": 104,
      "outputs": [
        {
          "output_type": "stream",
          "name": "stdout",
          "text": [
            "0\n",
            "1\n",
            "2\n",
            "3\n",
            "4\n",
            "5\n",
            "6\n",
            "7\n",
            "8\n",
            "9\n",
            "10\n",
            "11\n",
            "12\n",
            "13\n",
            "14\n",
            "15\n",
            "16\n",
            "17\n",
            "18\n",
            "19\n",
            "20\n",
            "21\n",
            "22\n",
            "23\n",
            "24\n",
            "25\n",
            "26\n",
            "27\n",
            "28\n",
            "29\n",
            "30\n",
            "31\n",
            "32\n",
            "33\n",
            "34\n",
            "35\n",
            "36\n",
            "37\n",
            "38\n",
            "39\n",
            "40\n",
            "41\n",
            "42\n",
            "43\n",
            "44\n",
            "45\n",
            "46\n",
            "47\n",
            "48\n",
            "49\n",
            "50\n",
            "51\n",
            "52\n",
            "53\n",
            "54\n",
            "55\n",
            "56\n",
            "57\n",
            "58\n",
            "59\n",
            "60\n",
            "61\n",
            "62\n",
            "63\n",
            "64\n",
            "65\n",
            "66\n",
            "67\n",
            "68\n",
            "69\n",
            "70\n",
            "71\n",
            "72\n",
            "73\n",
            "74\n",
            "75\n",
            "76\n",
            "77\n",
            "78\n",
            "79\n",
            "80\n",
            "81\n",
            "82\n",
            "83\n",
            "84\n",
            "85\n",
            "86\n",
            "87\n",
            "88\n",
            "89\n",
            "90\n",
            "91\n",
            "92\n",
            "93\n",
            "94\n",
            "95\n",
            "96\n",
            "97\n",
            "98\n",
            "99\n",
            "100\n",
            "101\n",
            "102\n",
            "103\n",
            "104\n",
            "105\n",
            "106\n",
            "107\n",
            "108\n",
            "109\n",
            "110\n",
            "111\n",
            "112\n",
            "113\n",
            "114\n",
            "115\n",
            "116\n",
            "117\n",
            "118\n",
            "119\n",
            "120\n",
            "121\n",
            "122\n",
            "123\n",
            "124\n",
            "125\n",
            "126\n",
            "127\n",
            "128\n",
            "129\n",
            "130\n",
            "131\n",
            "132\n",
            "133\n",
            "134\n",
            "135\n",
            "136\n",
            "137\n",
            "138\n",
            "139\n",
            "140\n",
            "141\n",
            "142\n",
            "143\n",
            "144\n",
            "145\n",
            "146\n",
            "147\n",
            "148\n",
            "149\n",
            "150\n",
            "151\n",
            "152\n",
            "153\n",
            "154\n",
            "155\n",
            "156\n",
            "157\n",
            "158\n",
            "159\n",
            "160\n",
            "161\n",
            "162\n",
            "163\n",
            "164\n",
            "165\n",
            "166\n",
            "167\n",
            "168\n",
            "169\n",
            "170\n",
            "171\n",
            "172\n",
            "173\n",
            "174\n",
            "175\n",
            "176\n",
            "177\n",
            "178\n",
            "179\n",
            "180\n",
            "181\n",
            "182\n",
            "183\n",
            "184\n",
            "185\n",
            "186\n",
            "187\n",
            "188\n",
            "189\n",
            "190\n",
            "191\n",
            "192\n",
            "193\n",
            "194\n",
            "195\n",
            "196\n",
            "197\n",
            "198\n",
            "199\n",
            "200\n",
            "201\n",
            "202\n",
            "203\n",
            "204\n",
            "205\n",
            "206\n",
            "207\n",
            "208\n",
            "209\n",
            "210\n",
            "211\n",
            "212\n",
            "213\n",
            "214\n",
            "215\n",
            "216\n",
            "217\n",
            "218\n",
            "219\n",
            "220\n",
            "221\n",
            "222\n",
            "223\n",
            "224\n",
            "225\n",
            "226\n",
            "227\n",
            "228\n",
            "229\n",
            "230\n",
            "231\n",
            "232\n",
            "233\n",
            "234\n",
            "235\n",
            "236\n",
            "237\n",
            "238\n",
            "239\n",
            "240\n",
            "241\n",
            "242\n",
            "243\n",
            "244\n",
            "245\n",
            "246\n",
            "247\n",
            "248\n",
            "249\n",
            "250\n",
            "251\n",
            "252\n",
            "253\n",
            "254\n",
            "255\n",
            "256\n",
            "257\n",
            "258\n",
            "259\n",
            "260\n",
            "261\n",
            "262\n",
            "263\n",
            "264\n",
            "265\n",
            "266\n",
            "267\n",
            "268\n",
            "269\n",
            "270\n",
            "271\n",
            "272\n",
            "273\n",
            "274\n",
            "275\n",
            "276\n",
            "277\n",
            "278\n",
            "279\n",
            "280\n",
            "281\n",
            "282\n",
            "283\n",
            "284\n",
            "285\n",
            "286\n",
            "287\n",
            "288\n",
            "289\n",
            "290\n",
            "291\n",
            "(292,)\n"
          ]
        }
      ]
    },
    {
      "cell_type": "code",
      "source": [
        "cursor.execute(\"DELETE FROM Tweets\")"
      ],
      "metadata": {
        "id": "KqwJVMF_gqXe",
        "outputId": "63354b3c-366b-423f-d7d5-fc7e6dd2d1e0",
        "colab": {
          "base_uri": "https://localhost:8080/"
        }
      },
      "execution_count": 103,
      "outputs": [
        {
          "output_type": "execute_result",
          "data": {
            "text/plain": [
              "<sqlite3.Cursor at 0x7b8124149040>"
            ]
          },
          "metadata": {},
          "execution_count": 103
        }
      ]
    },
    {
      "cell_type": "code",
      "source": [
        "dbexec(\"Select Stock , count(1) from Tweets group by Stock \")\n",
        "#dbexec(\"Select count(1) from Tweets where Stock = 'ERROR' \")\n",
        "#dbexec(\"Select  * from Tweets where Stock = 'ERROR' \")\n",
        "#dbexec(\"Select   Timestamp, Channel, Stock, Neg_score, Neu_score, Pos_score, Sentiment, Tweet_orginal, Tweet_clean  from Tweets where sentiment = 0\")\n"
      ],
      "metadata": {
        "id": "GWGRS3J6zull",
        "outputId": "c221ab11-b5be-4d45-a0b3-acc1d3252716",
        "colab": {
          "base_uri": "https://localhost:8080/"
        }
      },
      "execution_count": 89,
      "outputs": [
        {
          "output_type": "stream",
          "name": "stdout",
          "text": [
            "('AAPL', 52)\n",
            "('AMZN', 39)\n",
            "('GOOG', 8)\n",
            "('META', 39)\n",
            "('MSFT', 36)\n",
            "('NVDA', 55)\n",
            "('TSLA', 63)\n"
          ]
        }
      ]
    },
    {
      "cell_type": "code",
      "source": [
        "\n",
        "\n",
        "'''\n",
        "csv_file_name = infile[:-5] + \"_out.csv\"\n",
        "\n",
        "# Open the CSV file in write mode\n",
        "with open(csv_file_name, mode='w', newline='') as csv_file:\n",
        "    # Create a CSV writer\n",
        "    csv_writer = csv.writer(csv_file)\n",
        "\n",
        "    # Write the header row based on the keys in the JSON data\n",
        "    header = out_data[0].keys()\n",
        "    csv_writer.writerow(header)\n",
        "\n",
        "    # Write each row of data from the JSON object\n",
        "    for row in out_data:\n",
        "        csv_writer.writerow(row.values())\n",
        "\n",
        "'''"
      ],
      "metadata": {
        "id": "lohpJGAryXdK"
      },
      "execution_count": null,
      "outputs": []
    },
    {
      "cell_type": "markdown",
      "source": [
        "# Aquiring Stock Prices"
      ],
      "metadata": {
        "id": "hYhakd00FjVi"
      }
    },
    {
      "cell_type": "code",
      "source": [
        "from pickle import FALSE\n",
        "# Load the CSV file we downloaded.  It contains the Stock Prices for the past few months.\n",
        "import csv\n",
        "\n",
        "# Specify the CSV file name\n",
        "csv_file_name = \"StockPrices.csv\"\n",
        "\n",
        "# Initialize an empty list to store the data\n",
        "data = []\n",
        "\n",
        "# Open the CSV file in read mode\n",
        "with open(csv_file_name, mode='r', newline='') as csv_file:\n",
        "    # Create a CSV reader\n",
        "    csv_reader = csv.reader(csv_file)\n",
        "\n",
        "    # Read the header row\n",
        "    header = next(csv_reader)\n",
        "\n",
        "    header_row = True\n",
        "\n",
        "\n",
        "    # Read the data rows\n",
        "    for row in csv_reader:\n",
        "        #data.append(row)\n",
        "\n",
        "        if header_row == True:\n",
        "          header_row = False\n",
        "          continue\n",
        "        date_object = datetime.strptime(row[0], \"%m/%d/%Y\")\n",
        "        date_key = date_object.strftime(\"%Y-%m-%d\")\n",
        "        insert_command = f'''INSERT INTO Stocks\n",
        "                        ( Date,DateKey,\n",
        "                          AAPL_C,\tAMZN_C,\tGOOG_C,\tMETA_C,\tMSFT_C,\tNVDA_C,\tTSLA_C,\n",
        "                          AAPL_H,\tAMZN_H,\tGOOG_H,\tMETA_H,\tMSFT_H,\tNVDA_H,\tTSLA_H,\n",
        "                          AAPL_L,\tAMZN_L,\tGOOG_L,\tMETA_L,\tMSFT_L,\tNVDA_L,\tTSLA_L,\n",
        "                          AAPL_O,\tAMZN_O,\tGOOG_O,\tMETA_O,\tMSFT_O,\tNVDA_O,\tTSLA_O,\n",
        "                          AAPL_V,\tAMZN_V,\tGOOG_V,\tMETA_V,\tMSFT_V,\tNVDA_V,\tTSLA_V\n",
        "                        )\n",
        "                      VALUES\n",
        "                        (\n",
        "                          '{date_object}','{date_key}',\n",
        "                          '{row[1]}',\t'{row[2]}',\t  '{row[3]}',\t  '{row[4]}',\t  '{row[5]}',\t  '{row[6]}',   '{row[7]}',\n",
        "                          '{row[15]}',\t'{row[16]}',\t'{row[17]}',\t'{row[18]}',\t'{row[19]}',\t'{row[20]}',\t'{row[21]}',\n",
        "                          '{row[22]}',\t'{row[23]}',\t'{row[24]}',\t'{row[25]}',\t'{row[26]}',\t'{row[27]}',\t'{row[28]}',\n",
        "                          '{row[29]}',\t'{row[30]}',\t'{row[31]}',\t'{row[32]}',\t'{row[33]}',\t'{row[34]}',\t'{row[35]}',\n",
        "                          '{row[43]}',\t'{row[44]}',\t'{row[45]}',\t'{row[46]}',\t'{row[47]}',\t'{row[48]}',\t'{row[49]}'\n",
        "                        )'''\n",
        "        cursor.execute(insert_command)\n",
        "\n",
        "\n",
        "# Display the loaded data\n",
        "#for row in data:\n",
        "#    print(row)\n",
        "\n",
        "\n",
        "dbexec(\"Select count(1) from Stocks\")\n"
      ],
      "metadata": {
        "colab": {
          "base_uri": "https://localhost:8080/"
        },
        "id": "kgINSPpyWCQ3",
        "outputId": "7e79ba28-e65e-46a2-aff1-774ef4ced5fd"
      },
      "execution_count": 90,
      "outputs": [
        {
          "output_type": "stream",
          "name": "stdout",
          "text": [
            "(128,)\n"
          ]
        }
      ]
    },
    {
      "cell_type": "code",
      "source": [
        "#dbexec(\"DELETE FROM Stocks \")\n"
      ],
      "metadata": {
        "id": "xYqkBwj1lm40"
      },
      "execution_count": 47,
      "outputs": []
    },
    {
      "cell_type": "code",
      "source": [
        "dbexec(\"Select  * from tweets  LIMIT 10\")\n",
        "dbexec(\"Select  * from Stocks  LIMIT 10\")"
      ],
      "metadata": {
        "id": "P-M7oDhhkprh",
        "outputId": "d33e0f9a-ab93-47a8-8a63-10ef59c09b55",
        "colab": {
          "base_uri": "https://localhost:8080/"
        }
      },
      "execution_count": 105,
      "outputs": [
        {
          "output_type": "stream",
          "name": "stdout",
          "text": [
            "('2023-10-17T13:21:00.000Z', '2023-10-17', '@Stocktwits', 'NVDA', 0.47528815269470215, 0.4988061189651489, 0.025905678048729897, 1, None, 'Nvidia stock put on slides this morning after reports drop that the Biden administration is tightening restrictions on Chinas ability to buy advanced semiconductors.$NVDA -3.75%')\n",
            "('2023-10-27T13:47:00.000Z', '2023-10-27', '@Stocktwits', 'AMZN', 0.004496750887483358, 0.8170449733734131, 0.17845827341079712, 1, None, 'Top Trending stocks & crypto on Stocktwits this morning:1 $AMZN 2 $SQ3 $INTC4 $F5 $ENPH6 $CRSP7 $SNY8 $DXCM9 $ABBV $CPRX')\n",
            "('2023-10-25T13:47:00.000Z', '2023-10-25', '@Stocktwits', 'MSFT', 0.004904467146843672, 0.7698082327842712, 0.2252873033285141, 1, None, 'Top Trending stocks & crypto on Stocktwits this morning:1 $MSFT2 $GOOGL 3 $ASPA4 $AVXL5 $SNAP6 $GOOG7 $BA8 $PYPL9 $TDOC $PEPE')\n",
            "('2023-10-24T21:12:00.000Z', '2023-10-24', '@Stocktwits', 'MSFT', 0.004431292414665222, 0.7569287419319153, 0.23864008486270905, 1, None, 'Top Trending stocks & crypto on Stocktwits this evening:1 $MSFT2 $GOOGL3 $SNAP4 $GOOG5 $COIN6 $TDOC7 $NIO8 $V9 $MARA $IMGN')\n",
            "('2023-10-24T17:58:00.000Z', '2023-10-24', '@Stocktwits', 'MSFT', 0.01692711003124714, 0.755919337272644, 0.227153480052948, 1, None, 'Huge day of earnings after market close ft. $GOOG, $V, $SNAP, & $MSFTHere are the implied moves, estimates, and history for each:')\n",
            "('2023-10-23T13:46:00.000Z', '2023-10-23', '@Stocktwits', 'MSFT', 0.004897756036370993, 0.8223503232002258, 0.17275188863277435, 1, None, 'Top Trending stocks & crypto on Stocktwits this morning:1 $MARA2 $DOGE3 $HARP4 $MSFT5 $CVX6 $FMC7 $RVMD8 $HES9 $PSFE $ROIV')\n",
            "('2023-10-20T16:26:00.000Z', '2023-10-20', '@Stocktwits', 'MSFT', 0.023348914459347725, 0.7254972457885742, 0.2511539161205292, 1, None, 'Epic ad from $MSFT Which company should use the Sphere next?')\n",
            "('2023-10-13T13:33:00.000Z', '2023-10-13', '@Stocktwits', 'MSFT', 0.04247581958770752, 0.6918253898620605, 0.26569876074790955, 1, None, 'Just In: After 19 months the $MSFT & $ATVI acquisition has been approved by regulators.Trading of $ATVI has been halted.')\n",
            "('2023-10-11T20:40:00.000Z', '2023-10-11', '@Stocktwits', 'MSFT', 0.004152050707489252, 0.8165261149406433, 0.17932184040546417, 1, None, 'Top Trending stocks & crypto on Stocktwits this evening:1 $TPST2 $LKNCY3 $LLY4 $SPY5 $MSFT6 $BIRK7 $AKRO8 $REQ9 $NVO $HSDT')\n",
            "('2023-08-30T15:53:00.000Z', '2023-08-30', '@Stocktwits', 'MSFT', 0.005058817565441132, 0.5004071593284607, 0.4945340156555176, 1, None, 'OpenAi reportedly reaching $1 billion in annual revenue $MSFT')\n",
            "(1, '2023-05-22 00:00:00', '2023-05-22', 173.73619079589844, 115.01000213623047, 125.87000274658203, 248.32000732421875, 319.85223388671875, 311.70208740234375, 188.8699951171875, 174.24484266444423, 116.7699966430664, 127.05000305175781, 253.57000732421875, 321.25640859061883, 315.1414507204986, 189.32000732421875, 172.98818766513122, 114.25, 123.44999694824219, 245.1199951171875, 316.69535569281544, 306.74298695966434, 180.11000061035156, 173.5167753267537, 116.7699966430664, 123.51000213623047, 245.41000366210938, 317.2829129845606, 308.9525983, 180.6999969482422, 43570900.0, 70741100.0, 29760200.0, 27738500.0, 24115700.0, 37200000.0, 132001400.0, None, None, None, None, None, None, None, None, None, None, None, None, None, None, None, None, None, None, None, None, None)\n",
            "(2, '2023-05-23 00:00:00', '2023-05-23', 171.1032257080078, 114.98999786376953, 123.29000091552734, 246.74000549316406, 313.95672607421875, 306.8229675292969, 185.77000427246094, 172.9183873331977, 117.13999938964844, 125.41999816894531, 251.61000061035156, 321.38587795275606, 312.8218523568658, 192.9600067138672, 170.82397241461908, 113.77999877929688, 123.05000305175781, 246.64999389648438, 313.9467576889271, 306.2530661478204, 185.25999450683594, 172.66905294851753, 114.2699966430664, 124.93000030517578, 246.80999755859375, 318.70699597129754, 309.9423827577277, 186.1999969482422, 50747300.0, 67576300.0, 24477900.0, 17748100.0, 30797200.0, 35625300.0, 156952100.0, None, None, None, None, None, None, None, None, None, None, None, None, None, None, None, None, None, None, None, None, None)\n",
            "(3, '2023-05-24 00:00:00', '2023-05-24', 171.38247680664062, 116.75, 121.63999938964844, 249.2100067138672, 312.55255126953125, 305.3232727050781, 182.89999389648438, 171.96093439787035, 117.33999633789062, 122.75, 249.58999633789062, 315.1915901004615, 306.0131469608124, 184.22000122070312, 170.06599918583325, 115.0199966430664, 120.75, 244.9499969482422, 311.3176567590552, 298.0046252601897, 178.22000122070312, 170.6344736621792, 115.3499984741211, 121.87999725341797, 245.27999877929688, 313.42891821521795, 302.0438832697813, 182.22999572753906, 45143500.0, 63487900.0, 23087900.0, 17724300.0, 23384900.0, 72141900.0, 137605100.0, None, None, None, None, None, None, None, None, None, None, None, None, None, None, None, None, None, None, None, None, None)\n",
            "(4, '2023-05-25 00:00:00', '2023-05-25', 172.5294189453125, 115.0, 124.3499984741211, 252.69000244140625, 324.5726623535156, 379.7294006347656, 184.47000122070312, 173.43698450104648, 116.87000274658203, 125.9800033569336, 255.6199951171875, 325.54859158980713, 394.72661283221936, 186.77999877929688, 171.2328771566265, 114.30999755859375, 122.9000015258789, 249.1699981689453, 318.6771222202174, 366.28191867152594, 180.5800018310547, 171.9509613713399, 116.62999725341797, 125.20999908447266, 253.39999389648438, 321.90371835744315, 385.1584146392927, 186.5399932861328, 56058300.0, 66496700.0, 33812700.0, 22371400.0, 43301700.0, 154391100.0, 96870700.0, None, None, None, None, None, None, None, None, None, None, None, None, None, None, None, None, None, None, None, None, None)\n",
            "(5, '2023-05-26 00:00:00', '2023-05-26', 174.96290588378906, 120.11000061035156, 125.43000030517578, 262.0400085449219, 331.51385498046875, 389.3876037597656, 193.1699981689453, 175.30201219099396, 121.5, 126.0, 262.30999755859375, 332.0217259860278, 391.62720816615507, 198.60000610351562, 172.64909085590446, 116.0199966430664, 123.29000091552734, 252.7100067138672, 322.5410923880897, 375.4302070040923, 184.52999877929688, 172.85853842158505, 116.04000091552734, 124.06500244140625, 252.92999267578125, 322.6804978277701, 378.82956895447785, 184.6199951171875, 54835000.0, 96779900.0, 25154700.0, 25727200.0, 36630600.0, 71439700.0, 162061500.0, None, None, None, None, None, None, None, None, None, None, None, None, None, None, None, None, None, None, None, None, None)\n",
            "(6, '2023-05-30 00:00:00', '2023-05-30', 176.82794189453125, 121.66000366210938, 124.63999938964844, 262.5199890136719, 329.8407897949219, 401.0354309082031, 201.16000366210938, 178.51344470539902, 122.91999816894531, 126.37999725341797, 268.6499938964844, 334.35206183888727, 419.3020545849841, 204.47999572753906, 176.09988978020135, 119.86000061035156, 122.88999938964844, 261.2900085449219, 329.1536397810168, 399.41573690003463, 197.52999877929688, 176.48885079669677, 122.37000274658203, 126.29000091552734, 265.25, 333.8441908135725, 405.8745581, 200.10000610351562, 55964400.0, 64314800.0, 27230700.0, 23816500.0, 29503100.0, 92340100.0, 128818700.0, None, None, None, None, None, None, None, None, None, None, None, None, None, None, None, None, None, None, None, None, None)\n",
            "(7, '2023-05-31 00:00:00', '2023-05-31', 176.77806091308594, 120.58000183105469, 123.37000274658203, 264.7200012207031, 327.0324401855469, 378.2696838378906, 203.92999267578125, 178.8724756204774, 122.04000091552734, 124.9000015258789, 265.0, 334.55121609579794, 402.87512606491686, 203.9499969482422, 176.2893600898515, 119.16999816894531, 123.0999984741211, 258.45001220703125, 325.9767942981809, 378.14971102116505, 195.1199951171875, 176.85784973431777, 121.44999694824219, 123.69999694824219, 260.0, 330.9163113868118, 394.8066185091484, 199.77999877929688, 99625300.0, 72800800.0, 41548800.0, 25473700.0, 45950600.0, 100258000.0, 150711700.0, None, None, None, None, None, None, None, None, None, None, None, None, None, None, None, None, None, None, None, None, None)\n",
            "(8, '2023-06-01 00:00:00', '2023-06-01', 179.61050415039062, 122.7699966430664, 124.37000274658203, 272.6099853515625, 331.2051086425781, 397.6261291503906, 207.52000427246094, 179.64042305750914, 123.48999786376953, 125.04000091552734, 274.0, 332.1511935212399, 400.4255967732554, 209.8000030517578, 176.45891404316637, 119.93000030517578, 123.30000305175781, 265.8900146484375, 323.3776162876595, 383.32876743785823, 199.3699951171875, 177.22686816825382, 120.69000244140625, 123.5, 265.8999938964844, 324.5826056662031, 384.8185113799441, 202.58999633789062, 68901800.0, 54375100.0, 25017700.0, 25609500.0, 26773900.0, 63587300.0, 148029900.0, None, None, None, None, None, None, None, None, None, None, None, None, None, None, None, None, None, None, None, None, None)\n",
            "(9, '2023-06-02 00:00:00', '2023-06-02', 180.4682159423828, 124.25, 125.2300033569336, 272.6099853515625, 334.0134277, 393.1969299316406, 213.97000122070312, 181.29600788604444, 126.38999938964844, 126.74500274658203, 275.3500061035156, 336.1047522712349, 404.92476179457054, 217.25, 178.78271314778428, 124.0199966430664, 124.3499984741211, 271.1199951171875, 331.17520374802353, 390.5074272209907, 209.75, 180.54800476783768, 124.91999816894531, 124.48999786376953, 272.6600036621094, 332.86818799010445, 400.8955116816343, 210.14999389648438, 61945900.0, 61215000.0, 19362400.0, 19405300.0, 25864000.0, 48165500.0, 164129000.0, None, None, None, None, None, None, None, None, None, None, None, None, None, None, None, None, None, None, None, None, None)\n",
            "(10, '2023-06-05 00:00:00', '2023-06-05', 179.10186767578125, 125.30000305175781, 126.62999725341797, 271.3900146484375, 334.5512390136719, 391.637207, 217.61000061035156, 184.45756510918994, 125.80000305175781, 127.98999786376953, 275.57000732421875, 337.16040316886273, 395.5764773728532, 221.2899932861328, 177.5659594241951, 123.02999877929688, 124.37999725341797, 269.55999755859375, 333.27653170153974, 386.9980850652036, 214.52000427246094, 182.1437500536452, 123.36000061035156, 124.61000061035156, 270.29998779296875, 333.8342142511338, 389.0176987406413, 217.8000030517578, 121946500.0, 47950100.0, 22672500.0, 20742900.0, 21307100.0, 39609400.0, 151143100.0, None, None, None, None, None, None, None, None, None, None, None, None, None, None, None, None, None, None, None, None, None)\n"
          ]
        }
      ]
    },
    {
      "cell_type": "code",
      "source": [
        "# Update Stocks table with avages\n",
        "\n",
        "update_query = '''\n",
        "    UPDATE Stocks\n",
        "    SET AAPL_N = (\n",
        "        SELECT avg(Neg_score)\n",
        "        FROM Tweets as t\n",
        "        WHERE Stocks.DateKey = t.DateKey AND t.Stock = 'AAPL'\n",
        "    ),\n",
        "    AAPL_U = (\n",
        "        SELECT avg(Neu_score)\n",
        "        FROM Tweets as t\n",
        "        WHERE Stocks.DateKey = t.DateKey AND t.Stock = 'AAPL'\n",
        "    ),\n",
        "    AAPL_P = (\n",
        "        SELECT avg(Pos_score)\n",
        "        FROM Tweets as t\n",
        "        WHERE Stocks.DateKey = t.DateKey AND t.Stock = 'AAPL'\n",
        "    ),\n",
        "    AMZN_N = (\n",
        "        SELECT avg(Neg_score)\n",
        "        FROM Tweets as t\n",
        "        WHERE Stocks.DateKey = t.DateKey AND t.Stock = 'AMZN'\n",
        "    ),\n",
        "    AAPL_U = (\n",
        "        SELECT avg(Neu_score)\n",
        "        FROM Tweets as t\n",
        "        WHERE Stocks.DateKey = t.DateKey AND t.Stock = 'AMZN'\n",
        "    ),\n",
        "    AAPL_P = (\n",
        "        SELECT avg(Pos_score)\n",
        "        FROM Tweets as t\n",
        "        WHERE Stocks.DateKey = t.DateKey AND t.Stock = 'AMZN'\n",
        "    ),\n",
        "    GOOG_N = (\n",
        "        SELECT avg(Neg_score)\n",
        "        FROM Tweets as t\n",
        "        WHERE Stocks.DateKey = t.DateKey AND t.Stock = 'GOOG'\n",
        "    ),\n",
        "    GOOG_U = (\n",
        "        SELECT avg(Neu_score)\n",
        "        FROM Tweets as t\n",
        "        WHERE Stocks.DateKey = t.DateKey AND t.Stock = 'GOOG'\n",
        "    ),\n",
        "    GOOG_P = (\n",
        "        SELECT avg(Pos_score)\n",
        "        FROM Tweets as t\n",
        "        WHERE Stocks.DateKey = t.DateKey AND t.Stock = 'GOOG'\n",
        "    ),\n",
        "    META_N = (\n",
        "        SELECT avg(Neg_score)\n",
        "        FROM Tweets as t\n",
        "        WHERE Stocks.DateKey = t.DateKey AND t.Stock = 'META'\n",
        "    ),\n",
        "    META_U = (\n",
        "        SELECT avg(Neu_score)\n",
        "        FROM Tweets as t\n",
        "        WHERE Stocks.DateKey = t.DateKey AND t.Stock = 'META'\n",
        "    ),\n",
        "    META_P = (\n",
        "        SELECT avg(Pos_score)\n",
        "        FROM Tweets as t\n",
        "        WHERE Stocks.DateKey = t.DateKey AND t.Stock = 'META'\n",
        "    ),\n",
        "    MSFT_N = (\n",
        "        SELECT avg(Neg_score)\n",
        "        FROM Tweets as t\n",
        "        WHERE Stocks.DateKey = t.DateKey AND t.Stock = 'MSFT'\n",
        "    ),\n",
        "    MSFT_U = (\n",
        "        SELECT avg(Neu_score)\n",
        "        FROM Tweets as t\n",
        "        WHERE Stocks.DateKey = t.DateKey AND t.Stock = 'MSFT'\n",
        "    ),\n",
        "    MSFT_P = (\n",
        "        SELECT avg(Pos_score)\n",
        "        FROM Tweets as t\n",
        "        WHERE Stocks.DateKey = t.DateKey AND t.Stock = 'MSFT'\n",
        "    ),\n",
        "    NVDA_N = (\n",
        "        SELECT avg(Neg_score)\n",
        "        FROM Tweets as t\n",
        "        WHERE Stocks.DateKey = t.DateKey AND t.Stock = 'NVDA'\n",
        "    ),\n",
        "    NVDA_U = (\n",
        "        SELECT avg(Neu_score)\n",
        "        FROM Tweets as t\n",
        "        WHERE Stocks.DateKey = t.DateKey AND t.Stock = 'NVDA'\n",
        "    ),\n",
        "    NVDA_P = (\n",
        "        SELECT avg(Pos_score)\n",
        "        FROM Tweets as t\n",
        "        WHERE Stocks.DateKey = t.DateKey AND t.Stock = 'NVDA'\n",
        "    ),\n",
        "    TSLA_N = (\n",
        "        SELECT avg(Neg_score)\n",
        "        FROM Tweets as t\n",
        "        WHERE Stocks.DateKey = t.DateKey AND t.Stock = 'TSLA'\n",
        "    ),\n",
        "    TSLA_U = (\n",
        "        SELECT avg(Neu_score)\n",
        "        FROM Tweets as t\n",
        "        WHERE Stocks.DateKey = t.DateKey AND t.Stock = 'TSLA'\n",
        "    ),\n",
        "    TSLA_P = (\n",
        "        SELECT avg(Pos_score)\n",
        "        FROM Tweets as t\n",
        "        WHERE Stocks.DateKey = t.DateKey AND t.Stock = 'TSLA'\n",
        "    );\n",
        "'''\n",
        "\n",
        "dbexec(update_query)\n",
        "\n",
        "\n"
      ],
      "metadata": {
        "id": "Vu1HgD3NTooB"
      },
      "execution_count": 128,
      "outputs": []
    },
    {
      "cell_type": "code",
      "source": [
        "\n",
        "#check\n",
        "\n",
        "update_query = '''\n",
        "    select\n",
        "    AAPL_N,\tAMZN_N,\tGOOG_N,\tMETA_N,\tMSFT_N,\tNVDA_N,\tTSLA_N,\n",
        "\t  AAPL_U,\tAMZN_U,\tGOOG_U,\tMETA_U,\tMSFT_U,\tNVDA_U,\tTSLA_U,\n",
        "\t  AAPL_P,\tAMZN_P,\tGOOG_P,\tMETA_P,\tMSFT_P,\tNVDA_P,\tTSLA_P\n",
        "    from Stocks\n",
        "    ;\n",
        "'''\n",
        "dbexec(update_query)\n",
        "\n"
      ],
      "metadata": {
        "id": "Bsy_zXqZiyA3",
        "outputId": "482b7b9d-c7b0-4358-ccca-d0d838205a21",
        "colab": {
          "base_uri": "https://localhost:8080/"
        }
      },
      "execution_count": 129,
      "outputs": [
        {
          "output_type": "stream",
          "name": "stdout",
          "text": [
            "(None, None, None, None, None, None, None, None, None, None, None, None, None, None, None, None, None, None, None, None, None)\n",
            "(None, None, None, None, None, None, None, None, None, None, None, None, None, None, None, None, None, None, None, None, None)\n",
            "(None, None, None, None, None, None, None, None, None, None, None, None, None, None, None, None, None, None, None, None, None)\n",
            "(None, None, None, None, None, None, None, None, None, None, None, None, None, None, None, None, None, None, None, None, None)\n",
            "(None, None, None, None, None, None, None, None, None, None, None, None, None, None, None, None, None, None, None, None, None)\n",
            "(None, None, None, None, None, None, None, None, None, None, None, None, None, None, None, None, None, None, None, None, None)\n",
            "(None, None, None, None, None, None, None, None, None, None, None, None, None, None, None, None, None, None, None, None, None)\n",
            "(None, None, None, None, None, None, None, None, None, None, None, None, None, None, None, None, None, None, None, None, None)\n",
            "(None, None, None, None, None, None, None, None, None, None, None, None, None, None, None, None, None, None, None, None, None)\n",
            "(None, None, None, None, None, None, None, None, None, None, None, None, None, None, None, None, None, None, None, None, None)\n",
            "(None, None, None, None, None, None, None, None, None, None, None, None, None, None, None, None, None, None, None, None, None)\n",
            "(None, None, None, None, None, None, None, None, None, None, None, None, None, None, None, None, None, None, None, None, None)\n",
            "(None, None, None, None, None, None, None, None, None, None, None, None, None, None, None, None, None, None, None, None, None)\n",
            "(None, None, None, None, None, None, None, None, None, None, None, None, None, None, None, None, None, None, None, None, None)\n",
            "(None, None, None, None, None, None, None, None, None, None, None, None, None, None, None, None, None, None, None, None, None)\n",
            "(None, None, None, None, None, None, None, None, None, None, None, None, None, None, None, None, None, None, None, None, None)\n",
            "(None, None, None, None, None, None, None, None, None, None, None, None, None, None, None, None, None, None, None, None, None)\n",
            "(None, None, None, None, None, None, None, None, None, None, None, None, None, None, None, None, None, None, None, None, None)\n",
            "(None, None, None, None, None, None, None, None, None, None, None, None, None, None, None, None, None, None, None, None, None)\n",
            "(None, None, None, None, None, None, None, None, None, None, None, None, None, None, None, None, None, None, None, None, None)\n",
            "(None, None, None, None, None, None, None, None, None, None, None, None, None, None, None, None, None, None, None, None, None)\n",
            "(None, None, None, None, None, None, None, None, None, None, None, None, None, None, None, None, None, None, None, None, None)\n",
            "(None, None, None, None, None, None, None, None, None, None, None, None, None, None, None, None, None, None, None, None, None)\n",
            "(None, None, None, None, None, None, None, None, None, None, None, None, None, None, None, None, None, None, None, None, None)\n",
            "(None, None, None, None, None, None, None, None, None, None, None, None, None, None, None, None, None, None, None, None, None)\n",
            "(None, None, None, None, None, None, None, None, None, None, None, None, None, None, None, None, None, None, None, None, None)\n",
            "(None, None, None, None, None, None, None, None, None, None, None, None, None, None, None, None, None, None, None, None, None)\n",
            "(None, None, None, None, None, None, None, None, None, None, None, None, None, None, None, None, None, None, None, None, None)\n",
            "(None, None, None, None, None, None, 0.03226990237211188, None, None, None, None, None, None, 0.33657466371854144, None, None, None, None, None, None, 0.6311554312705994)\n",
            "(None, None, None, 0.36764549650251865, 0.01784358359873295, None, 0.020639579743146896, None, None, None, 0.5987754315137863, 0.5347026586532593, None, 0.8521525263786316, None, None, None, 0.033579098992049694, 0.44745370745658875, None, 0.12720796465873718)\n",
            "(None, None, None, 0.0765914215395848, None, None, None, None, None, None, 0.772215723991394, None, None, None, None, None, None, 0.15119286874930063, None, None, None)\n",
            "(None, None, None, 0.36688223760575056, None, None, 0.023210663348436356, None, None, None, 0.35079918801784515, None, None, 0.3688637465238571, None, None, None, 0.28231856661538285, None, None, 0.6079255739847819)\n",
            "(None, None, None, None, None, None, None, None, None, None, None, None, None, None, None, None, None, None, None, None, None)\n",
            "(None, 0.034416671842336655, None, None, None, None, 0.08677711337804794, 0.6346945762634277, None, None, None, None, None, 0.8602019548416138, 0.3308887481689453, None, None, None, None, None, 0.0530209094285965)\n",
            "(None, None, None, 0.004326099646277726, 0.026565952226519585, 0.0056187864392995834, None, None, None, None, 0.3437301367521286, 0.6142092943191528, 0.45655831694602966, None, None, None, None, 0.6519437730312347, 0.35922470688819885, 0.5378229022026062, None)\n",
            "(None, None, None, None, None, None, None, None, None, None, None, None, None, None, None, None, None, None, None, None, None)\n",
            "(None, None, None, None, 0.010054543614387512, 0.0016327492194250226, None, None, None, None, None, 0.8981834053993225, 0.2157387137413025, None, None, None, None, None, 0.09176207333803177, 0.7826284766197205, None)\n",
            "(None, None, None, None, 0.5614808201789856, None, 0.1967693269252777, None, None, None, None, 0.41958314180374146, None, 0.6731031537055969, None, None, None, None, 0.01893598772585392, None, 0.13012751936912537)\n",
            "(None, None, None, None, 0.0011976608075201511, None, None, None, None, None, None, 0.1144084557890892, None, None, None, None, None, None, 0.8843939304351807, None, None)\n",
            "(0.03976590558886528, None, None, None, 0.03297710791230202, None, 0.01334744185442105, None, None, None, None, 0.8954257369041443, None, 0.4219602346420288, None, None, None, None, 0.07159721106290817, None, 0.5646923184394836)\n",
            "(None, None, None, None, 0.17175564169883728, None, None, None, None, None, None, 0.7405397891998291, None, None, None, None, None, None, 0.08770457655191422, None, None)\n",
            "(None, None, None, 0.0030718122143298388, None, None, 0.021006818860769272, None, None, None, 0.6419258117675781, None, None, 0.5030564069747925, None, None, None, 0.35500243306159973, None, None, 0.47593680024147034)\n",
            "(None, None, None, None, None, None, 0.04722869803663343, None, None, None, None, None, None, 0.5303566368917624, None, None, None, None, None, None, 0.4224146505196889)\n",
            "(None, None, 0.005327991442754865, None, None, None, 0.3905648775398731, None, None, 0.3611500635743141, None, None, None, 0.23299916088581085, None, None, 0.6335219442844391, None, None, None, 0.3764359652996063)\n",
            "(None, 0.021927248686552048, None, 0.2247381346533075, 0.2577728346805088, None, None, 0.7360128164291382, None, None, 0.43591322004795074, 0.27395001240074635, None, None, 0.24205996096134186, None, None, 0.3393486440181732, 0.46827714843675494, None, None)\n",
            "(None, None, None, 0.019076604046858847, None, None, None, None, None, None, 0.3012465834617615, None, None, None, None, None, None, 0.679676815867424, None, None, None)\n",
            "(None, None, None, None, None, 0.6825894117355347, None, None, None, None, None, None, 0.2875160574913025, None, None, None, None, None, None, 0.029894540086388588, None)\n",
            "(None, 0.0015756796346977353, None, None, None, None, None, 0.21458783745765686, None, None, None, None, None, None, 0.7838364243507385, None, None, None, None, None, None)\n",
            "(None, None, None, None, None, None, None, None, None, None, None, None, None, None, None, None, None, None, None, None, None)\n",
            "(0.2399677864741534, None, None, 0.0056723300367593765, None, None, None, None, None, None, 0.32482603192329407, None, None, None, None, None, None, 0.6695016622543335, None, None, None)\n",
            "(0.08442534157074988, 0.017708078084979206, None, None, 0.005161017179489136, None, None, 0.4673694342374802, None, None, None, 0.591935932636261, None, None, 0.514922471344471, None, None, None, 0.40290307998657227, None, None)\n",
            "(0.36054810509085655, 0.03656046759958068, None, None, None, None, None, 0.32419634610414505, None, None, None, None, None, None, 0.6392432053883871, None, None, None, None, None, None)\n",
            "(None, None, None, None, None, None, None, None, None, None, None, None, None, None, None, None, None, None, None, None, None)\n",
            "(None, 0.02032942697405815, None, 0.0020019197836518288, 0.3390566110610962, None, None, 0.4993616044521332, None, None, 0.013530256226658821, 0.5812346935272217, None, None, 0.48030897974967957, None, None, 0.9844678044319153, 0.07970871031284332, None, None)\n",
            "(None, None, None, None, None, None, None, None, None, None, None, None, None, None, None, None, None, None, None, None, None)\n",
            "(None, None, None, None, None, None, 0.07282755523920059, None, None, None, None, None, None, 0.5220622420310974, None, None, None, None, None, None, 0.4051102101802826)\n",
            "(None, None, None, 0.866766631603241, None, None, None, None, None, None, 0.11712408065795898, None, None, None, None, None, None, 0.016109300777316093, None, None, None)\n",
            "(None, None, None, None, None, 0.01626955415122211, 0.04320695996284485, None, None, None, None, None, 0.36167838672796887, 0.3954762816429138, None, None, None, None, None, 0.6220520337422689, 0.5613167881965637)\n",
            "(None, None, None, None, None, 0.22899815253913403, None, None, None, None, None, None, 0.5693442076444626, None, None, None, None, None, None, 0.20165764912962914, None)\n",
            "(None, None, None, None, None, None, None, None, None, None, None, None, None, None, None, None, None, None, None, None, None)\n",
            "(None, None, None, 0.28372435085475445, None, None, 0.4730999767780304, None, None, None, 0.2557075060904026, None, None, 0.5069189071655273, None, None, None, 0.4605681151151657, None, None, 0.019981106743216515)\n",
            "(0.015719102695584297, 0.7622451782226562, None, None, None, 0.05913202464580536, 0.322615385055542, 0.21880441904067993, None, None, None, None, 0.5573972463607788, 0.5697503685951233, 0.018950430676341057, None, None, None, None, 0.38347071409225464, 0.1076342836022377)\n",
            "(0.002076707547530532, None, None, None, None, 0.07149535232955324, 0.0014836437767371535, None, None, None, None, None, 0.47044130467942785, 0.03082607127726078, None, None, None, None, None, 0.4580633427415575, 0.9676902890205383)\n",
            "(None, 0.07826775312423706, 0.04273894801735878, None, 0.019722442142665386, 0.0043721909169107676, 0.029553774744272232, 0.7561045289039612, None, 0.6425149440765381, None, 0.640254020690918, 0.24401058877507845, 0.9057429432868958, 0.16562773287296295, None, 0.31474611163139343, None, 0.34002355486154556, 0.7516172528266907, 0.06470321863889694)\n",
            "(None, None, None, None, 0.027362846303731203, 0.0238580604782328, None, None, None, None, None, 0.2585804909467697, 0.38923913799226284, None, None, None, None, None, 0.714056670665741, 0.5869027889437146, None)\n",
            "(None, None, None, None, None, 0.1534064580569975, None, None, None, None, None, None, 0.4100627191364765, None, None, None, None, None, None, 0.43653080631047486, None)\n",
            "(0.06483335793018341, None, None, None, None, 0.26655498147010803, None, None, None, None, None, None, 0.6032913327217102, None, None, None, None, None, None, 0.13015371561050415, None)\n",
            "(None, 0.0011000115191563964, None, None, 0.007590945810079575, 0.048831094056367874, None, 0.08408466726541519, None, None, None, 0.6380730271339417, 0.2939583957195282, None, 0.914815366268158, None, None, None, 0.3543359637260437, 0.6572104692459106, None)\n",
            "(None, None, None, 0.15373440086841583, None, None, 0.0407780185341835, None, None, None, 0.7867053151130676, None, None, 0.8584228754043579, None, None, None, 0.059560250490903854, None, None, 0.10079901665449142)\n",
            "(None, None, None, None, 0.005058817565441132, None, None, None, None, None, None, 0.5004071593284607, None, None, None, None, None, None, 0.4945340156555176, None, None)\n",
            "(None, None, None, None, None, None, None, None, None, None, None, None, None, None, None, None, None, None, None, None, None)\n",
            "(None, None, None, None, None, 0.37971264123916626, 0.0027988518122583628, None, None, None, None, None, 0.5679078102111816, 0.060338493436574936, None, None, None, None, None, 0.05237951874732971, 0.9368626475334167)\n",
            "(None, None, None, None, None, 0.006762404926121235, None, None, None, None, None, None, 0.197503000497818, None, None, None, None, None, None, 0.7957345247268677, None)\n",
            "(0.4201388657093048, None, None, None, None, None, None, None, None, None, None, None, None, None, None, None, None, None, None, None, None)\n",
            "(0.14420755207538605, None, None, None, None, 0.0029764987993985415, 0.009425992146134377, None, None, None, None, None, 0.04540181905031204, 0.3804154098033905, None, None, None, None, None, 0.9516217112541199, 0.6101585626602173)\n",
            "(0.2969652730971575, None, None, None, None, None, None, None, None, None, None, None, None, None, None, None, None, None, None, None, None)\n",
            "(0.1686313875252381, 0.022737398860044777, None, None, None, None, 0.007878415426239372, 0.539060115814209, None, None, None, None, None, 0.4510960102081299, 0.4382025171071291, None, None, None, None, None, 0.5410255886614322)\n",
            "(0.17165832929146876, None, None, None, None, None, 0.3688158045212428, None, None, None, None, None, None, 0.5315321683883667, None, None, None, None, None, None, 0.09965203019479911)\n",
            "(0.29005007504019886, None, None, None, None, None, 0.04640035331249237, None, None, None, None, None, None, 0.6172620207071304, None, None, None, None, None, None, 0.336337573826313)\n",
            "(None, None, None, None, None, None, None, None, None, None, None, None, None, None, None, None, None, None, None, None, None)\n",
            "(0.001163337379693985, None, None, None, 0.017139818519353867, None, None, None, None, None, None, 0.1233394593000412, None, None, None, None, None, None, 0.8595207333564758, None, None)\n",
            "(None, None, None, None, None, None, 0.12965188920497894, None, None, None, None, None, None, 0.4975424110889435, None, None, None, None, None, None, 0.372805655002594)\n",
            "(0.43824413418769836, None, None, None, None, None, None, None, None, None, None, None, None, None, None, None, None, None, None, None, None)\n",
            "(0.28186856489628553, None, None, None, None, None, 0.01965412124991417, None, None, None, None, None, None, 0.3435450494289398, None, None, None, None, None, None, 0.6368008255958557)\n",
            "(None, 0.18101709499023855, None, 0.0063158017583191395, None, None, None, 0.7013265788555145, None, None, 0.8387083411216736, None, None, None, 0.11765634082257748, None, None, 0.15497583150863647, None, None, None)\n",
            "(0.07627496658824384, 0.07372827082872391, None, 0.005577671807259321, 0.008505988866090775, None, None, 0.6659498810768127, None, None, 0.7914576530456543, 0.583929717540741, None, None, 0.26032188534736633, None, None, 0.20296473801136017, 0.40756434202194214, None, None)\n",
            "(None, 0.003471602685749531, None, None, None, None, None, 0.2561963200569153, None, None, None, None, None, None, 0.7403320670127869, None, None, None, None, None, None)\n",
            "(0.03911251202225685, 0.19406229676678777, None, 0.2707862854003906, None, None, 0.10184580832719803, 0.6774838864803314, None, None, 0.7018714547157288, None, None, 0.841740071773529, 0.1284538470208645, None, None, 0.027342328801751137, None, None, 0.05641419067978859)\n",
            "(0.08980350941419601, 0.42312815226614475, 0.1176207959651947, 0.10314473108155653, None, None, 0.4157218337059021, 0.5035354942083359, None, 0.752104640007019, 0.4981582332402468, None, None, 0.4841058850288391, 0.07333636377006769, None, 0.13027459383010864, 0.3986970745027065, None, None, 0.10017229616641998)\n",
            "(None, 0.004796561319380999, None, 0.006396063603460789, None, 0.28147127479314804, None, 0.8131548762321472, None, None, 0.2628369629383087, None, 0.5950122475624084, None, 0.18204855918884277, None, None, 0.730767011642456, None, 0.12351644784212112, None)\n",
            "(None, None, None, 0.01663781702518463, None, None, None, None, None, None, 0.7470798492431641, None, None, None, None, None, None, 0.2362823486328125, None, None, None)\n",
            "(None, None, 0.004120694939047098, None, 0.012699712067842484, 0.00279923970811069, 0.13006145902909338, None, None, 0.7996842861175537, None, 0.8630645871162415, 0.3548080027103424, 0.7434618175029755, None, None, 0.19619497656822205, None, 0.12423571944236755, 0.6423928141593933, 0.1264767162501812)\n",
            "(None, None, None, None, 0.003481919877231121, None, 0.04974669590592384, None, None, None, None, 0.5250855684280396, None, 0.7955943942070007, None, None, None, None, 0.47143256664276123, None, 0.15465892851352692)\n",
            "(0.17835094779729843, None, None, 0.005435029976069927, None, None, 0.004606844857335091, None, None, None, 0.8399400115013123, None, None, 0.8474811911582947, None, None, None, 0.15462498366832733, None, None, 0.1479119211435318)\n",
            "(None, 0.46012192964553833, None, None, None, None, None, 0.496268093585968, None, None, None, None, None, None, 0.04361001402139664, None, None, None, None, None, None)\n",
            "(None, None, 0.004481329116970301, None, None, None, 0.07195878308266401, None, None, 0.8113586902618408, None, None, None, 0.5745207071304321, None, None, 0.1841600090265274, None, None, None, 0.3535204902291298)\n",
            "(None, None, None, None, 0.29609739780426025, None, None, None, None, None, None, 0.5039541721343994, None, None, None, None, None, None, 0.19994844496250153, None, None)\n",
            "(None, None, None, None, None, None, 0.18254253268241882, None, None, None, None, None, None, 0.375311017036438, None, None, None, None, None, None, 0.4421463906764984)\n",
            "(None, None, None, 0.0015779882669448853, 0.004152050707489252, None, None, None, None, None, 0.1722395122051239, 0.8165261149406433, None, None, None, None, None, 0.8261825442314148, 0.17932184040546417, None, None)\n",
            "(0.015719102695584297, None, None, None, None, None, None, None, None, None, None, None, None, None, None, None, None, None, None, None, None)\n",
            "(None, None, None, None, 0.1176911357906647, None, None, None, None, None, None, 0.4839053116738796, None, None, None, None, None, None, 0.3984035551548004, None, None)\n",
            "(None, None, None, None, None, None, 0.0008378498023375869, None, None, None, None, None, None, 0.011852769181132317, None, None, None, None, None, None, 0.9873093962669373)\n",
            "(None, None, None, None, None, 0.2399521442130208, None, None, None, None, None, None, 0.6641198396682739, None, None, None, None, None, None, 0.09592801053076982, None)\n",
            "(None, 0.03266884386539459, None, None, None, 0.00491859158501029, 0.08472129394067451, 0.5362233519554138, None, None, None, None, 0.8287512063980103, 0.5952284932136536, 0.43110784888267517, None, None, None, None, 0.16633018851280212, 0.3200502321124077)\n",
            "(None, 0.12489558756351471, None, None, None, 0.5505401492118835, 0.0914149658754468, 0.42838773131370544, None, None, None, None, 0.42053863406181335, 0.6934068620204925, 0.44671666622161865, None, None, None, None, 0.028921255841851234, 0.21517818048596382)\n",
            "(None, None, None, None, 0.023348914459347725, None, 0.09666532278060913, None, None, None, None, 0.7254972457885742, None, 0.8599039316177368, None, None, None, None, 0.2511539161205292, None, 0.043430719524621964)\n",
            "(None, 0.09385704749729484, None, None, 0.004897756036370993, 0.0018657364416867495, None, 0.3655836209654808, None, None, None, 0.8223503232002258, 0.1848917007446289, None, 0.5405593141913414, None, None, None, 0.17275188863277435, 0.813242495059967, None)\n",
            "(0.5274166762828827, None, 0.5671435594558716, None, 0.008379749953746796, None, None, None, None, 0.3796370327472687, None, 0.5703009416659673, None, None, None, None, 0.053219396620988846, None, 0.4213193506002426, None, None)\n",
            "(None, 0.004858080763369799, 0.7795964479446411, 0.11345465469639748, 0.008224994176998734, None, 0.2743716239929199, 0.8450673818588257, None, 0.19843418896198273, 0.7082689851522446, 0.44902893155813217, None, 0.6680771112442017, 0.15007448196411133, None, 0.021969381719827652, 0.17827637679874897, 0.5427460893988609, None, 0.05755121633410454)\n",
            "(0.01871909759938717, 0.027660241757985204, None, 0.3951878696680069, None, 0.5913176536560059, None, 0.5694819735363126, None, None, 0.536772221326828, None, 0.38367247581481934, None, 0.40285777673125267, None, None, 0.06803988665342331, None, 0.025009816512465477, None)\n",
            "(0.004050957038998604, 0.004496750887483358, None, None, None, None, None, 0.8170449733734131, None, None, None, None, None, None, 0.17845827341079712, None, None, None, None, None, None)\n",
            "(None, None, None, 0.000868926988914609, None, None, 0.05885973200201988, None, None, None, 0.02667052112519741, None, None, 0.8421570658683777, None, None, None, 0.9724605679512024, None, None, 0.09898314625024796)\n",
            "(0.02948876842856407, None, None, None, None, 0.2754527476305763, None, None, None, None, None, None, 0.5604769090811411, None, None, None, None, None, None, 0.1640703333541751, None)\n",
            "(None, None, None, None, None, None, None, None, None, None, None, None, None, None, None, None, None, None, None, None, None)\n",
            "(None, None, None, None, None, None, None, None, None, None, None, None, None, None, None, None, None, None, None, None, None)\n",
            "(None, None, None, None, None, None, None, None, None, None, None, None, None, None, None, None, None, None, None, None, None)\n",
            "(None, None, None, None, None, None, None, None, None, None, None, None, None, None, None, None, None, None, None, None, None)\n",
            "(None, None, None, None, None, None, None, None, None, None, None, None, None, None, None, None, None, None, None, None, None)\n",
            "(None, None, None, None, None, None, None, None, None, None, None, None, None, None, None, None, None, None, None, None, None)\n",
            "(None, None, None, None, None, None, None, None, None, None, None, None, None, None, None, None, None, None, None, None, None)\n",
            "(None, None, None, None, None, None, None, None, None, None, None, None, None, None, None, None, None, None, None, None, None)\n",
            "(None, None, None, None, None, None, None, None, None, None, None, None, None, None, None, None, None, None, None, None, None)\n",
            "(None, None, None, None, None, None, None, None, None, None, None, None, None, None, None, None, None, None, None, None, None)\n",
            "(None, None, None, None, None, None, None, None, None, None, None, None, None, None, None, None, None, None, None, None, None)\n",
            "(None, None, None, None, None, None, None, None, None, None, None, None, None, None, None, None, None, None, None, None, None)\n",
            "(None, None, None, None, None, None, None, None, None, None, None, None, None, None, None, None, None, None, None, None, None)\n",
            "(None, None, None, None, None, None, None, None, None, None, None, None, None, None, None, None, None, None, None, None, None)\n",
            "(None, None, None, None, None, None, None, None, None, None, None, None, None, None, None, None, None, None, None, None, None)\n"
          ]
        }
      ]
    },
    {
      "cell_type": "markdown",
      "source": [
        "# Joining Stock Prices with respect to Tweets"
      ],
      "metadata": {
        "id": "xqKMuf0yFsqW"
      }
    },
    {
      "cell_type": "markdown",
      "source": [
        "# Analytics"
      ],
      "metadata": {
        "id": "zj2urhqMF0zs"
      }
    },
    {
      "cell_type": "markdown",
      "source": [
        "# Conclution"
      ],
      "metadata": {
        "id": "9MeTB8d-F9xi"
      }
    }
  ]
}