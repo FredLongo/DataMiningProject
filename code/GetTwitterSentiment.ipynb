{
  "nbformat": 4,
  "nbformat_minor": 0,
  "metadata": {
    "colab": {
      "provenance": [],
      "authorship_tag": "ABX9TyN7ZROnUoBCastb2V424T6x",
      "include_colab_link": true
    },
    "kernelspec": {
      "name": "python3",
      "display_name": "Python 3"
    },
    "language_info": {
      "name": "python"
    },
    "widgets": {
      "application/vnd.jupyter.widget-state+json": {
        "0e41eb6ab3624303813d76b6a28062dc": {
          "model_module": "@jupyter-widgets/controls",
          "model_name": "HBoxModel",
          "model_module_version": "1.5.0",
          "state": {
            "_dom_classes": [],
            "_model_module": "@jupyter-widgets/controls",
            "_model_module_version": "1.5.0",
            "_model_name": "HBoxModel",
            "_view_count": null,
            "_view_module": "@jupyter-widgets/controls",
            "_view_module_version": "1.5.0",
            "_view_name": "HBoxView",
            "box_style": "",
            "children": [
              "IPY_MODEL_93a8aaeff5094bf0b37af5d3682c5234",
              "IPY_MODEL_9ccf51227fa4499ab8c61b44b40aa498",
              "IPY_MODEL_d0b798e8901c42d69e161c7c1c9c8c31"
            ],
            "layout": "IPY_MODEL_ae316337baba4e6091be72f1872256a8"
          }
        },
        "93a8aaeff5094bf0b37af5d3682c5234": {
          "model_module": "@jupyter-widgets/controls",
          "model_name": "HTMLModel",
          "model_module_version": "1.5.0",
          "state": {
            "_dom_classes": [],
            "_model_module": "@jupyter-widgets/controls",
            "_model_module_version": "1.5.0",
            "_model_name": "HTMLModel",
            "_view_count": null,
            "_view_module": "@jupyter-widgets/controls",
            "_view_module_version": "1.5.0",
            "_view_name": "HTMLView",
            "description": "",
            "description_tooltip": null,
            "layout": "IPY_MODEL_a63f15835cf3425e8e50001679fec051",
            "placeholder": "​",
            "style": "IPY_MODEL_e35a849f6fc64186a5966469230201e0",
            "value": "config.json: 100%"
          }
        },
        "9ccf51227fa4499ab8c61b44b40aa498": {
          "model_module": "@jupyter-widgets/controls",
          "model_name": "FloatProgressModel",
          "model_module_version": "1.5.0",
          "state": {
            "_dom_classes": [],
            "_model_module": "@jupyter-widgets/controls",
            "_model_module_version": "1.5.0",
            "_model_name": "FloatProgressModel",
            "_view_count": null,
            "_view_module": "@jupyter-widgets/controls",
            "_view_module_version": "1.5.0",
            "_view_name": "ProgressView",
            "bar_style": "success",
            "description": "",
            "description_tooltip": null,
            "layout": "IPY_MODEL_0d72af761e5f47428a9eb8a5fcc1f614",
            "max": 747,
            "min": 0,
            "orientation": "horizontal",
            "style": "IPY_MODEL_4faf9debab6842bcabad5848390df1aa",
            "value": 747
          }
        },
        "d0b798e8901c42d69e161c7c1c9c8c31": {
          "model_module": "@jupyter-widgets/controls",
          "model_name": "HTMLModel",
          "model_module_version": "1.5.0",
          "state": {
            "_dom_classes": [],
            "_model_module": "@jupyter-widgets/controls",
            "_model_module_version": "1.5.0",
            "_model_name": "HTMLModel",
            "_view_count": null,
            "_view_module": "@jupyter-widgets/controls",
            "_view_module_version": "1.5.0",
            "_view_name": "HTMLView",
            "description": "",
            "description_tooltip": null,
            "layout": "IPY_MODEL_af3330a6b5284588b9da3ef2c65deb90",
            "placeholder": "​",
            "style": "IPY_MODEL_c9df6af60c0b43b987d5a486c8668e17",
            "value": " 747/747 [00:00&lt;00:00, 7.57kB/s]"
          }
        },
        "ae316337baba4e6091be72f1872256a8": {
          "model_module": "@jupyter-widgets/base",
          "model_name": "LayoutModel",
          "model_module_version": "1.2.0",
          "state": {
            "_model_module": "@jupyter-widgets/base",
            "_model_module_version": "1.2.0",
            "_model_name": "LayoutModel",
            "_view_count": null,
            "_view_module": "@jupyter-widgets/base",
            "_view_module_version": "1.2.0",
            "_view_name": "LayoutView",
            "align_content": null,
            "align_items": null,
            "align_self": null,
            "border": null,
            "bottom": null,
            "display": null,
            "flex": null,
            "flex_flow": null,
            "grid_area": null,
            "grid_auto_columns": null,
            "grid_auto_flow": null,
            "grid_auto_rows": null,
            "grid_column": null,
            "grid_gap": null,
            "grid_row": null,
            "grid_template_areas": null,
            "grid_template_columns": null,
            "grid_template_rows": null,
            "height": null,
            "justify_content": null,
            "justify_items": null,
            "left": null,
            "margin": null,
            "max_height": null,
            "max_width": null,
            "min_height": null,
            "min_width": null,
            "object_fit": null,
            "object_position": null,
            "order": null,
            "overflow": null,
            "overflow_x": null,
            "overflow_y": null,
            "padding": null,
            "right": null,
            "top": null,
            "visibility": null,
            "width": null
          }
        },
        "a63f15835cf3425e8e50001679fec051": {
          "model_module": "@jupyter-widgets/base",
          "model_name": "LayoutModel",
          "model_module_version": "1.2.0",
          "state": {
            "_model_module": "@jupyter-widgets/base",
            "_model_module_version": "1.2.0",
            "_model_name": "LayoutModel",
            "_view_count": null,
            "_view_module": "@jupyter-widgets/base",
            "_view_module_version": "1.2.0",
            "_view_name": "LayoutView",
            "align_content": null,
            "align_items": null,
            "align_self": null,
            "border": null,
            "bottom": null,
            "display": null,
            "flex": null,
            "flex_flow": null,
            "grid_area": null,
            "grid_auto_columns": null,
            "grid_auto_flow": null,
            "grid_auto_rows": null,
            "grid_column": null,
            "grid_gap": null,
            "grid_row": null,
            "grid_template_areas": null,
            "grid_template_columns": null,
            "grid_template_rows": null,
            "height": null,
            "justify_content": null,
            "justify_items": null,
            "left": null,
            "margin": null,
            "max_height": null,
            "max_width": null,
            "min_height": null,
            "min_width": null,
            "object_fit": null,
            "object_position": null,
            "order": null,
            "overflow": null,
            "overflow_x": null,
            "overflow_y": null,
            "padding": null,
            "right": null,
            "top": null,
            "visibility": null,
            "width": null
          }
        },
        "e35a849f6fc64186a5966469230201e0": {
          "model_module": "@jupyter-widgets/controls",
          "model_name": "DescriptionStyleModel",
          "model_module_version": "1.5.0",
          "state": {
            "_model_module": "@jupyter-widgets/controls",
            "_model_module_version": "1.5.0",
            "_model_name": "DescriptionStyleModel",
            "_view_count": null,
            "_view_module": "@jupyter-widgets/base",
            "_view_module_version": "1.2.0",
            "_view_name": "StyleView",
            "description_width": ""
          }
        },
        "0d72af761e5f47428a9eb8a5fcc1f614": {
          "model_module": "@jupyter-widgets/base",
          "model_name": "LayoutModel",
          "model_module_version": "1.2.0",
          "state": {
            "_model_module": "@jupyter-widgets/base",
            "_model_module_version": "1.2.0",
            "_model_name": "LayoutModel",
            "_view_count": null,
            "_view_module": "@jupyter-widgets/base",
            "_view_module_version": "1.2.0",
            "_view_name": "LayoutView",
            "align_content": null,
            "align_items": null,
            "align_self": null,
            "border": null,
            "bottom": null,
            "display": null,
            "flex": null,
            "flex_flow": null,
            "grid_area": null,
            "grid_auto_columns": null,
            "grid_auto_flow": null,
            "grid_auto_rows": null,
            "grid_column": null,
            "grid_gap": null,
            "grid_row": null,
            "grid_template_areas": null,
            "grid_template_columns": null,
            "grid_template_rows": null,
            "height": null,
            "justify_content": null,
            "justify_items": null,
            "left": null,
            "margin": null,
            "max_height": null,
            "max_width": null,
            "min_height": null,
            "min_width": null,
            "object_fit": null,
            "object_position": null,
            "order": null,
            "overflow": null,
            "overflow_x": null,
            "overflow_y": null,
            "padding": null,
            "right": null,
            "top": null,
            "visibility": null,
            "width": null
          }
        },
        "4faf9debab6842bcabad5848390df1aa": {
          "model_module": "@jupyter-widgets/controls",
          "model_name": "ProgressStyleModel",
          "model_module_version": "1.5.0",
          "state": {
            "_model_module": "@jupyter-widgets/controls",
            "_model_module_version": "1.5.0",
            "_model_name": "ProgressStyleModel",
            "_view_count": null,
            "_view_module": "@jupyter-widgets/base",
            "_view_module_version": "1.2.0",
            "_view_name": "StyleView",
            "bar_color": null,
            "description_width": ""
          }
        },
        "af3330a6b5284588b9da3ef2c65deb90": {
          "model_module": "@jupyter-widgets/base",
          "model_name": "LayoutModel",
          "model_module_version": "1.2.0",
          "state": {
            "_model_module": "@jupyter-widgets/base",
            "_model_module_version": "1.2.0",
            "_model_name": "LayoutModel",
            "_view_count": null,
            "_view_module": "@jupyter-widgets/base",
            "_view_module_version": "1.2.0",
            "_view_name": "LayoutView",
            "align_content": null,
            "align_items": null,
            "align_self": null,
            "border": null,
            "bottom": null,
            "display": null,
            "flex": null,
            "flex_flow": null,
            "grid_area": null,
            "grid_auto_columns": null,
            "grid_auto_flow": null,
            "grid_auto_rows": null,
            "grid_column": null,
            "grid_gap": null,
            "grid_row": null,
            "grid_template_areas": null,
            "grid_template_columns": null,
            "grid_template_rows": null,
            "height": null,
            "justify_content": null,
            "justify_items": null,
            "left": null,
            "margin": null,
            "max_height": null,
            "max_width": null,
            "min_height": null,
            "min_width": null,
            "object_fit": null,
            "object_position": null,
            "order": null,
            "overflow": null,
            "overflow_x": null,
            "overflow_y": null,
            "padding": null,
            "right": null,
            "top": null,
            "visibility": null,
            "width": null
          }
        },
        "c9df6af60c0b43b987d5a486c8668e17": {
          "model_module": "@jupyter-widgets/controls",
          "model_name": "DescriptionStyleModel",
          "model_module_version": "1.5.0",
          "state": {
            "_model_module": "@jupyter-widgets/controls",
            "_model_module_version": "1.5.0",
            "_model_name": "DescriptionStyleModel",
            "_view_count": null,
            "_view_module": "@jupyter-widgets/base",
            "_view_module_version": "1.2.0",
            "_view_name": "StyleView",
            "description_width": ""
          }
        },
        "b8919527810243c5bac582b6821eb64a": {
          "model_module": "@jupyter-widgets/controls",
          "model_name": "HBoxModel",
          "model_module_version": "1.5.0",
          "state": {
            "_dom_classes": [],
            "_model_module": "@jupyter-widgets/controls",
            "_model_module_version": "1.5.0",
            "_model_name": "HBoxModel",
            "_view_count": null,
            "_view_module": "@jupyter-widgets/controls",
            "_view_module_version": "1.5.0",
            "_view_name": "HBoxView",
            "box_style": "",
            "children": [
              "IPY_MODEL_f8513f4d799346cda1f9bf2b4cca12e7",
              "IPY_MODEL_04ff4586716d4cb5810297e423a143e7",
              "IPY_MODEL_2e90735a73a644e4aadcd56cec63da96"
            ],
            "layout": "IPY_MODEL_b72457ef88384714a64dd276bf8e8db4"
          }
        },
        "f8513f4d799346cda1f9bf2b4cca12e7": {
          "model_module": "@jupyter-widgets/controls",
          "model_name": "HTMLModel",
          "model_module_version": "1.5.0",
          "state": {
            "_dom_classes": [],
            "_model_module": "@jupyter-widgets/controls",
            "_model_module_version": "1.5.0",
            "_model_name": "HTMLModel",
            "_view_count": null,
            "_view_module": "@jupyter-widgets/controls",
            "_view_module_version": "1.5.0",
            "_view_name": "HTMLView",
            "description": "",
            "description_tooltip": null,
            "layout": "IPY_MODEL_35f94ff49473417abee416560c4ccc69",
            "placeholder": "​",
            "style": "IPY_MODEL_71ee95200d694124895cc68921823ec1",
            "value": "pytorch_model.bin: 100%"
          }
        },
        "04ff4586716d4cb5810297e423a143e7": {
          "model_module": "@jupyter-widgets/controls",
          "model_name": "FloatProgressModel",
          "model_module_version": "1.5.0",
          "state": {
            "_dom_classes": [],
            "_model_module": "@jupyter-widgets/controls",
            "_model_module_version": "1.5.0",
            "_model_name": "FloatProgressModel",
            "_view_count": null,
            "_view_module": "@jupyter-widgets/controls",
            "_view_module_version": "1.5.0",
            "_view_name": "ProgressView",
            "bar_style": "success",
            "description": "",
            "description_tooltip": null,
            "layout": "IPY_MODEL_1099625b3f094e6c81f496cbd1470715",
            "max": 498679497,
            "min": 0,
            "orientation": "horizontal",
            "style": "IPY_MODEL_f30ab3d65bde4567a32203de048782f8",
            "value": 498679497
          }
        },
        "2e90735a73a644e4aadcd56cec63da96": {
          "model_module": "@jupyter-widgets/controls",
          "model_name": "HTMLModel",
          "model_module_version": "1.5.0",
          "state": {
            "_dom_classes": [],
            "_model_module": "@jupyter-widgets/controls",
            "_model_module_version": "1.5.0",
            "_model_name": "HTMLModel",
            "_view_count": null,
            "_view_module": "@jupyter-widgets/controls",
            "_view_module_version": "1.5.0",
            "_view_name": "HTMLView",
            "description": "",
            "description_tooltip": null,
            "layout": "IPY_MODEL_52cdc1212bcf432583d6cb714c9930dc",
            "placeholder": "​",
            "style": "IPY_MODEL_1cb52b57fa154f53afa47e0058978d49",
            "value": " 499M/499M [00:05&lt;00:00, 105MB/s]"
          }
        },
        "b72457ef88384714a64dd276bf8e8db4": {
          "model_module": "@jupyter-widgets/base",
          "model_name": "LayoutModel",
          "model_module_version": "1.2.0",
          "state": {
            "_model_module": "@jupyter-widgets/base",
            "_model_module_version": "1.2.0",
            "_model_name": "LayoutModel",
            "_view_count": null,
            "_view_module": "@jupyter-widgets/base",
            "_view_module_version": "1.2.0",
            "_view_name": "LayoutView",
            "align_content": null,
            "align_items": null,
            "align_self": null,
            "border": null,
            "bottom": null,
            "display": null,
            "flex": null,
            "flex_flow": null,
            "grid_area": null,
            "grid_auto_columns": null,
            "grid_auto_flow": null,
            "grid_auto_rows": null,
            "grid_column": null,
            "grid_gap": null,
            "grid_row": null,
            "grid_template_areas": null,
            "grid_template_columns": null,
            "grid_template_rows": null,
            "height": null,
            "justify_content": null,
            "justify_items": null,
            "left": null,
            "margin": null,
            "max_height": null,
            "max_width": null,
            "min_height": null,
            "min_width": null,
            "object_fit": null,
            "object_position": null,
            "order": null,
            "overflow": null,
            "overflow_x": null,
            "overflow_y": null,
            "padding": null,
            "right": null,
            "top": null,
            "visibility": null,
            "width": null
          }
        },
        "35f94ff49473417abee416560c4ccc69": {
          "model_module": "@jupyter-widgets/base",
          "model_name": "LayoutModel",
          "model_module_version": "1.2.0",
          "state": {
            "_model_module": "@jupyter-widgets/base",
            "_model_module_version": "1.2.0",
            "_model_name": "LayoutModel",
            "_view_count": null,
            "_view_module": "@jupyter-widgets/base",
            "_view_module_version": "1.2.0",
            "_view_name": "LayoutView",
            "align_content": null,
            "align_items": null,
            "align_self": null,
            "border": null,
            "bottom": null,
            "display": null,
            "flex": null,
            "flex_flow": null,
            "grid_area": null,
            "grid_auto_columns": null,
            "grid_auto_flow": null,
            "grid_auto_rows": null,
            "grid_column": null,
            "grid_gap": null,
            "grid_row": null,
            "grid_template_areas": null,
            "grid_template_columns": null,
            "grid_template_rows": null,
            "height": null,
            "justify_content": null,
            "justify_items": null,
            "left": null,
            "margin": null,
            "max_height": null,
            "max_width": null,
            "min_height": null,
            "min_width": null,
            "object_fit": null,
            "object_position": null,
            "order": null,
            "overflow": null,
            "overflow_x": null,
            "overflow_y": null,
            "padding": null,
            "right": null,
            "top": null,
            "visibility": null,
            "width": null
          }
        },
        "71ee95200d694124895cc68921823ec1": {
          "model_module": "@jupyter-widgets/controls",
          "model_name": "DescriptionStyleModel",
          "model_module_version": "1.5.0",
          "state": {
            "_model_module": "@jupyter-widgets/controls",
            "_model_module_version": "1.5.0",
            "_model_name": "DescriptionStyleModel",
            "_view_count": null,
            "_view_module": "@jupyter-widgets/base",
            "_view_module_version": "1.2.0",
            "_view_name": "StyleView",
            "description_width": ""
          }
        },
        "1099625b3f094e6c81f496cbd1470715": {
          "model_module": "@jupyter-widgets/base",
          "model_name": "LayoutModel",
          "model_module_version": "1.2.0",
          "state": {
            "_model_module": "@jupyter-widgets/base",
            "_model_module_version": "1.2.0",
            "_model_name": "LayoutModel",
            "_view_count": null,
            "_view_module": "@jupyter-widgets/base",
            "_view_module_version": "1.2.0",
            "_view_name": "LayoutView",
            "align_content": null,
            "align_items": null,
            "align_self": null,
            "border": null,
            "bottom": null,
            "display": null,
            "flex": null,
            "flex_flow": null,
            "grid_area": null,
            "grid_auto_columns": null,
            "grid_auto_flow": null,
            "grid_auto_rows": null,
            "grid_column": null,
            "grid_gap": null,
            "grid_row": null,
            "grid_template_areas": null,
            "grid_template_columns": null,
            "grid_template_rows": null,
            "height": null,
            "justify_content": null,
            "justify_items": null,
            "left": null,
            "margin": null,
            "max_height": null,
            "max_width": null,
            "min_height": null,
            "min_width": null,
            "object_fit": null,
            "object_position": null,
            "order": null,
            "overflow": null,
            "overflow_x": null,
            "overflow_y": null,
            "padding": null,
            "right": null,
            "top": null,
            "visibility": null,
            "width": null
          }
        },
        "f30ab3d65bde4567a32203de048782f8": {
          "model_module": "@jupyter-widgets/controls",
          "model_name": "ProgressStyleModel",
          "model_module_version": "1.5.0",
          "state": {
            "_model_module": "@jupyter-widgets/controls",
            "_model_module_version": "1.5.0",
            "_model_name": "ProgressStyleModel",
            "_view_count": null,
            "_view_module": "@jupyter-widgets/base",
            "_view_module_version": "1.2.0",
            "_view_name": "StyleView",
            "bar_color": null,
            "description_width": ""
          }
        },
        "52cdc1212bcf432583d6cb714c9930dc": {
          "model_module": "@jupyter-widgets/base",
          "model_name": "LayoutModel",
          "model_module_version": "1.2.0",
          "state": {
            "_model_module": "@jupyter-widgets/base",
            "_model_module_version": "1.2.0",
            "_model_name": "LayoutModel",
            "_view_count": null,
            "_view_module": "@jupyter-widgets/base",
            "_view_module_version": "1.2.0",
            "_view_name": "LayoutView",
            "align_content": null,
            "align_items": null,
            "align_self": null,
            "border": null,
            "bottom": null,
            "display": null,
            "flex": null,
            "flex_flow": null,
            "grid_area": null,
            "grid_auto_columns": null,
            "grid_auto_flow": null,
            "grid_auto_rows": null,
            "grid_column": null,
            "grid_gap": null,
            "grid_row": null,
            "grid_template_areas": null,
            "grid_template_columns": null,
            "grid_template_rows": null,
            "height": null,
            "justify_content": null,
            "justify_items": null,
            "left": null,
            "margin": null,
            "max_height": null,
            "max_width": null,
            "min_height": null,
            "min_width": null,
            "object_fit": null,
            "object_position": null,
            "order": null,
            "overflow": null,
            "overflow_x": null,
            "overflow_y": null,
            "padding": null,
            "right": null,
            "top": null,
            "visibility": null,
            "width": null
          }
        },
        "1cb52b57fa154f53afa47e0058978d49": {
          "model_module": "@jupyter-widgets/controls",
          "model_name": "DescriptionStyleModel",
          "model_module_version": "1.5.0",
          "state": {
            "_model_module": "@jupyter-widgets/controls",
            "_model_module_version": "1.5.0",
            "_model_name": "DescriptionStyleModel",
            "_view_count": null,
            "_view_module": "@jupyter-widgets/base",
            "_view_module_version": "1.2.0",
            "_view_name": "StyleView",
            "description_width": ""
          }
        },
        "fa481866a4bb42ad9d9575b416b74cf3": {
          "model_module": "@jupyter-widgets/controls",
          "model_name": "HBoxModel",
          "model_module_version": "1.5.0",
          "state": {
            "_dom_classes": [],
            "_model_module": "@jupyter-widgets/controls",
            "_model_module_version": "1.5.0",
            "_model_name": "HBoxModel",
            "_view_count": null,
            "_view_module": "@jupyter-widgets/controls",
            "_view_module_version": "1.5.0",
            "_view_name": "HBoxView",
            "box_style": "",
            "children": [
              "IPY_MODEL_32fc8b7b074a4a56b0e39ed474ea840b",
              "IPY_MODEL_75108f520dd040bd91766726ab85e9b7",
              "IPY_MODEL_3c968d30747341f2bcc10c78933c805c"
            ],
            "layout": "IPY_MODEL_8dca371e63bc45f388b8d8910a8c6e78"
          }
        },
        "32fc8b7b074a4a56b0e39ed474ea840b": {
          "model_module": "@jupyter-widgets/controls",
          "model_name": "HTMLModel",
          "model_module_version": "1.5.0",
          "state": {
            "_dom_classes": [],
            "_model_module": "@jupyter-widgets/controls",
            "_model_module_version": "1.5.0",
            "_model_name": "HTMLModel",
            "_view_count": null,
            "_view_module": "@jupyter-widgets/controls",
            "_view_module_version": "1.5.0",
            "_view_name": "HTMLView",
            "description": "",
            "description_tooltip": null,
            "layout": "IPY_MODEL_579a5e04391a42a4a8e34fc9af33b728",
            "placeholder": "​",
            "style": "IPY_MODEL_810ed3c6b8b14116a90578916491ed32",
            "value": "vocab.json: 100%"
          }
        },
        "75108f520dd040bd91766726ab85e9b7": {
          "model_module": "@jupyter-widgets/controls",
          "model_name": "FloatProgressModel",
          "model_module_version": "1.5.0",
          "state": {
            "_dom_classes": [],
            "_model_module": "@jupyter-widgets/controls",
            "_model_module_version": "1.5.0",
            "_model_name": "FloatProgressModel",
            "_view_count": null,
            "_view_module": "@jupyter-widgets/controls",
            "_view_module_version": "1.5.0",
            "_view_name": "ProgressView",
            "bar_style": "success",
            "description": "",
            "description_tooltip": null,
            "layout": "IPY_MODEL_18a08c1b0bad43e085cd1afc83588db2",
            "max": 898822,
            "min": 0,
            "orientation": "horizontal",
            "style": "IPY_MODEL_23798c364d7c4d868bc7d6152ea6e0c2",
            "value": 898822
          }
        },
        "3c968d30747341f2bcc10c78933c805c": {
          "model_module": "@jupyter-widgets/controls",
          "model_name": "HTMLModel",
          "model_module_version": "1.5.0",
          "state": {
            "_dom_classes": [],
            "_model_module": "@jupyter-widgets/controls",
            "_model_module_version": "1.5.0",
            "_model_name": "HTMLModel",
            "_view_count": null,
            "_view_module": "@jupyter-widgets/controls",
            "_view_module_version": "1.5.0",
            "_view_name": "HTMLView",
            "description": "",
            "description_tooltip": null,
            "layout": "IPY_MODEL_b26c9fff6c7641a58f767e67ecca7a01",
            "placeholder": "​",
            "style": "IPY_MODEL_41b4ebff3c6444039ef74f81a4b752fa",
            "value": " 899k/899k [00:00&lt;00:00, 2.99MB/s]"
          }
        },
        "8dca371e63bc45f388b8d8910a8c6e78": {
          "model_module": "@jupyter-widgets/base",
          "model_name": "LayoutModel",
          "model_module_version": "1.2.0",
          "state": {
            "_model_module": "@jupyter-widgets/base",
            "_model_module_version": "1.2.0",
            "_model_name": "LayoutModel",
            "_view_count": null,
            "_view_module": "@jupyter-widgets/base",
            "_view_module_version": "1.2.0",
            "_view_name": "LayoutView",
            "align_content": null,
            "align_items": null,
            "align_self": null,
            "border": null,
            "bottom": null,
            "display": null,
            "flex": null,
            "flex_flow": null,
            "grid_area": null,
            "grid_auto_columns": null,
            "grid_auto_flow": null,
            "grid_auto_rows": null,
            "grid_column": null,
            "grid_gap": null,
            "grid_row": null,
            "grid_template_areas": null,
            "grid_template_columns": null,
            "grid_template_rows": null,
            "height": null,
            "justify_content": null,
            "justify_items": null,
            "left": null,
            "margin": null,
            "max_height": null,
            "max_width": null,
            "min_height": null,
            "min_width": null,
            "object_fit": null,
            "object_position": null,
            "order": null,
            "overflow": null,
            "overflow_x": null,
            "overflow_y": null,
            "padding": null,
            "right": null,
            "top": null,
            "visibility": null,
            "width": null
          }
        },
        "579a5e04391a42a4a8e34fc9af33b728": {
          "model_module": "@jupyter-widgets/base",
          "model_name": "LayoutModel",
          "model_module_version": "1.2.0",
          "state": {
            "_model_module": "@jupyter-widgets/base",
            "_model_module_version": "1.2.0",
            "_model_name": "LayoutModel",
            "_view_count": null,
            "_view_module": "@jupyter-widgets/base",
            "_view_module_version": "1.2.0",
            "_view_name": "LayoutView",
            "align_content": null,
            "align_items": null,
            "align_self": null,
            "border": null,
            "bottom": null,
            "display": null,
            "flex": null,
            "flex_flow": null,
            "grid_area": null,
            "grid_auto_columns": null,
            "grid_auto_flow": null,
            "grid_auto_rows": null,
            "grid_column": null,
            "grid_gap": null,
            "grid_row": null,
            "grid_template_areas": null,
            "grid_template_columns": null,
            "grid_template_rows": null,
            "height": null,
            "justify_content": null,
            "justify_items": null,
            "left": null,
            "margin": null,
            "max_height": null,
            "max_width": null,
            "min_height": null,
            "min_width": null,
            "object_fit": null,
            "object_position": null,
            "order": null,
            "overflow": null,
            "overflow_x": null,
            "overflow_y": null,
            "padding": null,
            "right": null,
            "top": null,
            "visibility": null,
            "width": null
          }
        },
        "810ed3c6b8b14116a90578916491ed32": {
          "model_module": "@jupyter-widgets/controls",
          "model_name": "DescriptionStyleModel",
          "model_module_version": "1.5.0",
          "state": {
            "_model_module": "@jupyter-widgets/controls",
            "_model_module_version": "1.5.0",
            "_model_name": "DescriptionStyleModel",
            "_view_count": null,
            "_view_module": "@jupyter-widgets/base",
            "_view_module_version": "1.2.0",
            "_view_name": "StyleView",
            "description_width": ""
          }
        },
        "18a08c1b0bad43e085cd1afc83588db2": {
          "model_module": "@jupyter-widgets/base",
          "model_name": "LayoutModel",
          "model_module_version": "1.2.0",
          "state": {
            "_model_module": "@jupyter-widgets/base",
            "_model_module_version": "1.2.0",
            "_model_name": "LayoutModel",
            "_view_count": null,
            "_view_module": "@jupyter-widgets/base",
            "_view_module_version": "1.2.0",
            "_view_name": "LayoutView",
            "align_content": null,
            "align_items": null,
            "align_self": null,
            "border": null,
            "bottom": null,
            "display": null,
            "flex": null,
            "flex_flow": null,
            "grid_area": null,
            "grid_auto_columns": null,
            "grid_auto_flow": null,
            "grid_auto_rows": null,
            "grid_column": null,
            "grid_gap": null,
            "grid_row": null,
            "grid_template_areas": null,
            "grid_template_columns": null,
            "grid_template_rows": null,
            "height": null,
            "justify_content": null,
            "justify_items": null,
            "left": null,
            "margin": null,
            "max_height": null,
            "max_width": null,
            "min_height": null,
            "min_width": null,
            "object_fit": null,
            "object_position": null,
            "order": null,
            "overflow": null,
            "overflow_x": null,
            "overflow_y": null,
            "padding": null,
            "right": null,
            "top": null,
            "visibility": null,
            "width": null
          }
        },
        "23798c364d7c4d868bc7d6152ea6e0c2": {
          "model_module": "@jupyter-widgets/controls",
          "model_name": "ProgressStyleModel",
          "model_module_version": "1.5.0",
          "state": {
            "_model_module": "@jupyter-widgets/controls",
            "_model_module_version": "1.5.0",
            "_model_name": "ProgressStyleModel",
            "_view_count": null,
            "_view_module": "@jupyter-widgets/base",
            "_view_module_version": "1.2.0",
            "_view_name": "StyleView",
            "bar_color": null,
            "description_width": ""
          }
        },
        "b26c9fff6c7641a58f767e67ecca7a01": {
          "model_module": "@jupyter-widgets/base",
          "model_name": "LayoutModel",
          "model_module_version": "1.2.0",
          "state": {
            "_model_module": "@jupyter-widgets/base",
            "_model_module_version": "1.2.0",
            "_model_name": "LayoutModel",
            "_view_count": null,
            "_view_module": "@jupyter-widgets/base",
            "_view_module_version": "1.2.0",
            "_view_name": "LayoutView",
            "align_content": null,
            "align_items": null,
            "align_self": null,
            "border": null,
            "bottom": null,
            "display": null,
            "flex": null,
            "flex_flow": null,
            "grid_area": null,
            "grid_auto_columns": null,
            "grid_auto_flow": null,
            "grid_auto_rows": null,
            "grid_column": null,
            "grid_gap": null,
            "grid_row": null,
            "grid_template_areas": null,
            "grid_template_columns": null,
            "grid_template_rows": null,
            "height": null,
            "justify_content": null,
            "justify_items": null,
            "left": null,
            "margin": null,
            "max_height": null,
            "max_width": null,
            "min_height": null,
            "min_width": null,
            "object_fit": null,
            "object_position": null,
            "order": null,
            "overflow": null,
            "overflow_x": null,
            "overflow_y": null,
            "padding": null,
            "right": null,
            "top": null,
            "visibility": null,
            "width": null
          }
        },
        "41b4ebff3c6444039ef74f81a4b752fa": {
          "model_module": "@jupyter-widgets/controls",
          "model_name": "DescriptionStyleModel",
          "model_module_version": "1.5.0",
          "state": {
            "_model_module": "@jupyter-widgets/controls",
            "_model_module_version": "1.5.0",
            "_model_name": "DescriptionStyleModel",
            "_view_count": null,
            "_view_module": "@jupyter-widgets/base",
            "_view_module_version": "1.2.0",
            "_view_name": "StyleView",
            "description_width": ""
          }
        },
        "9795312b1eb94cc893a912962edd07b1": {
          "model_module": "@jupyter-widgets/controls",
          "model_name": "HBoxModel",
          "model_module_version": "1.5.0",
          "state": {
            "_dom_classes": [],
            "_model_module": "@jupyter-widgets/controls",
            "_model_module_version": "1.5.0",
            "_model_name": "HBoxModel",
            "_view_count": null,
            "_view_module": "@jupyter-widgets/controls",
            "_view_module_version": "1.5.0",
            "_view_name": "HBoxView",
            "box_style": "",
            "children": [
              "IPY_MODEL_c4ce9cab100249e792a03bc80d454675",
              "IPY_MODEL_bdb837279a914322b8c33f2b71bd3fdf",
              "IPY_MODEL_b6aa118e7ea14976bcddde8b41524ff4"
            ],
            "layout": "IPY_MODEL_97b42d15aee5413fb198f8a4c9c2fbc7"
          }
        },
        "c4ce9cab100249e792a03bc80d454675": {
          "model_module": "@jupyter-widgets/controls",
          "model_name": "HTMLModel",
          "model_module_version": "1.5.0",
          "state": {
            "_dom_classes": [],
            "_model_module": "@jupyter-widgets/controls",
            "_model_module_version": "1.5.0",
            "_model_name": "HTMLModel",
            "_view_count": null,
            "_view_module": "@jupyter-widgets/controls",
            "_view_module_version": "1.5.0",
            "_view_name": "HTMLView",
            "description": "",
            "description_tooltip": null,
            "layout": "IPY_MODEL_2707bacafa3542d3919c045f882d5385",
            "placeholder": "​",
            "style": "IPY_MODEL_0f07a6d92f3e4b3cb9701596079f76af",
            "value": "merges.txt: 100%"
          }
        },
        "bdb837279a914322b8c33f2b71bd3fdf": {
          "model_module": "@jupyter-widgets/controls",
          "model_name": "FloatProgressModel",
          "model_module_version": "1.5.0",
          "state": {
            "_dom_classes": [],
            "_model_module": "@jupyter-widgets/controls",
            "_model_module_version": "1.5.0",
            "_model_name": "FloatProgressModel",
            "_view_count": null,
            "_view_module": "@jupyter-widgets/controls",
            "_view_module_version": "1.5.0",
            "_view_name": "ProgressView",
            "bar_style": "success",
            "description": "",
            "description_tooltip": null,
            "layout": "IPY_MODEL_dcd0bb36fc3047179ef0b586e67110b5",
            "max": 456318,
            "min": 0,
            "orientation": "horizontal",
            "style": "IPY_MODEL_a50ff684683340429b6af334421bec21",
            "value": 456318
          }
        },
        "b6aa118e7ea14976bcddde8b41524ff4": {
          "model_module": "@jupyter-widgets/controls",
          "model_name": "HTMLModel",
          "model_module_version": "1.5.0",
          "state": {
            "_dom_classes": [],
            "_model_module": "@jupyter-widgets/controls",
            "_model_module_version": "1.5.0",
            "_model_name": "HTMLModel",
            "_view_count": null,
            "_view_module": "@jupyter-widgets/controls",
            "_view_module_version": "1.5.0",
            "_view_name": "HTMLView",
            "description": "",
            "description_tooltip": null,
            "layout": "IPY_MODEL_afefe56ea8854e55a2b6b29a8b330ed7",
            "placeholder": "​",
            "style": "IPY_MODEL_886edec93e5e474188590a188de338d5",
            "value": " 456k/456k [00:00&lt;00:00, 6.99MB/s]"
          }
        },
        "97b42d15aee5413fb198f8a4c9c2fbc7": {
          "model_module": "@jupyter-widgets/base",
          "model_name": "LayoutModel",
          "model_module_version": "1.2.0",
          "state": {
            "_model_module": "@jupyter-widgets/base",
            "_model_module_version": "1.2.0",
            "_model_name": "LayoutModel",
            "_view_count": null,
            "_view_module": "@jupyter-widgets/base",
            "_view_module_version": "1.2.0",
            "_view_name": "LayoutView",
            "align_content": null,
            "align_items": null,
            "align_self": null,
            "border": null,
            "bottom": null,
            "display": null,
            "flex": null,
            "flex_flow": null,
            "grid_area": null,
            "grid_auto_columns": null,
            "grid_auto_flow": null,
            "grid_auto_rows": null,
            "grid_column": null,
            "grid_gap": null,
            "grid_row": null,
            "grid_template_areas": null,
            "grid_template_columns": null,
            "grid_template_rows": null,
            "height": null,
            "justify_content": null,
            "justify_items": null,
            "left": null,
            "margin": null,
            "max_height": null,
            "max_width": null,
            "min_height": null,
            "min_width": null,
            "object_fit": null,
            "object_position": null,
            "order": null,
            "overflow": null,
            "overflow_x": null,
            "overflow_y": null,
            "padding": null,
            "right": null,
            "top": null,
            "visibility": null,
            "width": null
          }
        },
        "2707bacafa3542d3919c045f882d5385": {
          "model_module": "@jupyter-widgets/base",
          "model_name": "LayoutModel",
          "model_module_version": "1.2.0",
          "state": {
            "_model_module": "@jupyter-widgets/base",
            "_model_module_version": "1.2.0",
            "_model_name": "LayoutModel",
            "_view_count": null,
            "_view_module": "@jupyter-widgets/base",
            "_view_module_version": "1.2.0",
            "_view_name": "LayoutView",
            "align_content": null,
            "align_items": null,
            "align_self": null,
            "border": null,
            "bottom": null,
            "display": null,
            "flex": null,
            "flex_flow": null,
            "grid_area": null,
            "grid_auto_columns": null,
            "grid_auto_flow": null,
            "grid_auto_rows": null,
            "grid_column": null,
            "grid_gap": null,
            "grid_row": null,
            "grid_template_areas": null,
            "grid_template_columns": null,
            "grid_template_rows": null,
            "height": null,
            "justify_content": null,
            "justify_items": null,
            "left": null,
            "margin": null,
            "max_height": null,
            "max_width": null,
            "min_height": null,
            "min_width": null,
            "object_fit": null,
            "object_position": null,
            "order": null,
            "overflow": null,
            "overflow_x": null,
            "overflow_y": null,
            "padding": null,
            "right": null,
            "top": null,
            "visibility": null,
            "width": null
          }
        },
        "0f07a6d92f3e4b3cb9701596079f76af": {
          "model_module": "@jupyter-widgets/controls",
          "model_name": "DescriptionStyleModel",
          "model_module_version": "1.5.0",
          "state": {
            "_model_module": "@jupyter-widgets/controls",
            "_model_module_version": "1.5.0",
            "_model_name": "DescriptionStyleModel",
            "_view_count": null,
            "_view_module": "@jupyter-widgets/base",
            "_view_module_version": "1.2.0",
            "_view_name": "StyleView",
            "description_width": ""
          }
        },
        "dcd0bb36fc3047179ef0b586e67110b5": {
          "model_module": "@jupyter-widgets/base",
          "model_name": "LayoutModel",
          "model_module_version": "1.2.0",
          "state": {
            "_model_module": "@jupyter-widgets/base",
            "_model_module_version": "1.2.0",
            "_model_name": "LayoutModel",
            "_view_count": null,
            "_view_module": "@jupyter-widgets/base",
            "_view_module_version": "1.2.0",
            "_view_name": "LayoutView",
            "align_content": null,
            "align_items": null,
            "align_self": null,
            "border": null,
            "bottom": null,
            "display": null,
            "flex": null,
            "flex_flow": null,
            "grid_area": null,
            "grid_auto_columns": null,
            "grid_auto_flow": null,
            "grid_auto_rows": null,
            "grid_column": null,
            "grid_gap": null,
            "grid_row": null,
            "grid_template_areas": null,
            "grid_template_columns": null,
            "grid_template_rows": null,
            "height": null,
            "justify_content": null,
            "justify_items": null,
            "left": null,
            "margin": null,
            "max_height": null,
            "max_width": null,
            "min_height": null,
            "min_width": null,
            "object_fit": null,
            "object_position": null,
            "order": null,
            "overflow": null,
            "overflow_x": null,
            "overflow_y": null,
            "padding": null,
            "right": null,
            "top": null,
            "visibility": null,
            "width": null
          }
        },
        "a50ff684683340429b6af334421bec21": {
          "model_module": "@jupyter-widgets/controls",
          "model_name": "ProgressStyleModel",
          "model_module_version": "1.5.0",
          "state": {
            "_model_module": "@jupyter-widgets/controls",
            "_model_module_version": "1.5.0",
            "_model_name": "ProgressStyleModel",
            "_view_count": null,
            "_view_module": "@jupyter-widgets/base",
            "_view_module_version": "1.2.0",
            "_view_name": "StyleView",
            "bar_color": null,
            "description_width": ""
          }
        },
        "afefe56ea8854e55a2b6b29a8b330ed7": {
          "model_module": "@jupyter-widgets/base",
          "model_name": "LayoutModel",
          "model_module_version": "1.2.0",
          "state": {
            "_model_module": "@jupyter-widgets/base",
            "_model_module_version": "1.2.0",
            "_model_name": "LayoutModel",
            "_view_count": null,
            "_view_module": "@jupyter-widgets/base",
            "_view_module_version": "1.2.0",
            "_view_name": "LayoutView",
            "align_content": null,
            "align_items": null,
            "align_self": null,
            "border": null,
            "bottom": null,
            "display": null,
            "flex": null,
            "flex_flow": null,
            "grid_area": null,
            "grid_auto_columns": null,
            "grid_auto_flow": null,
            "grid_auto_rows": null,
            "grid_column": null,
            "grid_gap": null,
            "grid_row": null,
            "grid_template_areas": null,
            "grid_template_columns": null,
            "grid_template_rows": null,
            "height": null,
            "justify_content": null,
            "justify_items": null,
            "left": null,
            "margin": null,
            "max_height": null,
            "max_width": null,
            "min_height": null,
            "min_width": null,
            "object_fit": null,
            "object_position": null,
            "order": null,
            "overflow": null,
            "overflow_x": null,
            "overflow_y": null,
            "padding": null,
            "right": null,
            "top": null,
            "visibility": null,
            "width": null
          }
        },
        "886edec93e5e474188590a188de338d5": {
          "model_module": "@jupyter-widgets/controls",
          "model_name": "DescriptionStyleModel",
          "model_module_version": "1.5.0",
          "state": {
            "_model_module": "@jupyter-widgets/controls",
            "_model_module_version": "1.5.0",
            "_model_name": "DescriptionStyleModel",
            "_view_count": null,
            "_view_module": "@jupyter-widgets/base",
            "_view_module_version": "1.2.0",
            "_view_name": "StyleView",
            "description_width": ""
          }
        },
        "df1a0e1170b948e58529a5bc53bceee6": {
          "model_module": "@jupyter-widgets/controls",
          "model_name": "HBoxModel",
          "model_module_version": "1.5.0",
          "state": {
            "_dom_classes": [],
            "_model_module": "@jupyter-widgets/controls",
            "_model_module_version": "1.5.0",
            "_model_name": "HBoxModel",
            "_view_count": null,
            "_view_module": "@jupyter-widgets/controls",
            "_view_module_version": "1.5.0",
            "_view_name": "HBoxView",
            "box_style": "",
            "children": [
              "IPY_MODEL_73cfd2fc8cfe49a38ef5eecdfaf9517a",
              "IPY_MODEL_ce39622bb805405f8e228babeb554a37",
              "IPY_MODEL_ad2956650d34403489d6cfb7104095b4"
            ],
            "layout": "IPY_MODEL_5c8a4788c0024e54a774c0dd900b0d47"
          }
        },
        "73cfd2fc8cfe49a38ef5eecdfaf9517a": {
          "model_module": "@jupyter-widgets/controls",
          "model_name": "HTMLModel",
          "model_module_version": "1.5.0",
          "state": {
            "_dom_classes": [],
            "_model_module": "@jupyter-widgets/controls",
            "_model_module_version": "1.5.0",
            "_model_name": "HTMLModel",
            "_view_count": null,
            "_view_module": "@jupyter-widgets/controls",
            "_view_module_version": "1.5.0",
            "_view_name": "HTMLView",
            "description": "",
            "description_tooltip": null,
            "layout": "IPY_MODEL_87655904b66f44bb9eac6e67e669d35a",
            "placeholder": "​",
            "style": "IPY_MODEL_cbfa2496a4df45fe995f34fc3211a0e9",
            "value": "special_tokens_map.json: 100%"
          }
        },
        "ce39622bb805405f8e228babeb554a37": {
          "model_module": "@jupyter-widgets/controls",
          "model_name": "FloatProgressModel",
          "model_module_version": "1.5.0",
          "state": {
            "_dom_classes": [],
            "_model_module": "@jupyter-widgets/controls",
            "_model_module_version": "1.5.0",
            "_model_name": "FloatProgressModel",
            "_view_count": null,
            "_view_module": "@jupyter-widgets/controls",
            "_view_module_version": "1.5.0",
            "_view_name": "ProgressView",
            "bar_style": "success",
            "description": "",
            "description_tooltip": null,
            "layout": "IPY_MODEL_8129ad5f447b477e9105c2d7017dfb44",
            "max": 150,
            "min": 0,
            "orientation": "horizontal",
            "style": "IPY_MODEL_75f8921f1c164e2ea197f5cf9612a14f",
            "value": 150
          }
        },
        "ad2956650d34403489d6cfb7104095b4": {
          "model_module": "@jupyter-widgets/controls",
          "model_name": "HTMLModel",
          "model_module_version": "1.5.0",
          "state": {
            "_dom_classes": [],
            "_model_module": "@jupyter-widgets/controls",
            "_model_module_version": "1.5.0",
            "_model_name": "HTMLModel",
            "_view_count": null,
            "_view_module": "@jupyter-widgets/controls",
            "_view_module_version": "1.5.0",
            "_view_name": "HTMLView",
            "description": "",
            "description_tooltip": null,
            "layout": "IPY_MODEL_391ad155517e4ee1b37f73a88e889749",
            "placeholder": "​",
            "style": "IPY_MODEL_e7bb1397811f461b90e95b46e150407f",
            "value": " 150/150 [00:00&lt;00:00, 4.40kB/s]"
          }
        },
        "5c8a4788c0024e54a774c0dd900b0d47": {
          "model_module": "@jupyter-widgets/base",
          "model_name": "LayoutModel",
          "model_module_version": "1.2.0",
          "state": {
            "_model_module": "@jupyter-widgets/base",
            "_model_module_version": "1.2.0",
            "_model_name": "LayoutModel",
            "_view_count": null,
            "_view_module": "@jupyter-widgets/base",
            "_view_module_version": "1.2.0",
            "_view_name": "LayoutView",
            "align_content": null,
            "align_items": null,
            "align_self": null,
            "border": null,
            "bottom": null,
            "display": null,
            "flex": null,
            "flex_flow": null,
            "grid_area": null,
            "grid_auto_columns": null,
            "grid_auto_flow": null,
            "grid_auto_rows": null,
            "grid_column": null,
            "grid_gap": null,
            "grid_row": null,
            "grid_template_areas": null,
            "grid_template_columns": null,
            "grid_template_rows": null,
            "height": null,
            "justify_content": null,
            "justify_items": null,
            "left": null,
            "margin": null,
            "max_height": null,
            "max_width": null,
            "min_height": null,
            "min_width": null,
            "object_fit": null,
            "object_position": null,
            "order": null,
            "overflow": null,
            "overflow_x": null,
            "overflow_y": null,
            "padding": null,
            "right": null,
            "top": null,
            "visibility": null,
            "width": null
          }
        },
        "87655904b66f44bb9eac6e67e669d35a": {
          "model_module": "@jupyter-widgets/base",
          "model_name": "LayoutModel",
          "model_module_version": "1.2.0",
          "state": {
            "_model_module": "@jupyter-widgets/base",
            "_model_module_version": "1.2.0",
            "_model_name": "LayoutModel",
            "_view_count": null,
            "_view_module": "@jupyter-widgets/base",
            "_view_module_version": "1.2.0",
            "_view_name": "LayoutView",
            "align_content": null,
            "align_items": null,
            "align_self": null,
            "border": null,
            "bottom": null,
            "display": null,
            "flex": null,
            "flex_flow": null,
            "grid_area": null,
            "grid_auto_columns": null,
            "grid_auto_flow": null,
            "grid_auto_rows": null,
            "grid_column": null,
            "grid_gap": null,
            "grid_row": null,
            "grid_template_areas": null,
            "grid_template_columns": null,
            "grid_template_rows": null,
            "height": null,
            "justify_content": null,
            "justify_items": null,
            "left": null,
            "margin": null,
            "max_height": null,
            "max_width": null,
            "min_height": null,
            "min_width": null,
            "object_fit": null,
            "object_position": null,
            "order": null,
            "overflow": null,
            "overflow_x": null,
            "overflow_y": null,
            "padding": null,
            "right": null,
            "top": null,
            "visibility": null,
            "width": null
          }
        },
        "cbfa2496a4df45fe995f34fc3211a0e9": {
          "model_module": "@jupyter-widgets/controls",
          "model_name": "DescriptionStyleModel",
          "model_module_version": "1.5.0",
          "state": {
            "_model_module": "@jupyter-widgets/controls",
            "_model_module_version": "1.5.0",
            "_model_name": "DescriptionStyleModel",
            "_view_count": null,
            "_view_module": "@jupyter-widgets/base",
            "_view_module_version": "1.2.0",
            "_view_name": "StyleView",
            "description_width": ""
          }
        },
        "8129ad5f447b477e9105c2d7017dfb44": {
          "model_module": "@jupyter-widgets/base",
          "model_name": "LayoutModel",
          "model_module_version": "1.2.0",
          "state": {
            "_model_module": "@jupyter-widgets/base",
            "_model_module_version": "1.2.0",
            "_model_name": "LayoutModel",
            "_view_count": null,
            "_view_module": "@jupyter-widgets/base",
            "_view_module_version": "1.2.0",
            "_view_name": "LayoutView",
            "align_content": null,
            "align_items": null,
            "align_self": null,
            "border": null,
            "bottom": null,
            "display": null,
            "flex": null,
            "flex_flow": null,
            "grid_area": null,
            "grid_auto_columns": null,
            "grid_auto_flow": null,
            "grid_auto_rows": null,
            "grid_column": null,
            "grid_gap": null,
            "grid_row": null,
            "grid_template_areas": null,
            "grid_template_columns": null,
            "grid_template_rows": null,
            "height": null,
            "justify_content": null,
            "justify_items": null,
            "left": null,
            "margin": null,
            "max_height": null,
            "max_width": null,
            "min_height": null,
            "min_width": null,
            "object_fit": null,
            "object_position": null,
            "order": null,
            "overflow": null,
            "overflow_x": null,
            "overflow_y": null,
            "padding": null,
            "right": null,
            "top": null,
            "visibility": null,
            "width": null
          }
        },
        "75f8921f1c164e2ea197f5cf9612a14f": {
          "model_module": "@jupyter-widgets/controls",
          "model_name": "ProgressStyleModel",
          "model_module_version": "1.5.0",
          "state": {
            "_model_module": "@jupyter-widgets/controls",
            "_model_module_version": "1.5.0",
            "_model_name": "ProgressStyleModel",
            "_view_count": null,
            "_view_module": "@jupyter-widgets/base",
            "_view_module_version": "1.2.0",
            "_view_name": "StyleView",
            "bar_color": null,
            "description_width": ""
          }
        },
        "391ad155517e4ee1b37f73a88e889749": {
          "model_module": "@jupyter-widgets/base",
          "model_name": "LayoutModel",
          "model_module_version": "1.2.0",
          "state": {
            "_model_module": "@jupyter-widgets/base",
            "_model_module_version": "1.2.0",
            "_model_name": "LayoutModel",
            "_view_count": null,
            "_view_module": "@jupyter-widgets/base",
            "_view_module_version": "1.2.0",
            "_view_name": "LayoutView",
            "align_content": null,
            "align_items": null,
            "align_self": null,
            "border": null,
            "bottom": null,
            "display": null,
            "flex": null,
            "flex_flow": null,
            "grid_area": null,
            "grid_auto_columns": null,
            "grid_auto_flow": null,
            "grid_auto_rows": null,
            "grid_column": null,
            "grid_gap": null,
            "grid_row": null,
            "grid_template_areas": null,
            "grid_template_columns": null,
            "grid_template_rows": null,
            "height": null,
            "justify_content": null,
            "justify_items": null,
            "left": null,
            "margin": null,
            "max_height": null,
            "max_width": null,
            "min_height": null,
            "min_width": null,
            "object_fit": null,
            "object_position": null,
            "order": null,
            "overflow": null,
            "overflow_x": null,
            "overflow_y": null,
            "padding": null,
            "right": null,
            "top": null,
            "visibility": null,
            "width": null
          }
        },
        "e7bb1397811f461b90e95b46e150407f": {
          "model_module": "@jupyter-widgets/controls",
          "model_name": "DescriptionStyleModel",
          "model_module_version": "1.5.0",
          "state": {
            "_model_module": "@jupyter-widgets/controls",
            "_model_module_version": "1.5.0",
            "_model_name": "DescriptionStyleModel",
            "_view_count": null,
            "_view_module": "@jupyter-widgets/base",
            "_view_module_version": "1.2.0",
            "_view_name": "StyleView",
            "description_width": ""
          }
        }
      }
    }
  },
  "cells": [
    {
      "cell_type": "markdown",
      "metadata": {
        "id": "view-in-github",
        "colab_type": "text"
      },
      "source": [
        "<a href=\"https://colab.research.google.com/github/FredLongo/DataMiningProject/blob/main/code/GetTwitterSentiment.ipynb\" target=\"_parent\"><img src=\"https://colab.research.google.com/assets/colab-badge.svg\" alt=\"Open In Colab\"/></a>"
      ]
    },
    {
      "cell_type": "markdown",
      "source": [
        "This first part is about processing the Twitter data to a format we can work with.   \n"
      ],
      "metadata": {
        "id": "-gt85Llw_0cp"
      }
    },
    {
      "cell_type": "markdown",
      "source": [
        "# Project Overview\n",
        "\n",
        "## Evaluation of Twitter stock sentiment on price stock prices.\n",
        "\n",
        "In this project we evaluate twiter tweet posts to see if tweets can act as leading  indicators or lagging indicators to stock prices.  We will push to evaluate this over one and three days from tweet.   \n",
        "\n",
        "\n"
      ],
      "metadata": {
        "id": "mEwxVGti9a79"
      }
    },
    {
      "cell_type": "markdown",
      "source": [
        "# Acquiring  Tweets\n",
        "\n",
        "We targeted twitter tweets to data mine as a source for evaluation of sentiment.  Twitter was chosen because many of the papers we reviewed took this approach.  We wanted to emulate some of their process.  However, Twitter has changed its policies over the past year to not allow twitter pulls for free to research.  As a result, We needed to use a thired party product to pull a few months worth of tweets.  This third party was Apify (www.apify.com)  as a tool it can pull twitter feeds.  This file was created using the tool and the results of which can be found at # Data pulled from https://console.apify.com/actors/2s3kSMq7tpuC3bI6M/runs/cMp5HramffKLAmVSt#output\n",
        "\n",
        "The Json file is stored to the following location\n",
        " https://drive.google.com/file/d/1s429__b-2Gptf2oN2g-t--1aNPkMiyU-/view?usp=drive_link and should be downloaded to the local Colab environment for processing.  \n",
        "\n",
        "\n",
        "## Limiting/Filtering twitter-Tweets.json Data Set\n",
        "During this process we thought about the different approaches to evaluation of stock.  We could look at all tweets and get sentinment with respect to the market.  However, we found that there are so many ways to interpret the tweets with respect to the market as a whole was difficult. Some filtering was required.  We chose to limit our stocks to just the top 7 of the S&P 100.  By doing so we felt this would be easier to selectively identify tweets with respect to the stock.  The stocks we chose are \"Apple\",\"Alphabet\",\"Amazon\",\"Microsoft\",\"Meta\",\"Nvidia\" and \"Tesla\".  Using their Stock lable of \"AAPL\",\"GOOG\",\"AMZN\",\"MSFT\",\"META\",\"NVDA\",\"TSLA\"\n",
        "\n",
        "We also just looked a few months of tweets.  This is to limit the data set to just a sample timeframe.  \n",
        "\n",
        "Twitter has many users(channels) that produce tweets. We recognize not all channels are interested in producing relevant, reliable, and consistent statements with respect to market or stocks.  So, we limit the channels that we monitored to just a few key players that we thought might be relevant in the marketspace of stock evaluations.  The channels we chose to evaluate are \"@USNewsMoney\", \"@TMFStockAdvisor\", \"@ftfinancenews\", \"@Stocktwits\", \"@MadMoneyOnCNBC\" and \"@SquawkCNBC\".  We found these to be popular that should fit our needs.\n",
        "\n",
        "\n"
      ],
      "metadata": {
        "id": "KuQ7215q_4uA"
      }
    },
    {
      "cell_type": "markdown",
      "source": [
        "Loading tweet data from Twitter."
      ],
      "metadata": {
        "id": "LEz7VDQ1FIVJ"
      }
    },
    {
      "cell_type": "code",
      "execution_count": 1,
      "metadata": {
        "id": "SBQdtyBwzosZ"
      },
      "outputs": [],
      "source": [
        "import json\n",
        "import csv\n",
        "import requests\n",
        "from datetime import datetime\n",
        "\n"
      ]
    },
    {
      "cell_type": "code",
      "source": [
        "\n",
        "#The Twitter-Tweets file can be pulled off the internet from the following\n",
        "\n",
        "# As JSON\n",
        "#Tweets_url = 'https://drive.google.com/file/d/1s429__b-2Gptf2oN2g-t--1aNPkMiyU-/view?usp=drive_link'\n",
        "Tweets_filename = 'twitter-tweets.json'\n",
        "\n",
        "\n",
        "#infile = f\"/content/{Tweets_filename}\"\n",
        "infile = Tweets_filename\n",
        "\n",
        "print(infile)\n",
        "\n",
        "with open(infile, \"r\") as f:\n",
        "  data = json.load(f)\n",
        "\n",
        "\n"
      ],
      "metadata": {
        "colab": {
          "base_uri": "https://localhost:8080/"
        },
        "id": "7dVV8pfAKiki",
        "outputId": "d1e0089f-3089-4b6f-885d-78e243f86c30"
      },
      "execution_count": 2,
      "outputs": [
        {
          "output_type": "stream",
          "name": "stdout",
          "text": [
            "twitter-tweets.json\n"
          ]
        }
      ]
    },
    {
      "cell_type": "markdown",
      "source": [
        "Load stock price data."
      ],
      "metadata": {
        "id": "xWvUAVD3lgAU"
      }
    },
    {
      "cell_type": "code",
      "source": [
        "\n",
        "#Stock Price URL of the file to be downloaded\n",
        "StockPrice_url = 'https://drive.google.com/file/d/1Hk3Ca66ai_vAO14EFAD1AfOEk2A60E-U/view?usp=drive_link'\n",
        "\n",
        "# Send a GET request to the URL\n",
        "StockPrice_response = requests.get(StockPrice_url)\n",
        "\n",
        "# Ensure the request was successful\n",
        "if StockPrice_response.status_code == 200:\n",
        "    # Write the content of the response to a file\n",
        "    with open('StockPrice.csv', 'wb') as file:\n",
        "        file.write(StockPrice_response.content)\n",
        "else:\n",
        "    print(f\"Failed to download the file. Status code: {StockPrice_response.status_code}\")\n"
      ],
      "metadata": {
        "id": "kUpZkFsVrO7h"
      },
      "execution_count": 3,
      "outputs": []
    },
    {
      "cell_type": "markdown",
      "source": [
        "# Data Structure\n",
        "\n",
        "We needed a way to store our data so we implented SQLITE database to  use.\n"
      ],
      "metadata": {
        "id": "XjDl94NGnu_z"
      }
    },
    {
      "cell_type": "code",
      "source": [
        "\n",
        "import sqlite3\n",
        "conn = sqlite3.connect(\"Project.db\")\n",
        "\n",
        "# Create a cursor object using the cursor() method\n",
        "cursor = conn.cursor()\n"
      ],
      "metadata": {
        "id": "ip_IaVLXoDqN"
      },
      "execution_count": 4,
      "outputs": []
    },
    {
      "cell_type": "code",
      "source": [
        "# SQL command to create Tweets table\n",
        "\n",
        "create_table_command = \"\"\"\n",
        "CREATE TABLE Tweets (\n",
        "    Timestamp DATE,\n",
        "    DateKey TEXT,\n",
        "    Channel TEXT,\n",
        "    Stock  TEXT,\n",
        "    Neg_score FLOAT,\n",
        "    Neu_score FLOAT,\n",
        "    Pos_score FLOAT,\n",
        "    Sentiment Int,\n",
        "    Tweet_orginal TEXT,\n",
        "    Tweet_clean TEXT\n",
        "\n",
        ");\n",
        "\"\"\"\n",
        "\n",
        "\n",
        "# Execute the SQL command\n",
        "cursor.execute(create_table_command)\n",
        "\n",
        "\n"
      ],
      "metadata": {
        "id": "fGfpjAyRojzy",
        "outputId": "bd7fdf97-08d1-4da8-993b-4ccbff14f600",
        "colab": {
          "base_uri": "https://localhost:8080/"
        }
      },
      "execution_count": 5,
      "outputs": [
        {
          "output_type": "execute_result",
          "data": {
            "text/plain": [
              "<sqlite3.Cursor at 0x7f5bd4208e40>"
            ]
          },
          "metadata": {},
          "execution_count": 5
        }
      ]
    },
    {
      "cell_type": "code",
      "source": [
        "#dbexec(\"drop table Tweets\")"
      ],
      "metadata": {
        "id": "2-REJOoyA-N0"
      },
      "execution_count": null,
      "outputs": []
    },
    {
      "cell_type": "code",
      "source": [
        "# SQL command to create Stocks table\n",
        "\n",
        "create_table_command = \"\"\"\n",
        "CREATE TABLE Stocks (\n",
        "    ID INTEGER PRIMARY KEY AUTOINCREMENT,\n",
        "    Date DATE,\n",
        "    DateKey TEXT,\n",
        "    AAPL_C\tFLOAT,\n",
        "    AMZN_C\tFLOAT,\n",
        "    GOOG_C\tFLOAT,\n",
        "    META_C\tFLOAT,\n",
        "    MSFT_C\tFLOAT,\n",
        "    NVDA_C\tFLOAT,\n",
        "    TSLA_C\tFLOAT,\n",
        "    AAPL_H\tFLOAT,\n",
        "    AMZN_H\tFLOAT,\n",
        "    GOOG_H\tFLOAT,\n",
        "    META_H\tFLOAT,\n",
        "    MSFT_H\tFLOAT,\n",
        "    NVDA_H\tFLOAT,\n",
        "    TSLA_H\tFLOAT,\n",
        "    AAPL_L\tFLOAT,\n",
        "    AMZN_L\tFLOAT,\n",
        "    GOOG_L\tFLOAT,\n",
        "    META_L\tFLOAT,\n",
        "    MSFT_L\tFLOAT,\n",
        "    NVDA_L\tFLOAT,\n",
        "    TSLA_L\tFLOAT,\n",
        "    AAPL_O\tFLOAT,\n",
        "    AMZN_O\tFLOAT,\n",
        "    GOOG_O\tFLOAT,\n",
        "    META_O\tFLOAT,\n",
        "    MSFT_O\tFLOAT,\n",
        "    NVDA_O\tFLOAT,\n",
        "    TSLA_O\tFLOAT,\n",
        "    AAPL_V\tFLOAT,\n",
        "    AMZN_V\tFLOAT,\n",
        "    GOOG_V\tFLOAT,\n",
        "    META_V\tFLOAT,\n",
        "    MSFT_V\tFLOAT,\n",
        "    NVDA_V\tFLOAT,\n",
        "    TSLA_V\tFLOAT,\n",
        "    AAPL_N\tFLOAT,\n",
        "    AMZN_N\tFLOAT,\n",
        "    GOOG_N\tFLOAT,\n",
        "    META_N\tFLOAT,\n",
        "    MSFT_N\tFLOAT,\n",
        "    NVDA_N\tFLOAT,\n",
        "    TSLA_N\tFLOAT,\n",
        "    AAPL_U\tFLOAT,\n",
        "    AMZN_U\tFLOAT,\n",
        "    GOOG_U\tFLOAT,\n",
        "    META_U\tFLOAT,\n",
        "    MSFT_U\tFLOAT,\n",
        "    NVDA_U\tFLOAT,\n",
        "    TSLA_U\tFLOAT,\n",
        "    AAPL_P\tFLOAT,\n",
        "    AMZN_P\tFLOAT,\n",
        "    GOOG_P\tFLOAT,\n",
        "    META_P\tFLOAT,\n",
        "    MSFT_P\tFLOAT,\n",
        "    NVDA_P\tFLOAT,\n",
        "    TSLA_P  FLOAT\n",
        ");\n",
        "\"\"\"\n",
        "\n",
        "# Execute the SQL command\n",
        "cursor.execute(create_table_command)"
      ],
      "metadata": {
        "id": "o4eTuYmH2Tkm",
        "outputId": "21540341-4f15-4f0e-d40b-86d285237495",
        "colab": {
          "base_uri": "https://localhost:8080/"
        }
      },
      "execution_count": 6,
      "outputs": [
        {
          "output_type": "execute_result",
          "data": {
            "text/plain": [
              "<sqlite3.Cursor at 0x7f5bd4208e40>"
            ]
          },
          "metadata": {},
          "execution_count": 6
        }
      ]
    },
    {
      "cell_type": "code",
      "source": [
        "#dbexec(\"drop table Stocks\")"
      ],
      "metadata": {
        "id": "2seEccaT-p6P"
      },
      "execution_count": 7,
      "outputs": []
    },
    {
      "cell_type": "code",
      "source": [
        "# List all table in DB\n",
        "\n",
        "list_tables_command = \"SELECT name FROM sqlite_master WHERE type='table';\"\n",
        "cursor.execute(list_tables_command)\n",
        "\n",
        "tables = cursor.fetchall()\n",
        "for table in tables:\n",
        "  print(table[0])"
      ],
      "metadata": {
        "id": "G-28QESVomZs",
        "colab": {
          "base_uri": "https://localhost:8080/"
        },
        "outputId": "fd5a76d7-a5b5-4a03-95fb-ae6c241c3ab4"
      },
      "execution_count": null,
      "outputs": [
        {
          "output_type": "stream",
          "name": "stdout",
          "text": [
            "sqlite_sequence\n",
            "Tweets\n",
            "Stocks\n"
          ]
        }
      ]
    },
    {
      "cell_type": "code",
      "source": [
        "\n",
        "# SQL command to get all columns of a table\n",
        "\n",
        "table_name = 'Tweets'  # Replace with your table name\n",
        "pragma_query = f\"PRAGMA table_info({table_name});\"\n",
        "\n",
        "# Execute the command\n",
        "cursor.execute(pragma_query)\n",
        "\n",
        "# Fetch all results\n",
        "columns = cursor.fetchall()\n",
        "\n",
        "# Print column names\n",
        "print(f\"Table: {table_name}\")\n",
        "for col in columns:\n",
        "    print(col[1])  # Column names are in the second position in the result tuple\n",
        "print(\"\")\n",
        "\n",
        "\n",
        "table_name = 'Stocks'  # Replace with your table name\n",
        "pragma_query = f\"PRAGMA table_info({table_name});\"\n",
        "\n",
        "# Execute the command\n",
        "cursor.execute(pragma_query)\n",
        "\n",
        "# Fetch all results\n",
        "columns = cursor.fetchall()\n",
        "\n",
        "# Print column names\n",
        "print(f\"Table: {table_name}\")\n",
        "for col in columns:\n",
        "    print(col[1])  # Column names are in the second position in the result tuple\n",
        "\n",
        "\n"
      ],
      "metadata": {
        "id": "uqq9KUZz3f6T",
        "colab": {
          "base_uri": "https://localhost:8080/"
        },
        "outputId": "7e0b8926-bbee-4d46-f199-631ecd0f0cd9"
      },
      "execution_count": 8,
      "outputs": [
        {
          "output_type": "stream",
          "name": "stdout",
          "text": [
            "Table: Tweets\n",
            "Timestamp\n",
            "DateKey\n",
            "Channel\n",
            "Stock\n",
            "Neg_score\n",
            "Neu_score\n",
            "Pos_score\n",
            "Sentiment\n",
            "Tweet_orginal\n",
            "Tweet_clean\n",
            "\n",
            "Table: Stocks\n",
            "ID\n",
            "Date\n",
            "DateKey\n",
            "AAPL_C\n",
            "AMZN_C\n",
            "GOOG_C\n",
            "META_C\n",
            "MSFT_C\n",
            "NVDA_C\n",
            "TSLA_C\n",
            "AAPL_H\n",
            "AMZN_H\n",
            "GOOG_H\n",
            "META_H\n",
            "MSFT_H\n",
            "NVDA_H\n",
            "TSLA_H\n",
            "AAPL_L\n",
            "AMZN_L\n",
            "GOOG_L\n",
            "META_L\n",
            "MSFT_L\n",
            "NVDA_L\n",
            "TSLA_L\n",
            "AAPL_O\n",
            "AMZN_O\n",
            "GOOG_O\n",
            "META_O\n",
            "MSFT_O\n",
            "NVDA_O\n",
            "TSLA_O\n",
            "AAPL_V\n",
            "AMZN_V\n",
            "GOOG_V\n",
            "META_V\n",
            "MSFT_V\n",
            "NVDA_V\n",
            "TSLA_V\n",
            "AAPL_N\n",
            "AMZN_N\n",
            "GOOG_N\n",
            "META_N\n",
            "MSFT_N\n",
            "NVDA_N\n",
            "TSLA_N\n",
            "AAPL_U\n",
            "AMZN_U\n",
            "GOOG_U\n",
            "META_U\n",
            "MSFT_U\n",
            "NVDA_U\n",
            "TSLA_U\n",
            "AAPL_P\n",
            "AMZN_P\n",
            "GOOG_P\n",
            "META_P\n",
            "MSFT_P\n",
            "NVDA_P\n",
            "TSLA_P\n"
          ]
        }
      ]
    },
    {
      "cell_type": "markdown",
      "source": [
        "This function is used to easily Execute SQL Commands so quickly display."
      ],
      "metadata": {
        "id": "Hfgn4k3zCzt0"
      }
    },
    {
      "cell_type": "code",
      "source": [
        "def dbexec(command):\n",
        "  # Execute the command\n",
        "  cursor.execute(command)\n",
        "\n",
        "  # Fetch all the rows from the executed query\n",
        "  rows = cursor.fetchall()\n",
        "\n",
        "  # Iterate through rows and print them\n",
        "  for row in rows:\n",
        "    print(row)\n",
        "\n",
        "\n"
      ],
      "metadata": {
        "id": "Ahcn6VBjzUxt"
      },
      "execution_count": 9,
      "outputs": []
    },
    {
      "cell_type": "code",
      "source": [
        "\n",
        "def Stock_case_AAPL():\n",
        "    return \"AAPL\"\n",
        "\n",
        "def Stock_case_GOOG():\n",
        "    return \"GOOG\"\n",
        "\n",
        "def Stock_case_AMZN():\n",
        "    return \"AMZN\"\n",
        "\n",
        "def Stock_case_META():\n",
        "    return \"META\"\n",
        "\n",
        "def Stock_case_MSFT():\n",
        "    return \"MSFT\"\n",
        "\n",
        "def Stock_case_NVDA():\n",
        "    return \"NVDA\"\n",
        "\n",
        "def Stock_case_TSLA():\n",
        "    return \"TSLA\"\n",
        "\n",
        "def Stock_case_default():\n",
        "    return \"ERROR\"\n",
        "\n",
        "def Stock_Symble(StockID):\n",
        "  StockID = StockID.strip()\n",
        "  switcher = {\n",
        "      'AAPL':       Stock_case_AAPL,\n",
        "      'Alphabet':  \tStock_case_GOOG,\n",
        "      'AMZN':   \t\tStock_case_AMZN,\n",
        "      'Apple':   \t\tStock_case_AAPL,\n",
        "      'GOOG':   \t\tStock_case_GOOG,\n",
        "      'META':   \t \tStock_case_META,\n",
        "      'Microsoft': \tStock_case_MSFT,\n",
        "      'MSFT':   \t\tStock_case_MSFT,\n",
        "      'NVDA':   \t\tStock_case_NVDA,\n",
        "      'Nvidia':   \tStock_case_NVDA,\n",
        "      'Tesla':   \t\tStock_case_TSLA,\n",
        "      'TSLA':   \t\tStock_case_TSLA\n",
        "  }\n",
        "\n",
        "  # Get the function from switcher dictionary\n",
        "  case_function = switcher.get(StockID, Stock_case_default)\n",
        "\n",
        "  # Execute the function\n",
        "  return case_function()\n",
        "\n",
        "\n"
      ],
      "metadata": {
        "id": "EgaBLive0sLk"
      },
      "execution_count": 10,
      "outputs": []
    },
    {
      "cell_type": "markdown",
      "source": [
        "# Evaluation of Twitter Sentiment"
      ],
      "metadata": {
        "id": "tGniHGe_E29l"
      }
    },
    {
      "cell_type": "markdown",
      "source": [
        "At this point I want to add the code to do the sentiment analysis.\n",
        "\n",
        "\n",
        "We do this by using a publicly available Sequence Classifier that has been pretrained on tweeter tweets for sentement of Positive, Neutral, or Negetive."
      ],
      "metadata": {
        "id": "n-fnSw-Im217"
      }
    },
    {
      "cell_type": "code",
      "source": [
        "\n",
        "from transformers import AutoTokenizer, AutoModelForSequenceClassification\n",
        "from scipy.special import softmax\n",
        "\n",
        "\n",
        "# load model and tokenizer\n",
        "roberta = \"cardiffnlp/twitter-roberta-base-sentiment\"\n",
        "\n",
        "model = AutoModelForSequenceClassification.from_pretrained(roberta)\n",
        "tokenizer = AutoTokenizer.from_pretrained(roberta)\n",
        "\n",
        "labels = ['Negative', 'Neutral', 'Positive']\n",
        "\n",
        "Negative = 0\n",
        "Neutral = 1\n",
        "Positive = 2\n",
        "\n"
      ],
      "metadata": {
        "id": "75BicuOmm9rm",
        "outputId": "0cac3f0a-dcfa-4f56-c213-aa16d048122a",
        "colab": {
          "base_uri": "https://localhost:8080/",
          "height": 177,
          "referenced_widgets": [
            "0e41eb6ab3624303813d76b6a28062dc",
            "93a8aaeff5094bf0b37af5d3682c5234",
            "9ccf51227fa4499ab8c61b44b40aa498",
            "d0b798e8901c42d69e161c7c1c9c8c31",
            "ae316337baba4e6091be72f1872256a8",
            "a63f15835cf3425e8e50001679fec051",
            "e35a849f6fc64186a5966469230201e0",
            "0d72af761e5f47428a9eb8a5fcc1f614",
            "4faf9debab6842bcabad5848390df1aa",
            "af3330a6b5284588b9da3ef2c65deb90",
            "c9df6af60c0b43b987d5a486c8668e17",
            "b8919527810243c5bac582b6821eb64a",
            "f8513f4d799346cda1f9bf2b4cca12e7",
            "04ff4586716d4cb5810297e423a143e7",
            "2e90735a73a644e4aadcd56cec63da96",
            "b72457ef88384714a64dd276bf8e8db4",
            "35f94ff49473417abee416560c4ccc69",
            "71ee95200d694124895cc68921823ec1",
            "1099625b3f094e6c81f496cbd1470715",
            "f30ab3d65bde4567a32203de048782f8",
            "52cdc1212bcf432583d6cb714c9930dc",
            "1cb52b57fa154f53afa47e0058978d49",
            "fa481866a4bb42ad9d9575b416b74cf3",
            "32fc8b7b074a4a56b0e39ed474ea840b",
            "75108f520dd040bd91766726ab85e9b7",
            "3c968d30747341f2bcc10c78933c805c",
            "8dca371e63bc45f388b8d8910a8c6e78",
            "579a5e04391a42a4a8e34fc9af33b728",
            "810ed3c6b8b14116a90578916491ed32",
            "18a08c1b0bad43e085cd1afc83588db2",
            "23798c364d7c4d868bc7d6152ea6e0c2",
            "b26c9fff6c7641a58f767e67ecca7a01",
            "41b4ebff3c6444039ef74f81a4b752fa",
            "9795312b1eb94cc893a912962edd07b1",
            "c4ce9cab100249e792a03bc80d454675",
            "bdb837279a914322b8c33f2b71bd3fdf",
            "b6aa118e7ea14976bcddde8b41524ff4",
            "97b42d15aee5413fb198f8a4c9c2fbc7",
            "2707bacafa3542d3919c045f882d5385",
            "0f07a6d92f3e4b3cb9701596079f76af",
            "dcd0bb36fc3047179ef0b586e67110b5",
            "a50ff684683340429b6af334421bec21",
            "afefe56ea8854e55a2b6b29a8b330ed7",
            "886edec93e5e474188590a188de338d5",
            "df1a0e1170b948e58529a5bc53bceee6",
            "73cfd2fc8cfe49a38ef5eecdfaf9517a",
            "ce39622bb805405f8e228babeb554a37",
            "ad2956650d34403489d6cfb7104095b4",
            "5c8a4788c0024e54a774c0dd900b0d47",
            "87655904b66f44bb9eac6e67e669d35a",
            "cbfa2496a4df45fe995f34fc3211a0e9",
            "8129ad5f447b477e9105c2d7017dfb44",
            "75f8921f1c164e2ea197f5cf9612a14f",
            "391ad155517e4ee1b37f73a88e889749",
            "e7bb1397811f461b90e95b46e150407f"
          ]
        }
      },
      "execution_count": 11,
      "outputs": [
        {
          "output_type": "display_data",
          "data": {
            "text/plain": [
              "config.json:   0%|          | 0.00/747 [00:00<?, ?B/s]"
            ],
            "application/vnd.jupyter.widget-view+json": {
              "version_major": 2,
              "version_minor": 0,
              "model_id": "0e41eb6ab3624303813d76b6a28062dc"
            }
          },
          "metadata": {}
        },
        {
          "output_type": "display_data",
          "data": {
            "text/plain": [
              "pytorch_model.bin:   0%|          | 0.00/499M [00:00<?, ?B/s]"
            ],
            "application/vnd.jupyter.widget-view+json": {
              "version_major": 2,
              "version_minor": 0,
              "model_id": "b8919527810243c5bac582b6821eb64a"
            }
          },
          "metadata": {}
        },
        {
          "output_type": "display_data",
          "data": {
            "text/plain": [
              "vocab.json:   0%|          | 0.00/899k [00:00<?, ?B/s]"
            ],
            "application/vnd.jupyter.widget-view+json": {
              "version_major": 2,
              "version_minor": 0,
              "model_id": "fa481866a4bb42ad9d9575b416b74cf3"
            }
          },
          "metadata": {}
        },
        {
          "output_type": "display_data",
          "data": {
            "text/plain": [
              "merges.txt:   0%|          | 0.00/456k [00:00<?, ?B/s]"
            ],
            "application/vnd.jupyter.widget-view+json": {
              "version_major": 2,
              "version_minor": 0,
              "model_id": "9795312b1eb94cc893a912962edd07b1"
            }
          },
          "metadata": {}
        },
        {
          "output_type": "display_data",
          "data": {
            "text/plain": [
              "special_tokens_map.json:   0%|          | 0.00/150 [00:00<?, ?B/s]"
            ],
            "application/vnd.jupyter.widget-view+json": {
              "version_major": 2,
              "version_minor": 0,
              "model_id": "df1a0e1170b948e58529a5bc53bceee6"
            }
          },
          "metadata": {}
        }
      ]
    },
    {
      "cell_type": "markdown",
      "source": [
        "remove_quotes funciton is used to remove any single or double quouts from the tweet so as to normilize the messages for processing."
      ],
      "metadata": {
        "id": "hExKSb3_DVOn"
      }
    },
    {
      "cell_type": "code",
      "source": [
        "def remove_quotes(input_string):\n",
        "    # Remove single quotes\n",
        "    no_single_quotes = input_string.replace(\"'\", \"\")\n",
        "\n",
        "    # Remove double quotes\n",
        "    no_quotes = no_single_quotes.replace('\"', \"\")\n",
        "\n",
        "    return no_quotes"
      ],
      "metadata": {
        "id": "YIvyElIWlWVV"
      },
      "execution_count": 12,
      "outputs": []
    },
    {
      "cell_type": "markdown",
      "source": [
        "Since we have exluded emaoji evaluation the remove_emojis funciton is used to remove any emojis from the tweet so as to normilize the messages for processing."
      ],
      "metadata": {
        "id": "z49Bh7iJDqZ-"
      }
    },
    {
      "cell_type": "code",
      "source": [
        "def remove_emojis(text):\n",
        "    # Define the emoji pattern using Unicode ranges\n",
        "    emoji_pattern = re.compile(\"[\"\n",
        "                           u\"\\U0001F600-\\U0001F64F\"  # emoticons\n",
        "                           u\"\\U0001F300-\\U0001F5FF\"  # symbols & pictographs\n",
        "                           u\"\\U0001F680-\\U0001F6FF\"  # transport & map symbols\n",
        "                           u\"\\U0001F1E0-\\U0001F1FF\"  # flags (iOS)\n",
        "                           u\"\\U00002702-\\U000027B0\"\n",
        "                           u\"\\U000024C2-\\U0001F251\"\n",
        "                           \"]+\", flags=re.UNICODE)\n",
        "\n",
        "    # Remove emojis from the text\n",
        "    return emoji_pattern.sub(r'', text)\n"
      ],
      "metadata": {
        "id": "R9OkeX5hZfZ3"
      },
      "execution_count": 13,
      "outputs": []
    },
    {
      "cell_type": "markdown",
      "source": [
        "Clean_string funciton is used to remove any non visiable from the tweet so as to normilize the messages for processing."
      ],
      "metadata": {
        "id": "eLiYNS4cD8GU"
      }
    },
    {
      "cell_type": "code",
      "source": [
        "import re\n",
        "\n",
        "def clean_string(input_string):\n",
        "    # Regex to match only visible characters\n",
        "    # This excludes most control characters like \\n, \\t, \\r, etc.\n",
        "    visible_chars_regex = r'[^\\x20-\\x7E]'\n",
        "\n",
        "    # Substitute non-visible characters with an empty string\n",
        "    cleaned_string = re.sub(visible_chars_regex, '', input_string)\n",
        "\n",
        "    return cleaned_string\n"
      ],
      "metadata": {
        "id": "AJ3F5PWZXwD1"
      },
      "execution_count": 14,
      "outputs": []
    },
    {
      "cell_type": "markdown",
      "source": [
        "Because tweets contain usernames and URLs the preprocess_tweet funciton is used to replace a standered string for these elements so as the names themselves do not affect the sentiment engine.  "
      ],
      "metadata": {
        "id": "EBiV3ddtEI-e"
      }
    },
    {
      "cell_type": "code",
      "source": [
        "def preprocesses_tweet(tweet):\n",
        "  tweet_words = []\n",
        "\n",
        "  cleaned_string = remove_emojis(tweet)\n",
        "  cleaned_string = remove_quotes(cleaned_string)\n",
        "  cleaned_string = clean_string(cleaned_string)\n",
        "\n",
        "\n",
        "  # replace\n",
        "  for word in cleaned_string.split(' '):\n",
        "    # username\n",
        "    if word.startswith('@') and len(word) > 1 :\n",
        "      word = '@user'\n",
        "\n",
        "    # http link\n",
        "    elif word.startswith('http'):\n",
        "      word = \"http\"\n",
        "\n",
        "    elif word == '':\n",
        "      continue\n",
        "\n",
        "    tweet_words.append(word)\n",
        "\n",
        "\n",
        "  tweet_proc = \" \".join(tweet_words)\n",
        "  return tweet_proc\n"
      ],
      "metadata": {
        "id": "7dWCHf6CrFur"
      },
      "execution_count": 15,
      "outputs": []
    },
    {
      "cell_type": "markdown",
      "source": [
        "Runs tweet into AI sentement anilizer model."
      ],
      "metadata": {
        "id": "48dR2eKMEmlc"
      }
    },
    {
      "cell_type": "code",
      "source": [
        "def get_tweet_sentiment(tweet_proc):\n",
        "  # sentiment analysis\n",
        "  encoded_tweet = tokenizer(tweet_proc, return_tensors='pt')\n",
        "  # output = model(encoded_tweet['input_ids'], encoded_tweet['attention_mask'])\n",
        "  output = model(**encoded_tweet)\n",
        "\n",
        "  scores = output[0][0].detach().numpy()\n",
        "  scores = softmax(scores)\n",
        "\n",
        "  maxposition = 0\n",
        "  maxscore = 0\n",
        "\n",
        "  for i in range(len(scores)):\n",
        "    if maxscore <= scores[i]:\n",
        "      maxposition = i\n",
        "      maxscore = scores[i]\n",
        "\n",
        "  return labels[maxposition]  , scores[maxposition], maxposition, scores[0],scores[1],scores[2]\n",
        "\n",
        "\n"
      ],
      "metadata": {
        "id": "kofDI5AUtuy7"
      },
      "execution_count": 16,
      "outputs": []
    },
    {
      "cell_type": "code",
      "source": [
        "# Evaluate Tweet and and to database.\n",
        "import time\n",
        "\n",
        "# Clean up in case something is already in there\n",
        "cursor.execute(\"DELETE FROM Tweets\")\n",
        "\n",
        "loop_count = -1\n",
        "tweet_proc = \"\"\n",
        "\n",
        "\n",
        "# Need to create a tweet loop\n",
        "\n",
        "for x in data:\n",
        "  loop_count+=1\n",
        "  #print(loop_count)\n",
        "  try:\n",
        "\n",
        "    tweet_proc = preprocesses_tweet(x['text'])\n",
        "    sentiment_label, sentiment_score, Sentiment, scores0,scores1,scores2 = get_tweet_sentiment(tweet_proc)\n",
        "    stock_symble_o = x['searchQuery']\n",
        "    stock_symble = Stock_Symble(x['searchQuery'])\n",
        "\n",
        "\n",
        "    date_object = datetime.strptime(x['timestamp'],  \"%Y-%m-%dT%H:%M:%S.%fZ\" )\n",
        "    date_key = date_object.strftime(\"%Y-%m-%d\")\n",
        "\n",
        "    insert_command = f\"INSERT INTO Tweets (Timestamp, DateKey, Channel, Stock, Neg_score, Neu_score, Pos_score, sentiment,Tweet_clean) VALUES ('{x['timestamp']}','{date_key}','{x['user']['username']}', '{stock_symble}','{scores0}','{scores1}','{scores2}','{Sentiment}','{tweet_proc}')\"\n",
        "    cursor.execute(insert_command)\n",
        "\n",
        "  except Exception as e:\n",
        "    print(f\"---------------------------------------\")\n",
        "    print(f\"exception on {str(loop_count)}\")\n",
        "    print(f\"Error {e}\")\n",
        "    continue\n",
        "\n",
        "\n",
        "# Commit the changes to database on drive.\n",
        "conn.commit()\n",
        "\n",
        "\n",
        "# Sanity Data Check\n",
        "dbexec(\"Select Stock , count(1) from Tweets group by Stock \")\n",
        "dbexec(\"Select count(1) from Tweets\")\n"
      ],
      "metadata": {
        "id": "aWoAqEnpm-r0",
        "outputId": "ee8d178a-83ee-4f9e-fe77-1db496b07ad5",
        "colab": {
          "base_uri": "https://localhost:8080/"
        }
      },
      "execution_count": 21,
      "outputs": [
        {
          "output_type": "stream",
          "name": "stdout",
          "text": [
            "('AAPL', 52)\n",
            "('AMZN', 39)\n",
            "('GOOG', 8)\n",
            "('META', 39)\n",
            "('MSFT', 36)\n",
            "('NVDA', 55)\n",
            "('TSLA', 63)\n",
            "(292,)\n"
          ]
        }
      ]
    },
    {
      "cell_type": "markdown",
      "source": [
        "# Aquiring Stock Prices"
      ],
      "metadata": {
        "id": "hYhakd00FjVi"
      }
    },
    {
      "cell_type": "markdown",
      "source": [
        "Using Yahoo Financial API to pull historical Stock information."
      ],
      "metadata": {
        "id": "csVNZD7LMRvw"
      }
    },
    {
      "cell_type": "code",
      "source": [
        "import yfinance as yf\n",
        "import pandas as pd\n",
        "import matplotlib.pyplot as plt\n",
        "\n",
        "\n",
        "PARAMS = {\n",
        "    't': '6mo',\n",
        "    'tickers': 'GOOG, AMZN, AAPL, META, MSFT, NVDA, TSLA'\n",
        "    }\n",
        "\n",
        "\n",
        "data = yf.Tickers(PARAMS.get('tickers'))\n",
        "\n",
        "hist = data.history(PARAMS.get('t'))\n",
        "#hist   # view the dataframe\n",
        "\n",
        "#Save to CSV\n",
        "hist.to_csv('hist_out.csv')\n",
        "\n",
        "\n"
      ],
      "metadata": {
        "id": "zFp04_OPKtXt",
        "outputId": "2c8eb37c-1cd4-4873-fc78-a31825785490",
        "colab": {
          "base_uri": "https://localhost:8080/"
        }
      },
      "execution_count": 27,
      "outputs": [
        {
          "output_type": "stream",
          "name": "stdout",
          "text": [
            "[*********************100%%**********************]  7 of 7 completed\n"
          ]
        }
      ]
    },
    {
      "cell_type": "code",
      "source": [
        "# Load the CSV file we downloaded.  It contains the Stock Prices for the past few months.\n",
        "import csv\n",
        "\n",
        "# Specify the CSV file name\n",
        "csv_file_name = \"StockPrices.csv\"\n",
        "#csv_file_name = \"hist_out.csv\"\n",
        "\n",
        "# Initialize an empty database table just in case I stuck something in their.\n",
        "dbexec(\"DELETE FROM Stocks \")\n",
        "\n",
        "\n",
        "# Open the CSV file in read mode\n",
        "with open(csv_file_name, mode='r', newline='') as csv_file:\n",
        "    # Create a CSV reader\n",
        "    csv_reader = csv.reader(csv_file)\n",
        "\n",
        "    # Read the header row\n",
        "    header = next(csv_reader)\n",
        "\n",
        "    header_row = True\n",
        "\n",
        "\n",
        "    # Read the data rows\n",
        "    for row in csv_reader:\n",
        "        #data.append(row)\n",
        "\n",
        "        if header_row == True:\n",
        "          header_row = False\n",
        "          continue\n",
        "        date_object = datetime.strptime(row[0], \"%m/%d/%Y\")\n",
        "        date_key = date_object.strftime(\"%Y-%m-%d\")\n",
        "        insert_command = f'''INSERT INTO Stocks\n",
        "                        ( Date,DateKey,\n",
        "                          AAPL_C,\tAMZN_C,\tGOOG_C,\tMETA_C,\tMSFT_C,\tNVDA_C,\tTSLA_C,\n",
        "                          AAPL_H,\tAMZN_H,\tGOOG_H,\tMETA_H,\tMSFT_H,\tNVDA_H,\tTSLA_H,\n",
        "                          AAPL_L,\tAMZN_L,\tGOOG_L,\tMETA_L,\tMSFT_L,\tNVDA_L,\tTSLA_L,\n",
        "                          AAPL_O,\tAMZN_O,\tGOOG_O,\tMETA_O,\tMSFT_O,\tNVDA_O,\tTSLA_O,\n",
        "                          AAPL_V,\tAMZN_V,\tGOOG_V,\tMETA_V,\tMSFT_V,\tNVDA_V,\tTSLA_V\n",
        "                        )\n",
        "                      VALUES\n",
        "                        (\n",
        "                          '{date_object}','{date_key}',\n",
        "                          '{row[1]}',\t'{row[2]}',\t  '{row[3]}',\t  '{row[4]}',\t  '{row[5]}',\t  '{row[6]}',   '{row[7]}',\n",
        "                          '{row[15]}',\t'{row[16]}',\t'{row[17]}',\t'{row[18]}',\t'{row[19]}',\t'{row[20]}',\t'{row[21]}',\n",
        "                          '{row[22]}',\t'{row[23]}',\t'{row[24]}',\t'{row[25]}',\t'{row[26]}',\t'{row[27]}',\t'{row[28]}',\n",
        "                          '{row[29]}',\t'{row[30]}',\t'{row[31]}',\t'{row[32]}',\t'{row[33]}',\t'{row[34]}',\t'{row[35]}',\n",
        "                          '{row[43]}',\t'{row[44]}',\t'{row[45]}',\t'{row[46]}',\t'{row[47]}',\t'{row[48]}',\t'{row[49]}'\n",
        "                        )'''\n",
        "        cursor.execute(insert_command)\n",
        "\n",
        "\n",
        "# Display the loaded data\n",
        "#for row in data:\n",
        "#    print(row)\n",
        "\n",
        "# Data Sanity Check\n",
        "dbexec(\"Select count(1) from Stocks\")\n",
        "dbexec(\"Select  * from Tweets  LIMIT 3\")\n",
        "dbexec(\"Select  * from Stocks  LIMIT 3\")\n"
      ],
      "metadata": {
        "colab": {
          "base_uri": "https://localhost:8080/"
        },
        "id": "kgINSPpyWCQ3",
        "outputId": "bdcd30ed-8d21-41a6-c59b-f962329742e4"
      },
      "execution_count": 29,
      "outputs": [
        {
          "output_type": "stream",
          "name": "stdout",
          "text": [
            "(128,)\n",
            "('2023-10-17T13:21:00.000Z', '2023-10-17', '@Stocktwits', 'NVDA', 0.47528815269470215, 0.4988061189651489, 0.025905678048729897, 1, None, 'Nvidia stock put on slides this morning after reports drop that the Biden administration is tightening restrictions on Chinas ability to buy advanced semiconductors.$NVDA -3.75%')\n",
            "('2023-10-27T13:47:00.000Z', '2023-10-27', '@Stocktwits', 'AMZN', 0.004496750887483358, 0.8170449733734131, 0.17845827341079712, 1, None, 'Top Trending stocks & crypto on Stocktwits this morning:1 $AMZN 2 $SQ3 $INTC4 $F5 $ENPH6 $CRSP7 $SNY8 $DXCM9 $ABBV $CPRX')\n",
            "('2023-10-25T13:47:00.000Z', '2023-10-25', '@Stocktwits', 'MSFT', 0.004904467146843672, 0.7698082327842712, 0.2252873033285141, 1, None, 'Top Trending stocks & crypto on Stocktwits this morning:1 $MSFT2 $GOOGL 3 $ASPA4 $AVXL5 $SNAP6 $GOOG7 $BA8 $PYPL9 $TDOC $PEPE')\n",
            "(257, '2023-05-22 00:00:00', '2023-05-22', 173.73619079589844, 115.01000213623047, 125.87000274658203, 248.32000732421875, 319.85223388671875, 311.70208740234375, 188.8699951171875, 174.24484266444423, 116.7699966430664, 127.05000305175781, 253.57000732421875, 321.25640859061883, 315.1414507204986, 189.32000732421875, 172.98818766513122, 114.25, 123.44999694824219, 245.1199951171875, 316.69535569281544, 306.74298695966434, 180.11000061035156, 173.5167753267537, 116.7699966430664, 123.51000213623047, 245.41000366210938, 317.2829129845606, 308.9525983, 180.6999969482422, 43570900.0, 70741100.0, 29760200.0, 27738500.0, 24115700.0, 37200000.0, 132001400.0, None, None, None, None, None, None, None, None, None, None, None, None, None, None, None, None, None, None, None, None, None)\n",
            "(258, '2023-05-23 00:00:00', '2023-05-23', 171.1032257080078, 114.98999786376953, 123.29000091552734, 246.74000549316406, 313.95672607421875, 306.8229675292969, 185.77000427246094, 172.9183873331977, 117.13999938964844, 125.41999816894531, 251.61000061035156, 321.38587795275606, 312.8218523568658, 192.9600067138672, 170.82397241461908, 113.77999877929688, 123.05000305175781, 246.64999389648438, 313.9467576889271, 306.2530661478204, 185.25999450683594, 172.66905294851753, 114.2699966430664, 124.93000030517578, 246.80999755859375, 318.70699597129754, 309.9423827577277, 186.1999969482422, 50747300.0, 67576300.0, 24477900.0, 17748100.0, 30797200.0, 35625300.0, 156952100.0, None, None, None, None, None, None, None, None, None, None, None, None, None, None, None, None, None, None, None, None, None)\n",
            "(259, '2023-05-24 00:00:00', '2023-05-24', 171.38247680664062, 116.75, 121.63999938964844, 249.2100067138672, 312.55255126953125, 305.3232727050781, 182.89999389648438, 171.96093439787035, 117.33999633789062, 122.75, 249.58999633789062, 315.1915901004615, 306.0131469608124, 184.22000122070312, 170.06599918583325, 115.0199966430664, 120.75, 244.9499969482422, 311.3176567590552, 298.0046252601897, 178.22000122070312, 170.6344736621792, 115.3499984741211, 121.87999725341797, 245.27999877929688, 313.42891821521795, 302.0438832697813, 182.22999572753906, 45143500.0, 63487900.0, 23087900.0, 17724300.0, 23384900.0, 72141900.0, 137605100.0, None, None, None, None, None, None, None, None, None, None, None, None, None, None, None, None, None, None, None, None, None)\n"
          ]
        }
      ]
    },
    {
      "cell_type": "markdown",
      "source": [
        "# Joining Stock Prices with respect to Tweets"
      ],
      "metadata": {
        "id": "xqKMuf0yFsqW"
      }
    },
    {
      "cell_type": "markdown",
      "source": [
        "This will update the Stock columns of Stock_Neg, Stock_Neu, Stock_Pos with the average sentement for that day."
      ],
      "metadata": {
        "id": "jep1Rm4UHnPd"
      }
    },
    {
      "cell_type": "code",
      "source": [
        "# Update Stocks table with Tweet avearges\n",
        "\n",
        "update_query = '''\n",
        "    UPDATE Stocks\n",
        "    SET AAPL_N = (\n",
        "        SELECT avg(Neg_score)\n",
        "        FROM Tweets as t\n",
        "        WHERE Stocks.DateKey = t.DateKey AND t.Stock = 'AAPL'\n",
        "    ),\n",
        "    AAPL_U = (\n",
        "        SELECT avg(Neu_score)\n",
        "        FROM Tweets as t\n",
        "        WHERE Stocks.DateKey = t.DateKey AND t.Stock = 'AAPL'\n",
        "    ),\n",
        "    AAPL_P = (\n",
        "        SELECT avg(Pos_score)\n",
        "        FROM Tweets as t\n",
        "        WHERE Stocks.DateKey = t.DateKey AND t.Stock = 'AAPL'\n",
        "    ),\n",
        "    AMZN_N = (\n",
        "        SELECT avg(Neg_score)\n",
        "        FROM Tweets as t\n",
        "        WHERE Stocks.DateKey = t.DateKey AND t.Stock = 'AMZN'\n",
        "    ),\n",
        "    AAPL_U = (\n",
        "        SELECT avg(Neu_score)\n",
        "        FROM Tweets as t\n",
        "        WHERE Stocks.DateKey = t.DateKey AND t.Stock = 'AMZN'\n",
        "    ),\n",
        "    AAPL_P = (\n",
        "        SELECT avg(Pos_score)\n",
        "        FROM Tweets as t\n",
        "        WHERE Stocks.DateKey = t.DateKey AND t.Stock = 'AMZN'\n",
        "    ),\n",
        "    GOOG_N = (\n",
        "        SELECT avg(Neg_score)\n",
        "        FROM Tweets as t\n",
        "        WHERE Stocks.DateKey = t.DateKey AND t.Stock = 'GOOG'\n",
        "    ),\n",
        "    GOOG_U = (\n",
        "        SELECT avg(Neu_score)\n",
        "        FROM Tweets as t\n",
        "        WHERE Stocks.DateKey = t.DateKey AND t.Stock = 'GOOG'\n",
        "    ),\n",
        "    GOOG_P = (\n",
        "        SELECT avg(Pos_score)\n",
        "        FROM Tweets as t\n",
        "        WHERE Stocks.DateKey = t.DateKey AND t.Stock = 'GOOG'\n",
        "    ),\n",
        "    META_N = (\n",
        "        SELECT avg(Neg_score)\n",
        "        FROM Tweets as t\n",
        "        WHERE Stocks.DateKey = t.DateKey AND t.Stock = 'META'\n",
        "    ),\n",
        "    META_U = (\n",
        "        SELECT avg(Neu_score)\n",
        "        FROM Tweets as t\n",
        "        WHERE Stocks.DateKey = t.DateKey AND t.Stock = 'META'\n",
        "    ),\n",
        "    META_P = (\n",
        "        SELECT avg(Pos_score)\n",
        "        FROM Tweets as t\n",
        "        WHERE Stocks.DateKey = t.DateKey AND t.Stock = 'META'\n",
        "    ),\n",
        "    MSFT_N = (\n",
        "        SELECT avg(Neg_score)\n",
        "        FROM Tweets as t\n",
        "        WHERE Stocks.DateKey = t.DateKey AND t.Stock = 'MSFT'\n",
        "    ),\n",
        "    MSFT_U = (\n",
        "        SELECT avg(Neu_score)\n",
        "        FROM Tweets as t\n",
        "        WHERE Stocks.DateKey = t.DateKey AND t.Stock = 'MSFT'\n",
        "    ),\n",
        "    MSFT_P = (\n",
        "        SELECT avg(Pos_score)\n",
        "        FROM Tweets as t\n",
        "        WHERE Stocks.DateKey = t.DateKey AND t.Stock = 'MSFT'\n",
        "    ),\n",
        "    NVDA_N = (\n",
        "        SELECT avg(Neg_score)\n",
        "        FROM Tweets as t\n",
        "        WHERE Stocks.DateKey = t.DateKey AND t.Stock = 'NVDA'\n",
        "    ),\n",
        "    NVDA_U = (\n",
        "        SELECT avg(Neu_score)\n",
        "        FROM Tweets as t\n",
        "        WHERE Stocks.DateKey = t.DateKey AND t.Stock = 'NVDA'\n",
        "    ),\n",
        "    NVDA_P = (\n",
        "        SELECT avg(Pos_score)\n",
        "        FROM Tweets as t\n",
        "        WHERE Stocks.DateKey = t.DateKey AND t.Stock = 'NVDA'\n",
        "    ),\n",
        "    TSLA_N = (\n",
        "        SELECT avg(Neg_score)\n",
        "        FROM Tweets as t\n",
        "        WHERE Stocks.DateKey = t.DateKey AND t.Stock = 'TSLA'\n",
        "    ),\n",
        "    TSLA_U = (\n",
        "        SELECT avg(Neu_score)\n",
        "        FROM Tweets as t\n",
        "        WHERE Stocks.DateKey = t.DateKey AND t.Stock = 'TSLA'\n",
        "    ),\n",
        "    TSLA_P = (\n",
        "        SELECT avg(Pos_score)\n",
        "        FROM Tweets as t\n",
        "        WHERE Stocks.DateKey = t.DateKey AND t.Stock = 'TSLA'\n",
        "    );\n",
        "'''\n",
        "\n",
        "dbexec(update_query)\n",
        "\n",
        "\n"
      ],
      "metadata": {
        "id": "Vu1HgD3NTooB"
      },
      "execution_count": 30,
      "outputs": []
    },
    {
      "cell_type": "markdown",
      "source": [
        "# Export to CSV"
      ],
      "metadata": {
        "id": "Z8C3SrfJBWZB"
      }
    },
    {
      "cell_type": "markdown",
      "source": [
        "Export Table to be evaluated in excel or Power BI"
      ],
      "metadata": {
        "id": "vOFEZpRnJ3NO"
      }
    },
    {
      "cell_type": "code",
      "source": [
        "\n",
        "\n",
        "# Execute a SELECT query to retrieve data from the SQLite table\n",
        "query = \"SELECT * FROM Stocks\"  # Replace with your table name\n",
        "cursor.execute(query)\n",
        "\n",
        "# Fetch the results\n",
        "results = cursor.fetchall()\n",
        "\n",
        "# Specify the CSV file name\n",
        "csv_file_name = \"Stock_Sentament_Evaluation.csv\"\n",
        "\n",
        "# Open the CSV file in write mode\n",
        "with open(csv_file_name, mode='w', newline='') as csv_file:\n",
        "    # Create a CSV writer\n",
        "    csv_writer = csv.writer(csv_file)\n",
        "\n",
        "    # Write the header row based on the column names in the table\n",
        "    column_names = [description[0] for description in cursor.description]\n",
        "    csv_writer.writerow(column_names)\n",
        "\n",
        "    # Write the data rows\n",
        "    csv_writer.writerows(results)\n",
        "\n",
        "# Close the cursor and the database connection\n",
        "#cursor.close()\n",
        "#conn.close()\n",
        "\n"
      ],
      "metadata": {
        "id": "lohpJGAryXdK",
        "outputId": "1b80c47b-89a5-4bc1-d01f-a65a557b2265",
        "colab": {
          "base_uri": "https://localhost:8080/",
          "height": 104
        }
      },
      "execution_count": 26,
      "outputs": [
        {
          "output_type": "execute_result",
          "data": {
            "text/plain": [
              "\"\\n# Open the CSV file in write mode\\nwith open(csv_file_name, mode='w', newline='') as csv_file:\\n    # Create a CSV writer\\n    csv_writer = csv.writer(csv_file)\\n\\n    # Write the header row based on the keys in the JSON data\\n    header = out_data[0].keys()\\n    csv_writer.writerow(header)\\n\\n    # Write each row of data from the JSON object\\n    for row in out_data:\\n        csv_writer.writerow(row.values())\\n\\n\""
            ],
            "application/vnd.google.colaboratory.intrinsic+json": {
              "type": "string"
            }
          },
          "metadata": {},
          "execution_count": 26
        }
      ]
    }
  ]
}