{
  "nbformat": 4,
  "nbformat_minor": 0,
  "metadata": {
    "colab": {
      "provenance": [],
      "authorship_tag": "ABX9TyNCO23T7nY6/Ghgy8z4OgNF",
      "include_colab_link": true
    },
    "kernelspec": {
      "name": "python3",
      "display_name": "Python 3"
    },
    "language_info": {
      "name": "python"
    },
    "widgets": {
      "application/vnd.jupyter.widget-state+json": {
        "a5370dcca8ae49d684e1cd16236ba999": {
          "model_module": "@jupyter-widgets/controls",
          "model_name": "HBoxModel",
          "model_module_version": "1.5.0",
          "state": {
            "_dom_classes": [],
            "_model_module": "@jupyter-widgets/controls",
            "_model_module_version": "1.5.0",
            "_model_name": "HBoxModel",
            "_view_count": null,
            "_view_module": "@jupyter-widgets/controls",
            "_view_module_version": "1.5.0",
            "_view_name": "HBoxView",
            "box_style": "",
            "children": [
              "IPY_MODEL_e6a5b3ee5277421fa7d215bfe1dd272b",
              "IPY_MODEL_728873f9c20240738b27fea0b90aeec1",
              "IPY_MODEL_c26ac76efa9e49259c934843458f4503"
            ],
            "layout": "IPY_MODEL_851b21cf5cc948a0b4471f23f0589589"
          }
        },
        "e6a5b3ee5277421fa7d215bfe1dd272b": {
          "model_module": "@jupyter-widgets/controls",
          "model_name": "HTMLModel",
          "model_module_version": "1.5.0",
          "state": {
            "_dom_classes": [],
            "_model_module": "@jupyter-widgets/controls",
            "_model_module_version": "1.5.0",
            "_model_name": "HTMLModel",
            "_view_count": null,
            "_view_module": "@jupyter-widgets/controls",
            "_view_module_version": "1.5.0",
            "_view_name": "HTMLView",
            "description": "",
            "description_tooltip": null,
            "layout": "IPY_MODEL_c0c66ecd72c048ae8a49a7b565c4c23c",
            "placeholder": "​",
            "style": "IPY_MODEL_280f5fb4dff24d5ba00896b6f4fc7eec",
            "value": "config.json: 100%"
          }
        },
        "728873f9c20240738b27fea0b90aeec1": {
          "model_module": "@jupyter-widgets/controls",
          "model_name": "FloatProgressModel",
          "model_module_version": "1.5.0",
          "state": {
            "_dom_classes": [],
            "_model_module": "@jupyter-widgets/controls",
            "_model_module_version": "1.5.0",
            "_model_name": "FloatProgressModel",
            "_view_count": null,
            "_view_module": "@jupyter-widgets/controls",
            "_view_module_version": "1.5.0",
            "_view_name": "ProgressView",
            "bar_style": "success",
            "description": "",
            "description_tooltip": null,
            "layout": "IPY_MODEL_8554751d8aa14cbfafb97788a63b3b1c",
            "max": 747,
            "min": 0,
            "orientation": "horizontal",
            "style": "IPY_MODEL_5f5cd180d33448eba762a9f17409a90b",
            "value": 747
          }
        },
        "c26ac76efa9e49259c934843458f4503": {
          "model_module": "@jupyter-widgets/controls",
          "model_name": "HTMLModel",
          "model_module_version": "1.5.0",
          "state": {
            "_dom_classes": [],
            "_model_module": "@jupyter-widgets/controls",
            "_model_module_version": "1.5.0",
            "_model_name": "HTMLModel",
            "_view_count": null,
            "_view_module": "@jupyter-widgets/controls",
            "_view_module_version": "1.5.0",
            "_view_name": "HTMLView",
            "description": "",
            "description_tooltip": null,
            "layout": "IPY_MODEL_6018a9bb691f46a2b9f44ff1afb22464",
            "placeholder": "​",
            "style": "IPY_MODEL_834c73fc918f476988b8daccb1477207",
            "value": " 747/747 [00:00&lt;00:00, 24.1kB/s]"
          }
        },
        "851b21cf5cc948a0b4471f23f0589589": {
          "model_module": "@jupyter-widgets/base",
          "model_name": "LayoutModel",
          "model_module_version": "1.2.0",
          "state": {
            "_model_module": "@jupyter-widgets/base",
            "_model_module_version": "1.2.0",
            "_model_name": "LayoutModel",
            "_view_count": null,
            "_view_module": "@jupyter-widgets/base",
            "_view_module_version": "1.2.0",
            "_view_name": "LayoutView",
            "align_content": null,
            "align_items": null,
            "align_self": null,
            "border": null,
            "bottom": null,
            "display": null,
            "flex": null,
            "flex_flow": null,
            "grid_area": null,
            "grid_auto_columns": null,
            "grid_auto_flow": null,
            "grid_auto_rows": null,
            "grid_column": null,
            "grid_gap": null,
            "grid_row": null,
            "grid_template_areas": null,
            "grid_template_columns": null,
            "grid_template_rows": null,
            "height": null,
            "justify_content": null,
            "justify_items": null,
            "left": null,
            "margin": null,
            "max_height": null,
            "max_width": null,
            "min_height": null,
            "min_width": null,
            "object_fit": null,
            "object_position": null,
            "order": null,
            "overflow": null,
            "overflow_x": null,
            "overflow_y": null,
            "padding": null,
            "right": null,
            "top": null,
            "visibility": null,
            "width": null
          }
        },
        "c0c66ecd72c048ae8a49a7b565c4c23c": {
          "model_module": "@jupyter-widgets/base",
          "model_name": "LayoutModel",
          "model_module_version": "1.2.0",
          "state": {
            "_model_module": "@jupyter-widgets/base",
            "_model_module_version": "1.2.0",
            "_model_name": "LayoutModel",
            "_view_count": null,
            "_view_module": "@jupyter-widgets/base",
            "_view_module_version": "1.2.0",
            "_view_name": "LayoutView",
            "align_content": null,
            "align_items": null,
            "align_self": null,
            "border": null,
            "bottom": null,
            "display": null,
            "flex": null,
            "flex_flow": null,
            "grid_area": null,
            "grid_auto_columns": null,
            "grid_auto_flow": null,
            "grid_auto_rows": null,
            "grid_column": null,
            "grid_gap": null,
            "grid_row": null,
            "grid_template_areas": null,
            "grid_template_columns": null,
            "grid_template_rows": null,
            "height": null,
            "justify_content": null,
            "justify_items": null,
            "left": null,
            "margin": null,
            "max_height": null,
            "max_width": null,
            "min_height": null,
            "min_width": null,
            "object_fit": null,
            "object_position": null,
            "order": null,
            "overflow": null,
            "overflow_x": null,
            "overflow_y": null,
            "padding": null,
            "right": null,
            "top": null,
            "visibility": null,
            "width": null
          }
        },
        "280f5fb4dff24d5ba00896b6f4fc7eec": {
          "model_module": "@jupyter-widgets/controls",
          "model_name": "DescriptionStyleModel",
          "model_module_version": "1.5.0",
          "state": {
            "_model_module": "@jupyter-widgets/controls",
            "_model_module_version": "1.5.0",
            "_model_name": "DescriptionStyleModel",
            "_view_count": null,
            "_view_module": "@jupyter-widgets/base",
            "_view_module_version": "1.2.0",
            "_view_name": "StyleView",
            "description_width": ""
          }
        },
        "8554751d8aa14cbfafb97788a63b3b1c": {
          "model_module": "@jupyter-widgets/base",
          "model_name": "LayoutModel",
          "model_module_version": "1.2.0",
          "state": {
            "_model_module": "@jupyter-widgets/base",
            "_model_module_version": "1.2.0",
            "_model_name": "LayoutModel",
            "_view_count": null,
            "_view_module": "@jupyter-widgets/base",
            "_view_module_version": "1.2.0",
            "_view_name": "LayoutView",
            "align_content": null,
            "align_items": null,
            "align_self": null,
            "border": null,
            "bottom": null,
            "display": null,
            "flex": null,
            "flex_flow": null,
            "grid_area": null,
            "grid_auto_columns": null,
            "grid_auto_flow": null,
            "grid_auto_rows": null,
            "grid_column": null,
            "grid_gap": null,
            "grid_row": null,
            "grid_template_areas": null,
            "grid_template_columns": null,
            "grid_template_rows": null,
            "height": null,
            "justify_content": null,
            "justify_items": null,
            "left": null,
            "margin": null,
            "max_height": null,
            "max_width": null,
            "min_height": null,
            "min_width": null,
            "object_fit": null,
            "object_position": null,
            "order": null,
            "overflow": null,
            "overflow_x": null,
            "overflow_y": null,
            "padding": null,
            "right": null,
            "top": null,
            "visibility": null,
            "width": null
          }
        },
        "5f5cd180d33448eba762a9f17409a90b": {
          "model_module": "@jupyter-widgets/controls",
          "model_name": "ProgressStyleModel",
          "model_module_version": "1.5.0",
          "state": {
            "_model_module": "@jupyter-widgets/controls",
            "_model_module_version": "1.5.0",
            "_model_name": "ProgressStyleModel",
            "_view_count": null,
            "_view_module": "@jupyter-widgets/base",
            "_view_module_version": "1.2.0",
            "_view_name": "StyleView",
            "bar_color": null,
            "description_width": ""
          }
        },
        "6018a9bb691f46a2b9f44ff1afb22464": {
          "model_module": "@jupyter-widgets/base",
          "model_name": "LayoutModel",
          "model_module_version": "1.2.0",
          "state": {
            "_model_module": "@jupyter-widgets/base",
            "_model_module_version": "1.2.0",
            "_model_name": "LayoutModel",
            "_view_count": null,
            "_view_module": "@jupyter-widgets/base",
            "_view_module_version": "1.2.0",
            "_view_name": "LayoutView",
            "align_content": null,
            "align_items": null,
            "align_self": null,
            "border": null,
            "bottom": null,
            "display": null,
            "flex": null,
            "flex_flow": null,
            "grid_area": null,
            "grid_auto_columns": null,
            "grid_auto_flow": null,
            "grid_auto_rows": null,
            "grid_column": null,
            "grid_gap": null,
            "grid_row": null,
            "grid_template_areas": null,
            "grid_template_columns": null,
            "grid_template_rows": null,
            "height": null,
            "justify_content": null,
            "justify_items": null,
            "left": null,
            "margin": null,
            "max_height": null,
            "max_width": null,
            "min_height": null,
            "min_width": null,
            "object_fit": null,
            "object_position": null,
            "order": null,
            "overflow": null,
            "overflow_x": null,
            "overflow_y": null,
            "padding": null,
            "right": null,
            "top": null,
            "visibility": null,
            "width": null
          }
        },
        "834c73fc918f476988b8daccb1477207": {
          "model_module": "@jupyter-widgets/controls",
          "model_name": "DescriptionStyleModel",
          "model_module_version": "1.5.0",
          "state": {
            "_model_module": "@jupyter-widgets/controls",
            "_model_module_version": "1.5.0",
            "_model_name": "DescriptionStyleModel",
            "_view_count": null,
            "_view_module": "@jupyter-widgets/base",
            "_view_module_version": "1.2.0",
            "_view_name": "StyleView",
            "description_width": ""
          }
        },
        "a435fd164dbf49948349f0ccbba0e837": {
          "model_module": "@jupyter-widgets/controls",
          "model_name": "HBoxModel",
          "model_module_version": "1.5.0",
          "state": {
            "_dom_classes": [],
            "_model_module": "@jupyter-widgets/controls",
            "_model_module_version": "1.5.0",
            "_model_name": "HBoxModel",
            "_view_count": null,
            "_view_module": "@jupyter-widgets/controls",
            "_view_module_version": "1.5.0",
            "_view_name": "HBoxView",
            "box_style": "",
            "children": [
              "IPY_MODEL_5c03d56e49e34363bbb15eb23cb79cf4",
              "IPY_MODEL_586400f381d0481ebe9b1c8d97689254",
              "IPY_MODEL_b5c3a7bb00f143c29a9679b36394f034"
            ],
            "layout": "IPY_MODEL_5362392620d840b2b3347d8b625e4ac5"
          }
        },
        "5c03d56e49e34363bbb15eb23cb79cf4": {
          "model_module": "@jupyter-widgets/controls",
          "model_name": "HTMLModel",
          "model_module_version": "1.5.0",
          "state": {
            "_dom_classes": [],
            "_model_module": "@jupyter-widgets/controls",
            "_model_module_version": "1.5.0",
            "_model_name": "HTMLModel",
            "_view_count": null,
            "_view_module": "@jupyter-widgets/controls",
            "_view_module_version": "1.5.0",
            "_view_name": "HTMLView",
            "description": "",
            "description_tooltip": null,
            "layout": "IPY_MODEL_4dcc4163a651450ea0cc6b9962a512a6",
            "placeholder": "​",
            "style": "IPY_MODEL_d50399c1454343f7b02d01b95eb4fa6f",
            "value": "pytorch_model.bin: 100%"
          }
        },
        "586400f381d0481ebe9b1c8d97689254": {
          "model_module": "@jupyter-widgets/controls",
          "model_name": "FloatProgressModel",
          "model_module_version": "1.5.0",
          "state": {
            "_dom_classes": [],
            "_model_module": "@jupyter-widgets/controls",
            "_model_module_version": "1.5.0",
            "_model_name": "FloatProgressModel",
            "_view_count": null,
            "_view_module": "@jupyter-widgets/controls",
            "_view_module_version": "1.5.0",
            "_view_name": "ProgressView",
            "bar_style": "success",
            "description": "",
            "description_tooltip": null,
            "layout": "IPY_MODEL_8ef940396d2b45b9bc7dd5ec4a14412c",
            "max": 498679497,
            "min": 0,
            "orientation": "horizontal",
            "style": "IPY_MODEL_cd3c4a2d68404ceead8120cd423f4e33",
            "value": 498679497
          }
        },
        "b5c3a7bb00f143c29a9679b36394f034": {
          "model_module": "@jupyter-widgets/controls",
          "model_name": "HTMLModel",
          "model_module_version": "1.5.0",
          "state": {
            "_dom_classes": [],
            "_model_module": "@jupyter-widgets/controls",
            "_model_module_version": "1.5.0",
            "_model_name": "HTMLModel",
            "_view_count": null,
            "_view_module": "@jupyter-widgets/controls",
            "_view_module_version": "1.5.0",
            "_view_name": "HTMLView",
            "description": "",
            "description_tooltip": null,
            "layout": "IPY_MODEL_24940ce172404490b668dd1a65503b49",
            "placeholder": "​",
            "style": "IPY_MODEL_d46e049c2b0b45f497ca00c5979bf981",
            "value": " 499M/499M [00:03&lt;00:00, 132MB/s]"
          }
        },
        "5362392620d840b2b3347d8b625e4ac5": {
          "model_module": "@jupyter-widgets/base",
          "model_name": "LayoutModel",
          "model_module_version": "1.2.0",
          "state": {
            "_model_module": "@jupyter-widgets/base",
            "_model_module_version": "1.2.0",
            "_model_name": "LayoutModel",
            "_view_count": null,
            "_view_module": "@jupyter-widgets/base",
            "_view_module_version": "1.2.0",
            "_view_name": "LayoutView",
            "align_content": null,
            "align_items": null,
            "align_self": null,
            "border": null,
            "bottom": null,
            "display": null,
            "flex": null,
            "flex_flow": null,
            "grid_area": null,
            "grid_auto_columns": null,
            "grid_auto_flow": null,
            "grid_auto_rows": null,
            "grid_column": null,
            "grid_gap": null,
            "grid_row": null,
            "grid_template_areas": null,
            "grid_template_columns": null,
            "grid_template_rows": null,
            "height": null,
            "justify_content": null,
            "justify_items": null,
            "left": null,
            "margin": null,
            "max_height": null,
            "max_width": null,
            "min_height": null,
            "min_width": null,
            "object_fit": null,
            "object_position": null,
            "order": null,
            "overflow": null,
            "overflow_x": null,
            "overflow_y": null,
            "padding": null,
            "right": null,
            "top": null,
            "visibility": null,
            "width": null
          }
        },
        "4dcc4163a651450ea0cc6b9962a512a6": {
          "model_module": "@jupyter-widgets/base",
          "model_name": "LayoutModel",
          "model_module_version": "1.2.0",
          "state": {
            "_model_module": "@jupyter-widgets/base",
            "_model_module_version": "1.2.0",
            "_model_name": "LayoutModel",
            "_view_count": null,
            "_view_module": "@jupyter-widgets/base",
            "_view_module_version": "1.2.0",
            "_view_name": "LayoutView",
            "align_content": null,
            "align_items": null,
            "align_self": null,
            "border": null,
            "bottom": null,
            "display": null,
            "flex": null,
            "flex_flow": null,
            "grid_area": null,
            "grid_auto_columns": null,
            "grid_auto_flow": null,
            "grid_auto_rows": null,
            "grid_column": null,
            "grid_gap": null,
            "grid_row": null,
            "grid_template_areas": null,
            "grid_template_columns": null,
            "grid_template_rows": null,
            "height": null,
            "justify_content": null,
            "justify_items": null,
            "left": null,
            "margin": null,
            "max_height": null,
            "max_width": null,
            "min_height": null,
            "min_width": null,
            "object_fit": null,
            "object_position": null,
            "order": null,
            "overflow": null,
            "overflow_x": null,
            "overflow_y": null,
            "padding": null,
            "right": null,
            "top": null,
            "visibility": null,
            "width": null
          }
        },
        "d50399c1454343f7b02d01b95eb4fa6f": {
          "model_module": "@jupyter-widgets/controls",
          "model_name": "DescriptionStyleModel",
          "model_module_version": "1.5.0",
          "state": {
            "_model_module": "@jupyter-widgets/controls",
            "_model_module_version": "1.5.0",
            "_model_name": "DescriptionStyleModel",
            "_view_count": null,
            "_view_module": "@jupyter-widgets/base",
            "_view_module_version": "1.2.0",
            "_view_name": "StyleView",
            "description_width": ""
          }
        },
        "8ef940396d2b45b9bc7dd5ec4a14412c": {
          "model_module": "@jupyter-widgets/base",
          "model_name": "LayoutModel",
          "model_module_version": "1.2.0",
          "state": {
            "_model_module": "@jupyter-widgets/base",
            "_model_module_version": "1.2.0",
            "_model_name": "LayoutModel",
            "_view_count": null,
            "_view_module": "@jupyter-widgets/base",
            "_view_module_version": "1.2.0",
            "_view_name": "LayoutView",
            "align_content": null,
            "align_items": null,
            "align_self": null,
            "border": null,
            "bottom": null,
            "display": null,
            "flex": null,
            "flex_flow": null,
            "grid_area": null,
            "grid_auto_columns": null,
            "grid_auto_flow": null,
            "grid_auto_rows": null,
            "grid_column": null,
            "grid_gap": null,
            "grid_row": null,
            "grid_template_areas": null,
            "grid_template_columns": null,
            "grid_template_rows": null,
            "height": null,
            "justify_content": null,
            "justify_items": null,
            "left": null,
            "margin": null,
            "max_height": null,
            "max_width": null,
            "min_height": null,
            "min_width": null,
            "object_fit": null,
            "object_position": null,
            "order": null,
            "overflow": null,
            "overflow_x": null,
            "overflow_y": null,
            "padding": null,
            "right": null,
            "top": null,
            "visibility": null,
            "width": null
          }
        },
        "cd3c4a2d68404ceead8120cd423f4e33": {
          "model_module": "@jupyter-widgets/controls",
          "model_name": "ProgressStyleModel",
          "model_module_version": "1.5.0",
          "state": {
            "_model_module": "@jupyter-widgets/controls",
            "_model_module_version": "1.5.0",
            "_model_name": "ProgressStyleModel",
            "_view_count": null,
            "_view_module": "@jupyter-widgets/base",
            "_view_module_version": "1.2.0",
            "_view_name": "StyleView",
            "bar_color": null,
            "description_width": ""
          }
        },
        "24940ce172404490b668dd1a65503b49": {
          "model_module": "@jupyter-widgets/base",
          "model_name": "LayoutModel",
          "model_module_version": "1.2.0",
          "state": {
            "_model_module": "@jupyter-widgets/base",
            "_model_module_version": "1.2.0",
            "_model_name": "LayoutModel",
            "_view_count": null,
            "_view_module": "@jupyter-widgets/base",
            "_view_module_version": "1.2.0",
            "_view_name": "LayoutView",
            "align_content": null,
            "align_items": null,
            "align_self": null,
            "border": null,
            "bottom": null,
            "display": null,
            "flex": null,
            "flex_flow": null,
            "grid_area": null,
            "grid_auto_columns": null,
            "grid_auto_flow": null,
            "grid_auto_rows": null,
            "grid_column": null,
            "grid_gap": null,
            "grid_row": null,
            "grid_template_areas": null,
            "grid_template_columns": null,
            "grid_template_rows": null,
            "height": null,
            "justify_content": null,
            "justify_items": null,
            "left": null,
            "margin": null,
            "max_height": null,
            "max_width": null,
            "min_height": null,
            "min_width": null,
            "object_fit": null,
            "object_position": null,
            "order": null,
            "overflow": null,
            "overflow_x": null,
            "overflow_y": null,
            "padding": null,
            "right": null,
            "top": null,
            "visibility": null,
            "width": null
          }
        },
        "d46e049c2b0b45f497ca00c5979bf981": {
          "model_module": "@jupyter-widgets/controls",
          "model_name": "DescriptionStyleModel",
          "model_module_version": "1.5.0",
          "state": {
            "_model_module": "@jupyter-widgets/controls",
            "_model_module_version": "1.5.0",
            "_model_name": "DescriptionStyleModel",
            "_view_count": null,
            "_view_module": "@jupyter-widgets/base",
            "_view_module_version": "1.2.0",
            "_view_name": "StyleView",
            "description_width": ""
          }
        },
        "f7303d6339cf4dafb2b2cbf4e5ab8811": {
          "model_module": "@jupyter-widgets/controls",
          "model_name": "HBoxModel",
          "model_module_version": "1.5.0",
          "state": {
            "_dom_classes": [],
            "_model_module": "@jupyter-widgets/controls",
            "_model_module_version": "1.5.0",
            "_model_name": "HBoxModel",
            "_view_count": null,
            "_view_module": "@jupyter-widgets/controls",
            "_view_module_version": "1.5.0",
            "_view_name": "HBoxView",
            "box_style": "",
            "children": [
              "IPY_MODEL_40acbba41c5441fa85fb5119bd766a68",
              "IPY_MODEL_ca1661939acb4d1b8ecd7890c9d522fc",
              "IPY_MODEL_962b22c811ae408583421df419a444ca"
            ],
            "layout": "IPY_MODEL_e0873b41026e424fbd58030a3ed48a41"
          }
        },
        "40acbba41c5441fa85fb5119bd766a68": {
          "model_module": "@jupyter-widgets/controls",
          "model_name": "HTMLModel",
          "model_module_version": "1.5.0",
          "state": {
            "_dom_classes": [],
            "_model_module": "@jupyter-widgets/controls",
            "_model_module_version": "1.5.0",
            "_model_name": "HTMLModel",
            "_view_count": null,
            "_view_module": "@jupyter-widgets/controls",
            "_view_module_version": "1.5.0",
            "_view_name": "HTMLView",
            "description": "",
            "description_tooltip": null,
            "layout": "IPY_MODEL_fb987ed2cfa84339a1c49d121a420fdd",
            "placeholder": "​",
            "style": "IPY_MODEL_3d5b08080c8e4364b018615d5e601708",
            "value": "vocab.json: 100%"
          }
        },
        "ca1661939acb4d1b8ecd7890c9d522fc": {
          "model_module": "@jupyter-widgets/controls",
          "model_name": "FloatProgressModel",
          "model_module_version": "1.5.0",
          "state": {
            "_dom_classes": [],
            "_model_module": "@jupyter-widgets/controls",
            "_model_module_version": "1.5.0",
            "_model_name": "FloatProgressModel",
            "_view_count": null,
            "_view_module": "@jupyter-widgets/controls",
            "_view_module_version": "1.5.0",
            "_view_name": "ProgressView",
            "bar_style": "success",
            "description": "",
            "description_tooltip": null,
            "layout": "IPY_MODEL_6028d12b5b944b23830c39472fa3b3cf",
            "max": 898822,
            "min": 0,
            "orientation": "horizontal",
            "style": "IPY_MODEL_3d57fc2179ef43818922ec5491ecfe90",
            "value": 898822
          }
        },
        "962b22c811ae408583421df419a444ca": {
          "model_module": "@jupyter-widgets/controls",
          "model_name": "HTMLModel",
          "model_module_version": "1.5.0",
          "state": {
            "_dom_classes": [],
            "_model_module": "@jupyter-widgets/controls",
            "_model_module_version": "1.5.0",
            "_model_name": "HTMLModel",
            "_view_count": null,
            "_view_module": "@jupyter-widgets/controls",
            "_view_module_version": "1.5.0",
            "_view_name": "HTMLView",
            "description": "",
            "description_tooltip": null,
            "layout": "IPY_MODEL_e98644d2b825443fadcd3c24a672e38b",
            "placeholder": "​",
            "style": "IPY_MODEL_46f0d9527a9d4b4094f46279814390d3",
            "value": " 899k/899k [00:00&lt;00:00, 7.41MB/s]"
          }
        },
        "e0873b41026e424fbd58030a3ed48a41": {
          "model_module": "@jupyter-widgets/base",
          "model_name": "LayoutModel",
          "model_module_version": "1.2.0",
          "state": {
            "_model_module": "@jupyter-widgets/base",
            "_model_module_version": "1.2.0",
            "_model_name": "LayoutModel",
            "_view_count": null,
            "_view_module": "@jupyter-widgets/base",
            "_view_module_version": "1.2.0",
            "_view_name": "LayoutView",
            "align_content": null,
            "align_items": null,
            "align_self": null,
            "border": null,
            "bottom": null,
            "display": null,
            "flex": null,
            "flex_flow": null,
            "grid_area": null,
            "grid_auto_columns": null,
            "grid_auto_flow": null,
            "grid_auto_rows": null,
            "grid_column": null,
            "grid_gap": null,
            "grid_row": null,
            "grid_template_areas": null,
            "grid_template_columns": null,
            "grid_template_rows": null,
            "height": null,
            "justify_content": null,
            "justify_items": null,
            "left": null,
            "margin": null,
            "max_height": null,
            "max_width": null,
            "min_height": null,
            "min_width": null,
            "object_fit": null,
            "object_position": null,
            "order": null,
            "overflow": null,
            "overflow_x": null,
            "overflow_y": null,
            "padding": null,
            "right": null,
            "top": null,
            "visibility": null,
            "width": null
          }
        },
        "fb987ed2cfa84339a1c49d121a420fdd": {
          "model_module": "@jupyter-widgets/base",
          "model_name": "LayoutModel",
          "model_module_version": "1.2.0",
          "state": {
            "_model_module": "@jupyter-widgets/base",
            "_model_module_version": "1.2.0",
            "_model_name": "LayoutModel",
            "_view_count": null,
            "_view_module": "@jupyter-widgets/base",
            "_view_module_version": "1.2.0",
            "_view_name": "LayoutView",
            "align_content": null,
            "align_items": null,
            "align_self": null,
            "border": null,
            "bottom": null,
            "display": null,
            "flex": null,
            "flex_flow": null,
            "grid_area": null,
            "grid_auto_columns": null,
            "grid_auto_flow": null,
            "grid_auto_rows": null,
            "grid_column": null,
            "grid_gap": null,
            "grid_row": null,
            "grid_template_areas": null,
            "grid_template_columns": null,
            "grid_template_rows": null,
            "height": null,
            "justify_content": null,
            "justify_items": null,
            "left": null,
            "margin": null,
            "max_height": null,
            "max_width": null,
            "min_height": null,
            "min_width": null,
            "object_fit": null,
            "object_position": null,
            "order": null,
            "overflow": null,
            "overflow_x": null,
            "overflow_y": null,
            "padding": null,
            "right": null,
            "top": null,
            "visibility": null,
            "width": null
          }
        },
        "3d5b08080c8e4364b018615d5e601708": {
          "model_module": "@jupyter-widgets/controls",
          "model_name": "DescriptionStyleModel",
          "model_module_version": "1.5.0",
          "state": {
            "_model_module": "@jupyter-widgets/controls",
            "_model_module_version": "1.5.0",
            "_model_name": "DescriptionStyleModel",
            "_view_count": null,
            "_view_module": "@jupyter-widgets/base",
            "_view_module_version": "1.2.0",
            "_view_name": "StyleView",
            "description_width": ""
          }
        },
        "6028d12b5b944b23830c39472fa3b3cf": {
          "model_module": "@jupyter-widgets/base",
          "model_name": "LayoutModel",
          "model_module_version": "1.2.0",
          "state": {
            "_model_module": "@jupyter-widgets/base",
            "_model_module_version": "1.2.0",
            "_model_name": "LayoutModel",
            "_view_count": null,
            "_view_module": "@jupyter-widgets/base",
            "_view_module_version": "1.2.0",
            "_view_name": "LayoutView",
            "align_content": null,
            "align_items": null,
            "align_self": null,
            "border": null,
            "bottom": null,
            "display": null,
            "flex": null,
            "flex_flow": null,
            "grid_area": null,
            "grid_auto_columns": null,
            "grid_auto_flow": null,
            "grid_auto_rows": null,
            "grid_column": null,
            "grid_gap": null,
            "grid_row": null,
            "grid_template_areas": null,
            "grid_template_columns": null,
            "grid_template_rows": null,
            "height": null,
            "justify_content": null,
            "justify_items": null,
            "left": null,
            "margin": null,
            "max_height": null,
            "max_width": null,
            "min_height": null,
            "min_width": null,
            "object_fit": null,
            "object_position": null,
            "order": null,
            "overflow": null,
            "overflow_x": null,
            "overflow_y": null,
            "padding": null,
            "right": null,
            "top": null,
            "visibility": null,
            "width": null
          }
        },
        "3d57fc2179ef43818922ec5491ecfe90": {
          "model_module": "@jupyter-widgets/controls",
          "model_name": "ProgressStyleModel",
          "model_module_version": "1.5.0",
          "state": {
            "_model_module": "@jupyter-widgets/controls",
            "_model_module_version": "1.5.0",
            "_model_name": "ProgressStyleModel",
            "_view_count": null,
            "_view_module": "@jupyter-widgets/base",
            "_view_module_version": "1.2.0",
            "_view_name": "StyleView",
            "bar_color": null,
            "description_width": ""
          }
        },
        "e98644d2b825443fadcd3c24a672e38b": {
          "model_module": "@jupyter-widgets/base",
          "model_name": "LayoutModel",
          "model_module_version": "1.2.0",
          "state": {
            "_model_module": "@jupyter-widgets/base",
            "_model_module_version": "1.2.0",
            "_model_name": "LayoutModel",
            "_view_count": null,
            "_view_module": "@jupyter-widgets/base",
            "_view_module_version": "1.2.0",
            "_view_name": "LayoutView",
            "align_content": null,
            "align_items": null,
            "align_self": null,
            "border": null,
            "bottom": null,
            "display": null,
            "flex": null,
            "flex_flow": null,
            "grid_area": null,
            "grid_auto_columns": null,
            "grid_auto_flow": null,
            "grid_auto_rows": null,
            "grid_column": null,
            "grid_gap": null,
            "grid_row": null,
            "grid_template_areas": null,
            "grid_template_columns": null,
            "grid_template_rows": null,
            "height": null,
            "justify_content": null,
            "justify_items": null,
            "left": null,
            "margin": null,
            "max_height": null,
            "max_width": null,
            "min_height": null,
            "min_width": null,
            "object_fit": null,
            "object_position": null,
            "order": null,
            "overflow": null,
            "overflow_x": null,
            "overflow_y": null,
            "padding": null,
            "right": null,
            "top": null,
            "visibility": null,
            "width": null
          }
        },
        "46f0d9527a9d4b4094f46279814390d3": {
          "model_module": "@jupyter-widgets/controls",
          "model_name": "DescriptionStyleModel",
          "model_module_version": "1.5.0",
          "state": {
            "_model_module": "@jupyter-widgets/controls",
            "_model_module_version": "1.5.0",
            "_model_name": "DescriptionStyleModel",
            "_view_count": null,
            "_view_module": "@jupyter-widgets/base",
            "_view_module_version": "1.2.0",
            "_view_name": "StyleView",
            "description_width": ""
          }
        },
        "983dbe2972f044b1abb9cd850cf11be3": {
          "model_module": "@jupyter-widgets/controls",
          "model_name": "HBoxModel",
          "model_module_version": "1.5.0",
          "state": {
            "_dom_classes": [],
            "_model_module": "@jupyter-widgets/controls",
            "_model_module_version": "1.5.0",
            "_model_name": "HBoxModel",
            "_view_count": null,
            "_view_module": "@jupyter-widgets/controls",
            "_view_module_version": "1.5.0",
            "_view_name": "HBoxView",
            "box_style": "",
            "children": [
              "IPY_MODEL_15d144e32a584636b58eb4718726b950",
              "IPY_MODEL_1a51fa53233743f4a5a50e9ae9eef5ac",
              "IPY_MODEL_47fd18f4687a46fa97ff218940836a81"
            ],
            "layout": "IPY_MODEL_130a7c95db8b46049b10aa7deb858f54"
          }
        },
        "15d144e32a584636b58eb4718726b950": {
          "model_module": "@jupyter-widgets/controls",
          "model_name": "HTMLModel",
          "model_module_version": "1.5.0",
          "state": {
            "_dom_classes": [],
            "_model_module": "@jupyter-widgets/controls",
            "_model_module_version": "1.5.0",
            "_model_name": "HTMLModel",
            "_view_count": null,
            "_view_module": "@jupyter-widgets/controls",
            "_view_module_version": "1.5.0",
            "_view_name": "HTMLView",
            "description": "",
            "description_tooltip": null,
            "layout": "IPY_MODEL_71dd1d244da747adab69093bbb1741ac",
            "placeholder": "​",
            "style": "IPY_MODEL_b54597fa5e26423185a6366f3d3f29d1",
            "value": "merges.txt: 100%"
          }
        },
        "1a51fa53233743f4a5a50e9ae9eef5ac": {
          "model_module": "@jupyter-widgets/controls",
          "model_name": "FloatProgressModel",
          "model_module_version": "1.5.0",
          "state": {
            "_dom_classes": [],
            "_model_module": "@jupyter-widgets/controls",
            "_model_module_version": "1.5.0",
            "_model_name": "FloatProgressModel",
            "_view_count": null,
            "_view_module": "@jupyter-widgets/controls",
            "_view_module_version": "1.5.0",
            "_view_name": "ProgressView",
            "bar_style": "success",
            "description": "",
            "description_tooltip": null,
            "layout": "IPY_MODEL_0d018d892648472db2dbb6554a36a75e",
            "max": 456318,
            "min": 0,
            "orientation": "horizontal",
            "style": "IPY_MODEL_ad3725732444462a8d1c3d320ece33d6",
            "value": 456318
          }
        },
        "47fd18f4687a46fa97ff218940836a81": {
          "model_module": "@jupyter-widgets/controls",
          "model_name": "HTMLModel",
          "model_module_version": "1.5.0",
          "state": {
            "_dom_classes": [],
            "_model_module": "@jupyter-widgets/controls",
            "_model_module_version": "1.5.0",
            "_model_name": "HTMLModel",
            "_view_count": null,
            "_view_module": "@jupyter-widgets/controls",
            "_view_module_version": "1.5.0",
            "_view_name": "HTMLView",
            "description": "",
            "description_tooltip": null,
            "layout": "IPY_MODEL_1c3262e5d00c43b58e568aca987bf532",
            "placeholder": "​",
            "style": "IPY_MODEL_0517834f8e2d4c98a030c1300cdad06b",
            "value": " 456k/456k [00:00&lt;00:00, 5.76MB/s]"
          }
        },
        "130a7c95db8b46049b10aa7deb858f54": {
          "model_module": "@jupyter-widgets/base",
          "model_name": "LayoutModel",
          "model_module_version": "1.2.0",
          "state": {
            "_model_module": "@jupyter-widgets/base",
            "_model_module_version": "1.2.0",
            "_model_name": "LayoutModel",
            "_view_count": null,
            "_view_module": "@jupyter-widgets/base",
            "_view_module_version": "1.2.0",
            "_view_name": "LayoutView",
            "align_content": null,
            "align_items": null,
            "align_self": null,
            "border": null,
            "bottom": null,
            "display": null,
            "flex": null,
            "flex_flow": null,
            "grid_area": null,
            "grid_auto_columns": null,
            "grid_auto_flow": null,
            "grid_auto_rows": null,
            "grid_column": null,
            "grid_gap": null,
            "grid_row": null,
            "grid_template_areas": null,
            "grid_template_columns": null,
            "grid_template_rows": null,
            "height": null,
            "justify_content": null,
            "justify_items": null,
            "left": null,
            "margin": null,
            "max_height": null,
            "max_width": null,
            "min_height": null,
            "min_width": null,
            "object_fit": null,
            "object_position": null,
            "order": null,
            "overflow": null,
            "overflow_x": null,
            "overflow_y": null,
            "padding": null,
            "right": null,
            "top": null,
            "visibility": null,
            "width": null
          }
        },
        "71dd1d244da747adab69093bbb1741ac": {
          "model_module": "@jupyter-widgets/base",
          "model_name": "LayoutModel",
          "model_module_version": "1.2.0",
          "state": {
            "_model_module": "@jupyter-widgets/base",
            "_model_module_version": "1.2.0",
            "_model_name": "LayoutModel",
            "_view_count": null,
            "_view_module": "@jupyter-widgets/base",
            "_view_module_version": "1.2.0",
            "_view_name": "LayoutView",
            "align_content": null,
            "align_items": null,
            "align_self": null,
            "border": null,
            "bottom": null,
            "display": null,
            "flex": null,
            "flex_flow": null,
            "grid_area": null,
            "grid_auto_columns": null,
            "grid_auto_flow": null,
            "grid_auto_rows": null,
            "grid_column": null,
            "grid_gap": null,
            "grid_row": null,
            "grid_template_areas": null,
            "grid_template_columns": null,
            "grid_template_rows": null,
            "height": null,
            "justify_content": null,
            "justify_items": null,
            "left": null,
            "margin": null,
            "max_height": null,
            "max_width": null,
            "min_height": null,
            "min_width": null,
            "object_fit": null,
            "object_position": null,
            "order": null,
            "overflow": null,
            "overflow_x": null,
            "overflow_y": null,
            "padding": null,
            "right": null,
            "top": null,
            "visibility": null,
            "width": null
          }
        },
        "b54597fa5e26423185a6366f3d3f29d1": {
          "model_module": "@jupyter-widgets/controls",
          "model_name": "DescriptionStyleModel",
          "model_module_version": "1.5.0",
          "state": {
            "_model_module": "@jupyter-widgets/controls",
            "_model_module_version": "1.5.0",
            "_model_name": "DescriptionStyleModel",
            "_view_count": null,
            "_view_module": "@jupyter-widgets/base",
            "_view_module_version": "1.2.0",
            "_view_name": "StyleView",
            "description_width": ""
          }
        },
        "0d018d892648472db2dbb6554a36a75e": {
          "model_module": "@jupyter-widgets/base",
          "model_name": "LayoutModel",
          "model_module_version": "1.2.0",
          "state": {
            "_model_module": "@jupyter-widgets/base",
            "_model_module_version": "1.2.0",
            "_model_name": "LayoutModel",
            "_view_count": null,
            "_view_module": "@jupyter-widgets/base",
            "_view_module_version": "1.2.0",
            "_view_name": "LayoutView",
            "align_content": null,
            "align_items": null,
            "align_self": null,
            "border": null,
            "bottom": null,
            "display": null,
            "flex": null,
            "flex_flow": null,
            "grid_area": null,
            "grid_auto_columns": null,
            "grid_auto_flow": null,
            "grid_auto_rows": null,
            "grid_column": null,
            "grid_gap": null,
            "grid_row": null,
            "grid_template_areas": null,
            "grid_template_columns": null,
            "grid_template_rows": null,
            "height": null,
            "justify_content": null,
            "justify_items": null,
            "left": null,
            "margin": null,
            "max_height": null,
            "max_width": null,
            "min_height": null,
            "min_width": null,
            "object_fit": null,
            "object_position": null,
            "order": null,
            "overflow": null,
            "overflow_x": null,
            "overflow_y": null,
            "padding": null,
            "right": null,
            "top": null,
            "visibility": null,
            "width": null
          }
        },
        "ad3725732444462a8d1c3d320ece33d6": {
          "model_module": "@jupyter-widgets/controls",
          "model_name": "ProgressStyleModel",
          "model_module_version": "1.5.0",
          "state": {
            "_model_module": "@jupyter-widgets/controls",
            "_model_module_version": "1.5.0",
            "_model_name": "ProgressStyleModel",
            "_view_count": null,
            "_view_module": "@jupyter-widgets/base",
            "_view_module_version": "1.2.0",
            "_view_name": "StyleView",
            "bar_color": null,
            "description_width": ""
          }
        },
        "1c3262e5d00c43b58e568aca987bf532": {
          "model_module": "@jupyter-widgets/base",
          "model_name": "LayoutModel",
          "model_module_version": "1.2.0",
          "state": {
            "_model_module": "@jupyter-widgets/base",
            "_model_module_version": "1.2.0",
            "_model_name": "LayoutModel",
            "_view_count": null,
            "_view_module": "@jupyter-widgets/base",
            "_view_module_version": "1.2.0",
            "_view_name": "LayoutView",
            "align_content": null,
            "align_items": null,
            "align_self": null,
            "border": null,
            "bottom": null,
            "display": null,
            "flex": null,
            "flex_flow": null,
            "grid_area": null,
            "grid_auto_columns": null,
            "grid_auto_flow": null,
            "grid_auto_rows": null,
            "grid_column": null,
            "grid_gap": null,
            "grid_row": null,
            "grid_template_areas": null,
            "grid_template_columns": null,
            "grid_template_rows": null,
            "height": null,
            "justify_content": null,
            "justify_items": null,
            "left": null,
            "margin": null,
            "max_height": null,
            "max_width": null,
            "min_height": null,
            "min_width": null,
            "object_fit": null,
            "object_position": null,
            "order": null,
            "overflow": null,
            "overflow_x": null,
            "overflow_y": null,
            "padding": null,
            "right": null,
            "top": null,
            "visibility": null,
            "width": null
          }
        },
        "0517834f8e2d4c98a030c1300cdad06b": {
          "model_module": "@jupyter-widgets/controls",
          "model_name": "DescriptionStyleModel",
          "model_module_version": "1.5.0",
          "state": {
            "_model_module": "@jupyter-widgets/controls",
            "_model_module_version": "1.5.0",
            "_model_name": "DescriptionStyleModel",
            "_view_count": null,
            "_view_module": "@jupyter-widgets/base",
            "_view_module_version": "1.2.0",
            "_view_name": "StyleView",
            "description_width": ""
          }
        },
        "bb17082d722f4bfbaf877db0184c8edb": {
          "model_module": "@jupyter-widgets/controls",
          "model_name": "HBoxModel",
          "model_module_version": "1.5.0",
          "state": {
            "_dom_classes": [],
            "_model_module": "@jupyter-widgets/controls",
            "_model_module_version": "1.5.0",
            "_model_name": "HBoxModel",
            "_view_count": null,
            "_view_module": "@jupyter-widgets/controls",
            "_view_module_version": "1.5.0",
            "_view_name": "HBoxView",
            "box_style": "",
            "children": [
              "IPY_MODEL_71eac2fe796a4205a3d4b14cfce85f89",
              "IPY_MODEL_251d1e5f454a4595a1969632ea154bba",
              "IPY_MODEL_26f28e720a5e4392870fdee8deab6104"
            ],
            "layout": "IPY_MODEL_e229f483ddf343808a0a1a7a21d4e053"
          }
        },
        "71eac2fe796a4205a3d4b14cfce85f89": {
          "model_module": "@jupyter-widgets/controls",
          "model_name": "HTMLModel",
          "model_module_version": "1.5.0",
          "state": {
            "_dom_classes": [],
            "_model_module": "@jupyter-widgets/controls",
            "_model_module_version": "1.5.0",
            "_model_name": "HTMLModel",
            "_view_count": null,
            "_view_module": "@jupyter-widgets/controls",
            "_view_module_version": "1.5.0",
            "_view_name": "HTMLView",
            "description": "",
            "description_tooltip": null,
            "layout": "IPY_MODEL_567a733ed5224e77a818cf42ddf13395",
            "placeholder": "​",
            "style": "IPY_MODEL_f4864f62e6dd42cdb0b56995cb4c7ba6",
            "value": "special_tokens_map.json: 100%"
          }
        },
        "251d1e5f454a4595a1969632ea154bba": {
          "model_module": "@jupyter-widgets/controls",
          "model_name": "FloatProgressModel",
          "model_module_version": "1.5.0",
          "state": {
            "_dom_classes": [],
            "_model_module": "@jupyter-widgets/controls",
            "_model_module_version": "1.5.0",
            "_model_name": "FloatProgressModel",
            "_view_count": null,
            "_view_module": "@jupyter-widgets/controls",
            "_view_module_version": "1.5.0",
            "_view_name": "ProgressView",
            "bar_style": "success",
            "description": "",
            "description_tooltip": null,
            "layout": "IPY_MODEL_92ba5898739e4da1af6c8cbc94142556",
            "max": 150,
            "min": 0,
            "orientation": "horizontal",
            "style": "IPY_MODEL_1a82fceddbb24a2ba1cc108a692dc079",
            "value": 150
          }
        },
        "26f28e720a5e4392870fdee8deab6104": {
          "model_module": "@jupyter-widgets/controls",
          "model_name": "HTMLModel",
          "model_module_version": "1.5.0",
          "state": {
            "_dom_classes": [],
            "_model_module": "@jupyter-widgets/controls",
            "_model_module_version": "1.5.0",
            "_model_name": "HTMLModel",
            "_view_count": null,
            "_view_module": "@jupyter-widgets/controls",
            "_view_module_version": "1.5.0",
            "_view_name": "HTMLView",
            "description": "",
            "description_tooltip": null,
            "layout": "IPY_MODEL_5519f5fb9d67484cbe1743332a2f0837",
            "placeholder": "​",
            "style": "IPY_MODEL_3aa13bf0f26141ca9663dc113980fa79",
            "value": " 150/150 [00:00&lt;00:00, 7.09kB/s]"
          }
        },
        "e229f483ddf343808a0a1a7a21d4e053": {
          "model_module": "@jupyter-widgets/base",
          "model_name": "LayoutModel",
          "model_module_version": "1.2.0",
          "state": {
            "_model_module": "@jupyter-widgets/base",
            "_model_module_version": "1.2.0",
            "_model_name": "LayoutModel",
            "_view_count": null,
            "_view_module": "@jupyter-widgets/base",
            "_view_module_version": "1.2.0",
            "_view_name": "LayoutView",
            "align_content": null,
            "align_items": null,
            "align_self": null,
            "border": null,
            "bottom": null,
            "display": null,
            "flex": null,
            "flex_flow": null,
            "grid_area": null,
            "grid_auto_columns": null,
            "grid_auto_flow": null,
            "grid_auto_rows": null,
            "grid_column": null,
            "grid_gap": null,
            "grid_row": null,
            "grid_template_areas": null,
            "grid_template_columns": null,
            "grid_template_rows": null,
            "height": null,
            "justify_content": null,
            "justify_items": null,
            "left": null,
            "margin": null,
            "max_height": null,
            "max_width": null,
            "min_height": null,
            "min_width": null,
            "object_fit": null,
            "object_position": null,
            "order": null,
            "overflow": null,
            "overflow_x": null,
            "overflow_y": null,
            "padding": null,
            "right": null,
            "top": null,
            "visibility": null,
            "width": null
          }
        },
        "567a733ed5224e77a818cf42ddf13395": {
          "model_module": "@jupyter-widgets/base",
          "model_name": "LayoutModel",
          "model_module_version": "1.2.0",
          "state": {
            "_model_module": "@jupyter-widgets/base",
            "_model_module_version": "1.2.0",
            "_model_name": "LayoutModel",
            "_view_count": null,
            "_view_module": "@jupyter-widgets/base",
            "_view_module_version": "1.2.0",
            "_view_name": "LayoutView",
            "align_content": null,
            "align_items": null,
            "align_self": null,
            "border": null,
            "bottom": null,
            "display": null,
            "flex": null,
            "flex_flow": null,
            "grid_area": null,
            "grid_auto_columns": null,
            "grid_auto_flow": null,
            "grid_auto_rows": null,
            "grid_column": null,
            "grid_gap": null,
            "grid_row": null,
            "grid_template_areas": null,
            "grid_template_columns": null,
            "grid_template_rows": null,
            "height": null,
            "justify_content": null,
            "justify_items": null,
            "left": null,
            "margin": null,
            "max_height": null,
            "max_width": null,
            "min_height": null,
            "min_width": null,
            "object_fit": null,
            "object_position": null,
            "order": null,
            "overflow": null,
            "overflow_x": null,
            "overflow_y": null,
            "padding": null,
            "right": null,
            "top": null,
            "visibility": null,
            "width": null
          }
        },
        "f4864f62e6dd42cdb0b56995cb4c7ba6": {
          "model_module": "@jupyter-widgets/controls",
          "model_name": "DescriptionStyleModel",
          "model_module_version": "1.5.0",
          "state": {
            "_model_module": "@jupyter-widgets/controls",
            "_model_module_version": "1.5.0",
            "_model_name": "DescriptionStyleModel",
            "_view_count": null,
            "_view_module": "@jupyter-widgets/base",
            "_view_module_version": "1.2.0",
            "_view_name": "StyleView",
            "description_width": ""
          }
        },
        "92ba5898739e4da1af6c8cbc94142556": {
          "model_module": "@jupyter-widgets/base",
          "model_name": "LayoutModel",
          "model_module_version": "1.2.0",
          "state": {
            "_model_module": "@jupyter-widgets/base",
            "_model_module_version": "1.2.0",
            "_model_name": "LayoutModel",
            "_view_count": null,
            "_view_module": "@jupyter-widgets/base",
            "_view_module_version": "1.2.0",
            "_view_name": "LayoutView",
            "align_content": null,
            "align_items": null,
            "align_self": null,
            "border": null,
            "bottom": null,
            "display": null,
            "flex": null,
            "flex_flow": null,
            "grid_area": null,
            "grid_auto_columns": null,
            "grid_auto_flow": null,
            "grid_auto_rows": null,
            "grid_column": null,
            "grid_gap": null,
            "grid_row": null,
            "grid_template_areas": null,
            "grid_template_columns": null,
            "grid_template_rows": null,
            "height": null,
            "justify_content": null,
            "justify_items": null,
            "left": null,
            "margin": null,
            "max_height": null,
            "max_width": null,
            "min_height": null,
            "min_width": null,
            "object_fit": null,
            "object_position": null,
            "order": null,
            "overflow": null,
            "overflow_x": null,
            "overflow_y": null,
            "padding": null,
            "right": null,
            "top": null,
            "visibility": null,
            "width": null
          }
        },
        "1a82fceddbb24a2ba1cc108a692dc079": {
          "model_module": "@jupyter-widgets/controls",
          "model_name": "ProgressStyleModel",
          "model_module_version": "1.5.0",
          "state": {
            "_model_module": "@jupyter-widgets/controls",
            "_model_module_version": "1.5.0",
            "_model_name": "ProgressStyleModel",
            "_view_count": null,
            "_view_module": "@jupyter-widgets/base",
            "_view_module_version": "1.2.0",
            "_view_name": "StyleView",
            "bar_color": null,
            "description_width": ""
          }
        },
        "5519f5fb9d67484cbe1743332a2f0837": {
          "model_module": "@jupyter-widgets/base",
          "model_name": "LayoutModel",
          "model_module_version": "1.2.0",
          "state": {
            "_model_module": "@jupyter-widgets/base",
            "_model_module_version": "1.2.0",
            "_model_name": "LayoutModel",
            "_view_count": null,
            "_view_module": "@jupyter-widgets/base",
            "_view_module_version": "1.2.0",
            "_view_name": "LayoutView",
            "align_content": null,
            "align_items": null,
            "align_self": null,
            "border": null,
            "bottom": null,
            "display": null,
            "flex": null,
            "flex_flow": null,
            "grid_area": null,
            "grid_auto_columns": null,
            "grid_auto_flow": null,
            "grid_auto_rows": null,
            "grid_column": null,
            "grid_gap": null,
            "grid_row": null,
            "grid_template_areas": null,
            "grid_template_columns": null,
            "grid_template_rows": null,
            "height": null,
            "justify_content": null,
            "justify_items": null,
            "left": null,
            "margin": null,
            "max_height": null,
            "max_width": null,
            "min_height": null,
            "min_width": null,
            "object_fit": null,
            "object_position": null,
            "order": null,
            "overflow": null,
            "overflow_x": null,
            "overflow_y": null,
            "padding": null,
            "right": null,
            "top": null,
            "visibility": null,
            "width": null
          }
        },
        "3aa13bf0f26141ca9663dc113980fa79": {
          "model_module": "@jupyter-widgets/controls",
          "model_name": "DescriptionStyleModel",
          "model_module_version": "1.5.0",
          "state": {
            "_model_module": "@jupyter-widgets/controls",
            "_model_module_version": "1.5.0",
            "_model_name": "DescriptionStyleModel",
            "_view_count": null,
            "_view_module": "@jupyter-widgets/base",
            "_view_module_version": "1.2.0",
            "_view_name": "StyleView",
            "description_width": ""
          }
        }
      }
    }
  },
  "cells": [
    {
      "cell_type": "markdown",
      "metadata": {
        "id": "view-in-github",
        "colab_type": "text"
      },
      "source": [
        "<a href=\"https://colab.research.google.com/github/FredLongo/DataMiningProject/blob/main/code/GetTwitterSentiment.ipynb\" target=\"_parent\"><img src=\"https://colab.research.google.com/assets/colab-badge.svg\" alt=\"Open In Colab\"/></a>"
      ]
    },
    {
      "cell_type": "markdown",
      "source": [
        "This first part is about processing the Twitter data to a format we can work with.   \n"
      ],
      "metadata": {
        "id": "-gt85Llw_0cp"
      }
    },
    {
      "cell_type": "markdown",
      "source": [
        "# Project Overview\n",
        "\n",
        "## Evaluation of Twiter stock sentement on price stock prices.\n",
        "\n",
        "In this project we evaluate twiter tweet posts to see if tweets can act as leading indecators or laging indicaterst to stock prices.  We do this over a one day, three day, five day pre and post of tweet.  \n",
        "\n",
        "\n"
      ],
      "metadata": {
        "id": "mEwxVGti9a79"
      }
    },
    {
      "cell_type": "markdown",
      "source": [
        "# Aquiring Tweets\n",
        "\n",
        "We targeted twitter tweets to data mine as a source for evaluation of sentament.  Twitter was chosen because many of the paper we reviewed took this approch.  We wanted to emulate some of their process.  However Twitter has changed it's policies over the past year to not allow twitter pulls for free to research.  As a result We needed to use a thired party product to pull a few months worth of tweets.  This third party was Apify (www.apify.com)  as a tool it can pull twiter feeds.  This file was created using the tool and the results of which can be found at # Data pulled from https://console.apify.com/actors/2s3kSMq7tpuC3bI6M/runs/cMp5HramffKLAmVSt#output\n",
        "\n",
        "The json file is stored to the folloiwng location\n",
        " https://drive.google.com/file/d/1s429__b-2Gptf2oN2g-t--1aNPkMiyU-/view?usp=drive_link and should be downloaded to the local colab environment for processing.  \n",
        "\n",
        "\n",
        "## Limiting/Filtering twitter-Tweets.json Data Set\n",
        "During this process we thought about the diffrent approches to evaluation of stock.  We could look at all tweets and get sentenment with respect to the market as a whole.  However we found that their are so many ways to iterprete the tweets with respect to the market as a whole was difficalt. Some filtering was required.  We chose to limit our stocks to just the top 7 of the S&P 500.  By doing so we felt this this would be easerir to selectivly identify tweets with respect to the stock.  The stocks we chose are \"Apple\",\"Alphabet\",\"Amazon\",\"Microsoft\",\"Meta\",\"Nvidia\" and \"Tesla\".  Using their Stock lable of \"AAPL\",\"GOOG\",\"AMZN\",\"MSFT\",\"META\",\"NVDA\",\"TSLA\"\n",
        "\n",
        "We also just looked a a few months of tweets.  So as to limit the data set to just a sample timeframe.  \n",
        "\n",
        "Twitter has many users(channels) that produce tweets. We recognize not all channels are intresed in producing relevent, relyable and consistent statements with respect to market or stocks.  So we limit the channals that we monitored to just a few key player that we though might be relevent in the marketspace of stock evaluations.  The channals we chose to evaluate are \"@USNewsMoney\", \"@TMFStockAdvisor\", \"@ftfinancenews\", \"@Stocktwits\", \"@MadMoneyOnCNBC\" and \"@SquawkCNBC\".  We found these to be popular that should fit our needs.\n",
        "\n",
        "\n"
      ],
      "metadata": {
        "id": "KuQ7215q_4uA"
      }
    },
    {
      "cell_type": "markdown",
      "source": [
        "Loading tweet data."
      ],
      "metadata": {
        "id": "LEz7VDQ1FIVJ"
      }
    },
    {
      "cell_type": "code",
      "execution_count": 1,
      "metadata": {
        "id": "SBQdtyBwzosZ"
      },
      "outputs": [],
      "source": [
        "import json\n",
        "import csv\n",
        "import requests\n",
        "\n"
      ]
    },
    {
      "cell_type": "code",
      "source": [
        "\n",
        "#The Twitter-Tweets file can be pulled off the internet from the following\n",
        "\n",
        "# As CSV\n",
        "#Tweets_url = 'https://drive.google.com/file/d/1HqubufxP00MJtA_Rh75d3E0WXH-x9Pqt/view?usp=sharing'\n",
        "#Tweets_filename = 'Tweets.csv'\n",
        "\n",
        "# As JSON\n",
        "#Tweets_url = 'https://drive.google.com/file/d/1s429__b-2Gptf2oN2g-t--1aNPkMiyU-/view?usp=drive_link'\n",
        "Tweets_filename = 'twitter-tweets.json'\n",
        "\n",
        "# As JSON Text File extention.\n",
        "#Tweets_url = 'https://drive.google.com/file/d/1AFXhblSsY-5UmMEWNad2GHsVy_NRz4zu/view?usp=drive_link'\n",
        "\n",
        "\n",
        "#infile = f\"/content/{Tweets_filename}\"\n",
        "infile = Tweets_filename\n",
        "\n",
        "print(infile)\n",
        "\n",
        "with open(infile, \"r\") as f:\n",
        "  data = json.load(f)\n",
        "\n",
        "\n",
        "\n",
        "\n"
      ],
      "metadata": {
        "colab": {
          "base_uri": "https://localhost:8080/"
        },
        "id": "7dVV8pfAKiki",
        "outputId": "37b004bb-a918-4558-c42e-768af2bc58b0"
      },
      "execution_count": 2,
      "outputs": [
        {
          "output_type": "stream",
          "name": "stdout",
          "text": [
            "twitter-tweets.json\n"
          ]
        }
      ]
    },
    {
      "cell_type": "markdown",
      "source": [
        "Load stock price data."
      ],
      "metadata": {
        "id": "xWvUAVD3lgAU"
      }
    },
    {
      "cell_type": "code",
      "source": [
        "\n",
        "#Stock Price URL of the file to be downloaded\n",
        "StockPrice_url = 'https://drive.google.com/file/d/1Hk3Ca66ai_vAO14EFAD1AfOEk2A60E-U/view?usp=drive_link'\n",
        "\n",
        "# Send a GET request to the URL\n",
        "StockPrice_response = requests.get(StockPrice_url)\n",
        "\n",
        "# Ensure the request was successful\n",
        "if StockPrice_response.status_code == 200:\n",
        "    # Write the content of the response to a file\n",
        "    with open('StockPrice.csv', 'wb') as file:\n",
        "        file.write(StockPrice_response.content)\n",
        "else:\n",
        "    print(f\"Failed to download the file. Status code: {StockPrice_response.status_code}\")\n"
      ],
      "metadata": {
        "id": "kUpZkFsVrO7h"
      },
      "execution_count": 3,
      "outputs": []
    },
    {
      "cell_type": "code",
      "source": [],
      "metadata": {
        "id": "-MDaH1I8npgj"
      },
      "execution_count": null,
      "outputs": []
    },
    {
      "cell_type": "markdown",
      "source": [
        "# Data Structure\n",
        "\n",
        "We needed a way to store our data so we implented SQLITE database to  use.\n"
      ],
      "metadata": {
        "id": "XjDl94NGnu_z"
      }
    },
    {
      "cell_type": "code",
      "source": [
        "\n",
        "import sqlite3\n",
        "conn = sqlite3.connect(\"Project.db\")\n",
        "\n",
        "# Create a cursor object using the cursor() method\n",
        "cursor = conn.cursor()\n"
      ],
      "metadata": {
        "id": "ip_IaVLXoDqN"
      },
      "execution_count": 4,
      "outputs": []
    },
    {
      "cell_type": "code",
      "source": [
        "# SQL command to create Tweets table\n",
        "\n",
        "create_table_command = \"\"\"\n",
        "CREATE TABLE Tweets (\n",
        "    Timestamp DATE,\n",
        "    Channel TEXT,\n",
        "    Stock  TEXT,\n",
        "    Neg_score FLOAT,\n",
        "    Neu_score FLOAT,\n",
        "    Pos_score FLOAT,\n",
        "    Sentiment Int,\n",
        "    Tweet_orginal TEXT,\n",
        "    Tweet_clean TEXT\n",
        "\n",
        ");\n",
        "\"\"\"\n",
        "\n",
        "\n",
        "# Execute the SQL command\n",
        "cursor.execute(create_table_command)\n",
        "\n",
        "\n"
      ],
      "metadata": {
        "id": "fGfpjAyRojzy",
        "outputId": "d8d941e5-34f1-428c-f517-f58d80fd5417",
        "colab": {
          "base_uri": "https://localhost:8080/"
        }
      },
      "execution_count": 5,
      "outputs": [
        {
          "output_type": "execute_result",
          "data": {
            "text/plain": [
              "<sqlite3.Cursor at 0x7c150c02cb40>"
            ]
          },
          "metadata": {},
          "execution_count": 5
        }
      ]
    },
    {
      "cell_type": "code",
      "source": [
        "# SQL command to create Stocks table\n",
        "\n",
        "create_table_command = \"\"\"\n",
        "CREATE TABLE Stocks (\n",
        "    Date DATE,\n",
        "    AAPL_C\tFLOAT,\n",
        "    AMZN_C\tFLOAT,\n",
        "    GOOG_C\tFLOAT,\n",
        "    META_C\tFLOAT,\n",
        "    MSFT_C\tFLOAT,\n",
        "    NVDA_C\tFLOAT,\n",
        "    TSLA_C\tFLOAT,\n",
        "    AAPL_H\tFLOAT,\n",
        "    AMZN_H\tFLOAT,\n",
        "    GOOG_H\tFLOAT,\n",
        "    META_H\tFLOAT,\n",
        "    MSFT_H\tFLOAT,\n",
        "    NVDA_H\tFLOAT,\n",
        "    TSLA_H\tFLOAT,\n",
        "    AAPL_L\tFLOAT,\n",
        "    AMZN_L\tFLOAT,\n",
        "    GOOG_L\tFLOAT,\n",
        "    META_L\tFLOAT,\n",
        "    MSFT_L\tFLOAT,\n",
        "    NVDA_L\tFLOAT,\n",
        "    TSLA_L\tFLOAT,\n",
        "    AAPL_O\tFLOAT,\n",
        "    AMZN_O\tFLOAT,\n",
        "    GOOG_O\tFLOAT,\n",
        "    META_O\tFLOAT,\n",
        "    MSFT_O\tFLOAT,\n",
        "    NVDA_O\tFLOAT,\n",
        "    TSLA_O\tFLOAT,\n",
        "    AAPL_V\tFLOAT,\n",
        "    AMZN_V\tFLOAT,\n",
        "    GOOG_V\tFLOAT,\n",
        "    META_V\tFLOAT,\n",
        "    MSFT_V\tFLOAT,\n",
        "    NVDA_V\tFLOAT,\n",
        "    TSLA_V\tFLOAT,\n",
        "    AAPL_N\tFLOAT,\n",
        "    AMZN_N\tFLOAT,\n",
        "    GOOG_N\tFLOAT,\n",
        "    META_N\tFLOAT,\n",
        "    MSFT_N\tFLOAT,\n",
        "    NVDA_N\tFLOAT,\n",
        "    TSLA_N\tFLOAT,\n",
        "    AAPL_U\tFLOAT,\n",
        "    AMZN_U\tFLOAT,\n",
        "    GOOG_U\tFLOAT,\n",
        "    META_U\tFLOAT,\n",
        "    MSFT_U\tFLOAT,\n",
        "    NVDA_U\tFLOAT,\n",
        "    TSLA_U\tFLOAT,\n",
        "    AAPL_P\tFLOAT,\n",
        "    AMZN_P\tFLOAT,\n",
        "    GOOG_P\tFLOAT,\n",
        "    META_P\tFLOAT,\n",
        "    MSFT_P\tFLOAT,\n",
        "    NVDA_P\tFLOAT,\n",
        "    TSLA_P  FLOAT\n",
        ");\n",
        "\"\"\"\n",
        "\n",
        "# Execute the SQL command\n",
        "cursor.execute(create_table_command)"
      ],
      "metadata": {
        "id": "o4eTuYmH2Tkm",
        "outputId": "b4b07ff1-176a-4ab7-aa01-063271cc26d0",
        "colab": {
          "base_uri": "https://localhost:8080/"
        }
      },
      "execution_count": 6,
      "outputs": [
        {
          "output_type": "execute_result",
          "data": {
            "text/plain": [
              "<sqlite3.Cursor at 0x7c150c02cb40>"
            ]
          },
          "metadata": {},
          "execution_count": 6
        }
      ]
    },
    {
      "cell_type": "code",
      "source": [
        "# List all table in DB\n",
        "\n",
        "list_tables_command = \"SELECT name FROM sqlite_master WHERE type='table';\"\n",
        "cursor.execute(list_tables_command)\n",
        "\n",
        "tables = cursor.fetchall()\n",
        "for table in tables:\n",
        "  print(table[0])"
      ],
      "metadata": {
        "id": "G-28QESVomZs",
        "colab": {
          "base_uri": "https://localhost:8080/"
        },
        "outputId": "9f318e15-1d81-4b01-e398-af0a23b29d9c"
      },
      "execution_count": 7,
      "outputs": [
        {
          "output_type": "stream",
          "name": "stdout",
          "text": [
            "Tweets\n",
            "Stocks\n"
          ]
        }
      ]
    },
    {
      "cell_type": "code",
      "source": [
        "\n",
        "# SQL command to get all columns of a table\n",
        "\n",
        "table_name = 'Tweets'  # Replace with your table name\n",
        "pragma_query = f\"PRAGMA table_info({table_name});\"\n",
        "\n",
        "# Execute the command\n",
        "cursor.execute(pragma_query)\n",
        "\n",
        "# Fetch all results\n",
        "columns = cursor.fetchall()\n",
        "\n",
        "# Print column names\n",
        "print(f\"Table: {table_name}\")\n",
        "for col in columns:\n",
        "    print(col[1])  # Column names are in the second position in the result tuple\n",
        "print(\"\")\n",
        "\n",
        "\n",
        "table_name = 'Stocks'  # Replace with your table name\n",
        "pragma_query = f\"PRAGMA table_info({table_name});\"\n",
        "\n",
        "# Execute the command\n",
        "cursor.execute(pragma_query)\n",
        "\n",
        "# Fetch all results\n",
        "columns = cursor.fetchall()\n",
        "\n",
        "# Print column names\n",
        "print(f\"Table: {table_name}\")\n",
        "for col in columns:\n",
        "    print(col[1])  # Column names are in the second position in the result tuple\n",
        "\n",
        "\n"
      ],
      "metadata": {
        "id": "uqq9KUZz3f6T",
        "colab": {
          "base_uri": "https://localhost:8080/"
        },
        "outputId": "84fc2df6-9db0-494e-9458-bf30b986f62d"
      },
      "execution_count": 8,
      "outputs": [
        {
          "output_type": "stream",
          "name": "stdout",
          "text": [
            "Table: Tweets\n",
            "Timestamp\n",
            "Channel\n",
            "Stock\n",
            "Neg_score\n",
            "Neu_score\n",
            "Pos_score\n",
            "Sentiment\n",
            "Tweet_orginal\n",
            "Tweet_clean\n",
            "\n",
            "Table: Stocks\n",
            "Date\n",
            "AAPL_C\n",
            "AMZN_C\n",
            "GOOG_C\n",
            "META_C\n",
            "MSFT_C\n",
            "NVDA_C\n",
            "TSLA_C\n",
            "AAPL_H\n",
            "AMZN_H\n",
            "GOOG_H\n",
            "META_H\n",
            "MSFT_H\n",
            "NVDA_H\n",
            "TSLA_H\n",
            "AAPL_L\n",
            "AMZN_L\n",
            "GOOG_L\n",
            "META_L\n",
            "MSFT_L\n",
            "NVDA_L\n",
            "TSLA_L\n",
            "AAPL_O\n",
            "AMZN_O\n",
            "GOOG_O\n",
            "META_O\n",
            "MSFT_O\n",
            "NVDA_O\n",
            "TSLA_O\n",
            "AAPL_V\n",
            "AMZN_V\n",
            "GOOG_V\n",
            "META_V\n",
            "MSFT_V\n",
            "NVDA_V\n",
            "TSLA_V\n",
            "AAPL_N\n",
            "AMZN_N\n",
            "GOOG_N\n",
            "META_N\n",
            "MSFT_N\n",
            "NVDA_N\n",
            "TSLA_N\n",
            "AAPL_U\n",
            "AMZN_U\n",
            "GOOG_U\n",
            "META_U\n",
            "MSFT_U\n",
            "NVDA_U\n",
            "TSLA_U\n",
            "AAPL_P\n",
            "AMZN_P\n",
            "GOOG_P\n",
            "META_P\n",
            "MSFT_P\n",
            "NVDA_P\n",
            "TSLA_P\n"
          ]
        }
      ]
    },
    {
      "cell_type": "code",
      "source": [
        "def dbexec(command):\n",
        "  # Execute the command\n",
        "  cursor.execute(command)\n",
        "\n",
        "  # Fetch all the rows from the executed query\n",
        "  rows = cursor.fetchall()\n",
        "\n",
        "  # Iterate through rows and print them\n",
        "  for row in rows:\n",
        "    print(row)\n",
        "\n",
        "\n"
      ],
      "metadata": {
        "id": "Ahcn6VBjzUxt"
      },
      "execution_count": 9,
      "outputs": []
    },
    {
      "cell_type": "code",
      "source": [
        "\n",
        "def Stock_case_AAPL():\n",
        "    return \"AAPL\"\n",
        "\n",
        "def Stock_case_GOOG():\n",
        "    return \"GOOG\"\n",
        "\n",
        "def Stock_case_AMZN():\n",
        "    return \"AMZN\"\n",
        "\n",
        "def Stock_case_META():\n",
        "    return \"META\"\n",
        "\n",
        "def Stock_case_MSFT():\n",
        "    return \"MSFT\"\n",
        "\n",
        "def Stock_case_NVDA():\n",
        "    return \"NVDA\"\n",
        "\n",
        "def Stock_case_TSLA():\n",
        "    return \"TSLA\"\n",
        "\n",
        "def Stock_case_default():\n",
        "    return \"ERROR\"\n",
        "\n",
        "def Stock_Symble(StockID):\n",
        "  StockID = StockID.strip()\n",
        "  switcher = {\n",
        "      'AAPL':       Stock_case_AAPL,\n",
        "      'Alphabet':  \tStock_case_GOOG,\n",
        "      'AMZN':   \t\tStock_case_AMZN,\n",
        "      'Apple':   \t\tStock_case_AAPL,\n",
        "      'GOOG':   \t\tStock_case_GOOG,\n",
        "      'META':   \t \tStock_case_META,\n",
        "      'Microsoft': \tStock_case_MSFT,\n",
        "      'MSFT':   \t\tStock_case_MSFT,\n",
        "      'NVDA':   \t\tStock_case_NVDA,\n",
        "      'Nvidia':   \tStock_case_NVDA,\n",
        "      'Tesla':   \t\tStock_case_TSLA,\n",
        "      'TSLA':   \t\tStock_case_TSLA\n",
        "  }\n",
        "\n",
        "  # Get the function from switcher dictionary\n",
        "  case_function = switcher.get(StockID, Stock_case_default)\n",
        "\n",
        "  # Execute the function\n",
        "  return case_function()\n",
        "\n",
        "\n"
      ],
      "metadata": {
        "id": "EgaBLive0sLk"
      },
      "execution_count": 10,
      "outputs": []
    },
    {
      "cell_type": "markdown",
      "source": [
        "# Evaluation of Twitter Sentiment"
      ],
      "metadata": {
        "id": "tGniHGe_E29l"
      }
    },
    {
      "cell_type": "markdown",
      "source": [
        "At this point I want to add the code to do the sentiment alalisis.\n",
        "\n"
      ],
      "metadata": {
        "id": "n-fnSw-Im217"
      }
    },
    {
      "cell_type": "code",
      "source": [
        "\n",
        "from transformers import AutoTokenizer, AutoModelForSequenceClassification\n",
        "from scipy.special import softmax\n",
        "\n",
        "\n",
        "# load model and tokenizer\n",
        "roberta = \"cardiffnlp/twitter-roberta-base-sentiment\"\n",
        "\n",
        "model = AutoModelForSequenceClassification.from_pretrained(roberta)\n",
        "tokenizer = AutoTokenizer.from_pretrained(roberta)\n",
        "\n",
        "labels = ['Negative', 'Neutral', 'Positive']\n",
        "\n",
        "Negative = 0\n",
        "Neutral = 1\n",
        "Positive = 2\n",
        "\n"
      ],
      "metadata": {
        "id": "75BicuOmm9rm",
        "colab": {
          "base_uri": "https://localhost:8080/",
          "height": 177,
          "referenced_widgets": [
            "a5370dcca8ae49d684e1cd16236ba999",
            "e6a5b3ee5277421fa7d215bfe1dd272b",
            "728873f9c20240738b27fea0b90aeec1",
            "c26ac76efa9e49259c934843458f4503",
            "851b21cf5cc948a0b4471f23f0589589",
            "c0c66ecd72c048ae8a49a7b565c4c23c",
            "280f5fb4dff24d5ba00896b6f4fc7eec",
            "8554751d8aa14cbfafb97788a63b3b1c",
            "5f5cd180d33448eba762a9f17409a90b",
            "6018a9bb691f46a2b9f44ff1afb22464",
            "834c73fc918f476988b8daccb1477207",
            "a435fd164dbf49948349f0ccbba0e837",
            "5c03d56e49e34363bbb15eb23cb79cf4",
            "586400f381d0481ebe9b1c8d97689254",
            "b5c3a7bb00f143c29a9679b36394f034",
            "5362392620d840b2b3347d8b625e4ac5",
            "4dcc4163a651450ea0cc6b9962a512a6",
            "d50399c1454343f7b02d01b95eb4fa6f",
            "8ef940396d2b45b9bc7dd5ec4a14412c",
            "cd3c4a2d68404ceead8120cd423f4e33",
            "24940ce172404490b668dd1a65503b49",
            "d46e049c2b0b45f497ca00c5979bf981",
            "f7303d6339cf4dafb2b2cbf4e5ab8811",
            "40acbba41c5441fa85fb5119bd766a68",
            "ca1661939acb4d1b8ecd7890c9d522fc",
            "962b22c811ae408583421df419a444ca",
            "e0873b41026e424fbd58030a3ed48a41",
            "fb987ed2cfa84339a1c49d121a420fdd",
            "3d5b08080c8e4364b018615d5e601708",
            "6028d12b5b944b23830c39472fa3b3cf",
            "3d57fc2179ef43818922ec5491ecfe90",
            "e98644d2b825443fadcd3c24a672e38b",
            "46f0d9527a9d4b4094f46279814390d3",
            "983dbe2972f044b1abb9cd850cf11be3",
            "15d144e32a584636b58eb4718726b950",
            "1a51fa53233743f4a5a50e9ae9eef5ac",
            "47fd18f4687a46fa97ff218940836a81",
            "130a7c95db8b46049b10aa7deb858f54",
            "71dd1d244da747adab69093bbb1741ac",
            "b54597fa5e26423185a6366f3d3f29d1",
            "0d018d892648472db2dbb6554a36a75e",
            "ad3725732444462a8d1c3d320ece33d6",
            "1c3262e5d00c43b58e568aca987bf532",
            "0517834f8e2d4c98a030c1300cdad06b",
            "bb17082d722f4bfbaf877db0184c8edb",
            "71eac2fe796a4205a3d4b14cfce85f89",
            "251d1e5f454a4595a1969632ea154bba",
            "26f28e720a5e4392870fdee8deab6104",
            "e229f483ddf343808a0a1a7a21d4e053",
            "567a733ed5224e77a818cf42ddf13395",
            "f4864f62e6dd42cdb0b56995cb4c7ba6",
            "92ba5898739e4da1af6c8cbc94142556",
            "1a82fceddbb24a2ba1cc108a692dc079",
            "5519f5fb9d67484cbe1743332a2f0837",
            "3aa13bf0f26141ca9663dc113980fa79"
          ]
        },
        "outputId": "b37e6f6e-232d-4357-88c5-5ce657cb2630"
      },
      "execution_count": 11,
      "outputs": [
        {
          "output_type": "display_data",
          "data": {
            "text/plain": [
              "config.json:   0%|          | 0.00/747 [00:00<?, ?B/s]"
            ],
            "application/vnd.jupyter.widget-view+json": {
              "version_major": 2,
              "version_minor": 0,
              "model_id": "a5370dcca8ae49d684e1cd16236ba999"
            }
          },
          "metadata": {}
        },
        {
          "output_type": "display_data",
          "data": {
            "text/plain": [
              "pytorch_model.bin:   0%|          | 0.00/499M [00:00<?, ?B/s]"
            ],
            "application/vnd.jupyter.widget-view+json": {
              "version_major": 2,
              "version_minor": 0,
              "model_id": "a435fd164dbf49948349f0ccbba0e837"
            }
          },
          "metadata": {}
        },
        {
          "output_type": "display_data",
          "data": {
            "text/plain": [
              "vocab.json:   0%|          | 0.00/899k [00:00<?, ?B/s]"
            ],
            "application/vnd.jupyter.widget-view+json": {
              "version_major": 2,
              "version_minor": 0,
              "model_id": "f7303d6339cf4dafb2b2cbf4e5ab8811"
            }
          },
          "metadata": {}
        },
        {
          "output_type": "display_data",
          "data": {
            "text/plain": [
              "merges.txt:   0%|          | 0.00/456k [00:00<?, ?B/s]"
            ],
            "application/vnd.jupyter.widget-view+json": {
              "version_major": 2,
              "version_minor": 0,
              "model_id": "983dbe2972f044b1abb9cd850cf11be3"
            }
          },
          "metadata": {}
        },
        {
          "output_type": "display_data",
          "data": {
            "text/plain": [
              "special_tokens_map.json:   0%|          | 0.00/150 [00:00<?, ?B/s]"
            ],
            "application/vnd.jupyter.widget-view+json": {
              "version_major": 2,
              "version_minor": 0,
              "model_id": "bb17082d722f4bfbaf877db0184c8edb"
            }
          },
          "metadata": {}
        }
      ]
    },
    {
      "cell_type": "code",
      "source": [
        "def remove_quotes(input_string):\n",
        "    # Remove single quotes\n",
        "    no_single_quotes = input_string.replace(\"'\", \"\")\n",
        "\n",
        "    # Remove double quotes\n",
        "    no_quotes = no_single_quotes.replace('\"', \"\")\n",
        "\n",
        "    return no_quotes"
      ],
      "metadata": {
        "id": "YIvyElIWlWVV"
      },
      "execution_count": 12,
      "outputs": []
    },
    {
      "cell_type": "code",
      "source": [
        "def remove_emojis(text):\n",
        "    # Define the emoji pattern using Unicode ranges\n",
        "    emoji_pattern = re.compile(\"[\"\n",
        "                           u\"\\U0001F600-\\U0001F64F\"  # emoticons\n",
        "                           u\"\\U0001F300-\\U0001F5FF\"  # symbols & pictographs\n",
        "                           u\"\\U0001F680-\\U0001F6FF\"  # transport & map symbols\n",
        "                           u\"\\U0001F1E0-\\U0001F1FF\"  # flags (iOS)\n",
        "                           u\"\\U00002702-\\U000027B0\"\n",
        "                           u\"\\U000024C2-\\U0001F251\"\n",
        "                           \"]+\", flags=re.UNICODE)\n",
        "\n",
        "    # Remove emojis from the text\n",
        "    return emoji_pattern.sub(r'', text)\n"
      ],
      "metadata": {
        "id": "R9OkeX5hZfZ3"
      },
      "execution_count": 13,
      "outputs": []
    },
    {
      "cell_type": "code",
      "source": [
        "import re\n",
        "\n",
        "def clean_string(input_string):\n",
        "    # Regex to match only visible characters\n",
        "    # This excludes most control characters like \\n, \\t, \\r, etc.\n",
        "    visible_chars_regex = r'[^\\x20-\\x7E]'\n",
        "\n",
        "    # Substitute non-visible characters with an empty string\n",
        "    cleaned_string = re.sub(visible_chars_regex, '', input_string)\n",
        "\n",
        "    return cleaned_string\n"
      ],
      "metadata": {
        "id": "AJ3F5PWZXwD1"
      },
      "execution_count": 14,
      "outputs": []
    },
    {
      "cell_type": "code",
      "source": [
        "def preprocesses_tweet(tweet):\n",
        "  tweet_words = []\n",
        "\n",
        "  cleaned_string = remove_emojis(tweet)\n",
        "  cleaned_string = remove_quotes(cleaned_string)\n",
        "  cleaned_string = clean_string(cleaned_string)\n",
        "\n",
        "\n",
        "  # replace\n",
        "  for word in cleaned_string.split(' '):\n",
        "    # username\n",
        "    if word.startswith('@') and len(word) > 1 :\n",
        "      word = '@user'\n",
        "\n",
        "    # http link\n",
        "    elif word.startswith('http'):\n",
        "      word = \"http\"\n",
        "\n",
        "    elif word == '':\n",
        "      continue\n",
        "\n",
        "    tweet_words.append(word)\n",
        "\n",
        "\n",
        "  tweet_proc = \" \".join(tweet_words)\n",
        "  return tweet_proc\n"
      ],
      "metadata": {
        "id": "7dWCHf6CrFur"
      },
      "execution_count": 15,
      "outputs": []
    },
    {
      "cell_type": "code",
      "source": [
        "def get_tweet_sentiment(tweet_proc):\n",
        "  # sentiment analysis\n",
        "  encoded_tweet = tokenizer(tweet_proc, return_tensors='pt')\n",
        "  # output = model(encoded_tweet['input_ids'], encoded_tweet['attention_mask'])\n",
        "  output = model(**encoded_tweet)\n",
        "\n",
        "  scores = output[0][0].detach().numpy()\n",
        "  scores = softmax(scores)\n",
        "\n",
        "  maxposition = 0\n",
        "  maxscore = 0\n",
        "\n",
        "  for i in range(len(scores)):\n",
        "    if maxscore <= scores[i]:\n",
        "      maxposition = i\n",
        "      maxscore = scores[i]\n",
        "\n",
        "  return labels[maxposition]  , scores[maxposition], maxposition, scores[0],scores[1],scores[2]\n",
        "\n",
        "\n"
      ],
      "metadata": {
        "id": "kofDI5AUtuy7"
      },
      "execution_count": 16,
      "outputs": []
    },
    {
      "cell_type": "code",
      "source": [
        "# Evaluate Tweet and and to database.\n",
        "import time\n",
        "\n",
        "#out_data = []\n",
        "loop_count = -1\n",
        "tweet_proc = \"\"\n",
        "\n",
        "# Need to create a tweet loop\n",
        "\n",
        "for x in data:\n",
        "  loop_count+=1\n",
        "  #print(loop_count)\n",
        "  try:\n",
        "\n",
        "    tweet_proc = preprocesses_tweet(x['text'])\n",
        "    sentiment_label, sentiment_score, Sentiment, scores0,scores1,scores2 = get_tweet_sentiment(tweet_proc)\n",
        "    stock_symble_o = x['searchQuery']\n",
        "    stock_symble = Stock_Symble(x['searchQuery'])\n",
        "#    if stock_symble == 'ERROR':\n",
        "#      stock_error = '!!!!!TRUE!!!!!'\n",
        "#      time.sleep(10)\n",
        "    insert_command = f\"INSERT INTO Tweets (Timestamp, Channel, Stock, Neg_score, Neu_score, Pos_score, sentiment,Tweet_clean) VALUES ('{x['timestamp']}','{x['user']['username']}', '{stock_symble}','{scores0}','{scores1}','{scores2}','{Sentiment}','{tweet_proc}')\"\n",
        "    cursor.execute(insert_command)\n",
        "\n",
        "  except Exception as e:\n",
        "    print(f\"---------------------------------------\")\n",
        "    print(f\"exception on {str(loop_count)}\")\n",
        "    print(f\"Error {e}\")\n",
        "    continue\n",
        "\n",
        "\n",
        "\n",
        "# Commit the changes to database on drive.\n",
        "conn.commit()\n",
        "\n",
        "\n"
      ],
      "metadata": {
        "id": "aWoAqEnpm-r0"
      },
      "execution_count": 17,
      "outputs": []
    },
    {
      "cell_type": "code",
      "source": [
        "#cursor.execute(\"DELETE FROM Tweets\")"
      ],
      "metadata": {
        "id": "KqwJVMF_gqXe",
        "outputId": "077420d8-745d-44f2-e85f-5fb6725560f9",
        "colab": {
          "base_uri": "https://localhost:8080/"
        }
      },
      "execution_count": null,
      "outputs": [
        {
          "output_type": "execute_result",
          "data": {
            "text/plain": [
              "<sqlite3.Cursor at 0x7d65614f42c0>"
            ]
          },
          "metadata": {},
          "execution_count": 174
        }
      ]
    },
    {
      "cell_type": "code",
      "source": [
        "dbexec(\"Select Stock , count(1) from Tweets group by Stock \")\n",
        "#dbexec(\"Select count(1) from Tweets where Stock = 'ERROR' \")\n",
        "#dbexec(\"Select  * from Tweets where Stock = 'ERROR' \")\n",
        "#dbexec(\"Select   Timestamp, Channel, Stock, Neg_score, Neu_score, Pos_score, Sentiment, Tweet_orginal, Tweet_clean  from Tweets where sentiment = 0\")\n"
      ],
      "metadata": {
        "id": "GWGRS3J6zull",
        "outputId": "fc37ecb1-f834-4ad3-8dc1-292936248ca9",
        "colab": {
          "base_uri": "https://localhost:8080/"
        }
      },
      "execution_count": null,
      "outputs": [
        {
          "output_type": "stream",
          "name": "stdout",
          "text": [
            "('AAPL', 52)\n",
            "('AMZN', 39)\n",
            "('GOOG', 8)\n",
            "('META', 39)\n",
            "('MSFT', 36)\n",
            "('NVDA', 55)\n",
            "('TSLA', 63)\n"
          ]
        }
      ]
    },
    {
      "cell_type": "code",
      "source": [
        "'''\n",
        "csv_file_name = infile[:-5] + \"_out.csv\"\n",
        "\n",
        "# Open the CSV file in write mode\n",
        "with open(csv_file_name, mode='w', newline='') as csv_file:\n",
        "    # Create a CSV writer\n",
        "    csv_writer = csv.writer(csv_file)\n",
        "\n",
        "    # Write the header row based on the keys in the JSON data\n",
        "    header = out_data[0].keys()\n",
        "    csv_writer.writerow(header)\n",
        "\n",
        "    # Write each row of data from the JSON object\n",
        "    for row in out_data:\n",
        "        csv_writer.writerow(row.values())\n",
        "\n",
        "'''"
      ],
      "metadata": {
        "id": "lohpJGAryXdK"
      },
      "execution_count": null,
      "outputs": []
    },
    {
      "cell_type": "markdown",
      "source": [
        "# Aquiring Stock Prices"
      ],
      "metadata": {
        "id": "hYhakd00FjVi"
      }
    },
    {
      "cell_type": "code",
      "source": [
        "from pickle import FALSE\n",
        "# Load the CSV file we downloaded.  It contains the Stock Prices for the past few months.\n",
        "import csv\n",
        "\n",
        "# Specify the CSV file name\n",
        "csv_file_name = \"StockPrices.csv\"\n",
        "\n",
        "# Initialize an empty list to store the data\n",
        "data = []\n",
        "\n",
        "# Open the CSV file in read mode\n",
        "with open(csv_file_name, mode='r', newline='') as csv_file:\n",
        "    # Create a CSV reader\n",
        "    csv_reader = csv.reader(csv_file)\n",
        "\n",
        "    # Read the header row\n",
        "    header = next(csv_reader)\n",
        "\n",
        "    header_row = True\n",
        "\n",
        "\n",
        "    # Read the data rows\n",
        "    for row in csv_reader:\n",
        "        #data.append(row)\n",
        "\n",
        "        if header_row == True:\n",
        "          header_row = False\n",
        "          continue\n",
        "        insert_command = f'''INSERT INTO Stocks\n",
        "                        ( Date,\n",
        "                          AAPL_C,\tAMZN_C,\tGOOG_C,\tMETA_C,\tMSFT_C,\tNVDA_C,\tTSLA_C,\n",
        "                          AAPL_H,\tAMZN_H,\tGOOG_H,\tMETA_H,\tMSFT_H,\tNVDA_H,\tTSLA_H,\n",
        "                          AAPL_L,\tAMZN_L,\tGOOG_L,\tMETA_L,\tMSFT_L,\tNVDA_L,\tTSLA_L,\n",
        "                          AAPL_O,\tAMZN_O,\tGOOG_O,\tMETA_O,\tMSFT_O,\tNVDA_O,\tTSLA_O,\n",
        "                          AAPL_V,\tAMZN_V,\tGOOG_V,\tMETA_V,\tMSFT_V,\tNVDA_V,\tTSLA_V\n",
        "                        )\n",
        "                      VALUES\n",
        "                        (\n",
        "                          '{row[0]}',\n",
        "                          '{row[1]}',\t'{row[2]}',\t  '{row[3]}',\t  '{row[4]}',\t  '{row[5]}',\t  '{row[6]}',   '{row[7]}',\n",
        "                          '{row[15]}',\t'{row[16]}',\t'{row[17]}',\t'{row[18]}',\t'{row[19]}',\t'{row[20]}',\t'{row[21]}',\n",
        "                          '{row[22]}',\t'{row[23]}',\t'{row[24]}',\t'{row[25]}',\t'{row[26]}',\t'{row[27]}',\t'{row[28]}',\n",
        "                          '{row[29]}',\t'{row[30]}',\t'{row[31]}',\t'{row[32]}',\t'{row[33]}',\t'{row[34]}',\t'{row[35]}',\n",
        "                          '{row[43]}',\t'{row[44]}',\t'{row[45]}',\t'{row[46]}',\t'{row[47]}',\t'{row[48]}',\t'{row[49]}'\n",
        "                        )'''\n",
        "        cursor.execute(insert_command)\n",
        "\n",
        "\n",
        "# Display the loaded data\n",
        "#for row in data:\n",
        "#    print(row)\n",
        "\n",
        "\n",
        "dbexec(\"Select count(1) from Stocks\")\n"
      ],
      "metadata": {
        "colab": {
          "base_uri": "https://localhost:8080/"
        },
        "id": "kgINSPpyWCQ3",
        "outputId": "d5376c80-38f3-45b9-c1f3-0a828194fdd9"
      },
      "execution_count": 28,
      "outputs": [
        {
          "output_type": "stream",
          "name": "stdout",
          "text": [
            "(128,)\n"
          ]
        }
      ]
    },
    {
      "cell_type": "code",
      "source": [
        "#dbexec(\"DELETE FROM Stocks \")"
      ],
      "metadata": {
        "id": "xYqkBwj1lm40"
      },
      "execution_count": 25,
      "outputs": []
    },
    {
      "cell_type": "code",
      "source": [
        "#dbexec(\"Select * from Stocks \")"
      ],
      "metadata": {
        "id": "P-M7oDhhkprh"
      },
      "execution_count": null,
      "outputs": []
    },
    {
      "cell_type": "code",
      "source": [],
      "metadata": {
        "id": "mXreW_MBWBKV"
      },
      "execution_count": null,
      "outputs": []
    },
    {
      "cell_type": "markdown",
      "source": [
        "# Joining Stock Prices with respect to Tweets"
      ],
      "metadata": {
        "id": "xqKMuf0yFsqW"
      }
    },
    {
      "cell_type": "markdown",
      "source": [
        "# Analytics"
      ],
      "metadata": {
        "id": "zj2urhqMF0zs"
      }
    },
    {
      "cell_type": "markdown",
      "source": [
        "# Conclution"
      ],
      "metadata": {
        "id": "9MeTB8d-F9xi"
      }
    }
  ]
}