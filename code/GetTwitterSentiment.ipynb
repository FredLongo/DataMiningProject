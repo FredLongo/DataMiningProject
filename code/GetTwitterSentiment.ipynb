{
  "nbformat": 4,
  "nbformat_minor": 0,
  "metadata": {
    "colab": {
      "provenance": [],
      "authorship_tag": "ABX9TyOGl8zvrs1itz97ShNNMW1K",
      "include_colab_link": true
    },
    "kernelspec": {
      "name": "python3",
      "display_name": "Python 3"
    },
    "language_info": {
      "name": "python"
    },
    "widgets": {
      "application/vnd.jupyter.widget-state+json": {
        "36528f86894748e1a181211b6f8d0794": {
          "model_module": "@jupyter-widgets/controls",
          "model_name": "HBoxModel",
          "model_module_version": "1.5.0",
          "state": {
            "_dom_classes": [],
            "_model_module": "@jupyter-widgets/controls",
            "_model_module_version": "1.5.0",
            "_model_name": "HBoxModel",
            "_view_count": null,
            "_view_module": "@jupyter-widgets/controls",
            "_view_module_version": "1.5.0",
            "_view_name": "HBoxView",
            "box_style": "",
            "children": [
              "IPY_MODEL_edf76d354977442fb52e6634aee30686",
              "IPY_MODEL_2281106d1c1f4d64bc0fb22333f70160",
              "IPY_MODEL_af4fb25a9c8f43f891ccee40662f46c0"
            ],
            "layout": "IPY_MODEL_691f25fa610a431ebfa747a873897bdf"
          }
        },
        "edf76d354977442fb52e6634aee30686": {
          "model_module": "@jupyter-widgets/controls",
          "model_name": "HTMLModel",
          "model_module_version": "1.5.0",
          "state": {
            "_dom_classes": [],
            "_model_module": "@jupyter-widgets/controls",
            "_model_module_version": "1.5.0",
            "_model_name": "HTMLModel",
            "_view_count": null,
            "_view_module": "@jupyter-widgets/controls",
            "_view_module_version": "1.5.0",
            "_view_name": "HTMLView",
            "description": "",
            "description_tooltip": null,
            "layout": "IPY_MODEL_46263a9081ff42179ab72b12416da852",
            "placeholder": "​",
            "style": "IPY_MODEL_5ece1f750f7f4ea29f031ff0d65361fc",
            "value": "config.json: 100%"
          }
        },
        "2281106d1c1f4d64bc0fb22333f70160": {
          "model_module": "@jupyter-widgets/controls",
          "model_name": "FloatProgressModel",
          "model_module_version": "1.5.0",
          "state": {
            "_dom_classes": [],
            "_model_module": "@jupyter-widgets/controls",
            "_model_module_version": "1.5.0",
            "_model_name": "FloatProgressModel",
            "_view_count": null,
            "_view_module": "@jupyter-widgets/controls",
            "_view_module_version": "1.5.0",
            "_view_name": "ProgressView",
            "bar_style": "success",
            "description": "",
            "description_tooltip": null,
            "layout": "IPY_MODEL_648a4d0456fa442f8ca38a913babadf0",
            "max": 747,
            "min": 0,
            "orientation": "horizontal",
            "style": "IPY_MODEL_13ebf931dca74b98a73b871086768e94",
            "value": 747
          }
        },
        "af4fb25a9c8f43f891ccee40662f46c0": {
          "model_module": "@jupyter-widgets/controls",
          "model_name": "HTMLModel",
          "model_module_version": "1.5.0",
          "state": {
            "_dom_classes": [],
            "_model_module": "@jupyter-widgets/controls",
            "_model_module_version": "1.5.0",
            "_model_name": "HTMLModel",
            "_view_count": null,
            "_view_module": "@jupyter-widgets/controls",
            "_view_module_version": "1.5.0",
            "_view_name": "HTMLView",
            "description": "",
            "description_tooltip": null,
            "layout": "IPY_MODEL_b5634405b7924435834eafa0809c8ca3",
            "placeholder": "​",
            "style": "IPY_MODEL_aba4f220be4540f381b4b3e331b2b6ac",
            "value": " 747/747 [00:00&lt;00:00, 35.7kB/s]"
          }
        },
        "691f25fa610a431ebfa747a873897bdf": {
          "model_module": "@jupyter-widgets/base",
          "model_name": "LayoutModel",
          "model_module_version": "1.2.0",
          "state": {
            "_model_module": "@jupyter-widgets/base",
            "_model_module_version": "1.2.0",
            "_model_name": "LayoutModel",
            "_view_count": null,
            "_view_module": "@jupyter-widgets/base",
            "_view_module_version": "1.2.0",
            "_view_name": "LayoutView",
            "align_content": null,
            "align_items": null,
            "align_self": null,
            "border": null,
            "bottom": null,
            "display": null,
            "flex": null,
            "flex_flow": null,
            "grid_area": null,
            "grid_auto_columns": null,
            "grid_auto_flow": null,
            "grid_auto_rows": null,
            "grid_column": null,
            "grid_gap": null,
            "grid_row": null,
            "grid_template_areas": null,
            "grid_template_columns": null,
            "grid_template_rows": null,
            "height": null,
            "justify_content": null,
            "justify_items": null,
            "left": null,
            "margin": null,
            "max_height": null,
            "max_width": null,
            "min_height": null,
            "min_width": null,
            "object_fit": null,
            "object_position": null,
            "order": null,
            "overflow": null,
            "overflow_x": null,
            "overflow_y": null,
            "padding": null,
            "right": null,
            "top": null,
            "visibility": null,
            "width": null
          }
        },
        "46263a9081ff42179ab72b12416da852": {
          "model_module": "@jupyter-widgets/base",
          "model_name": "LayoutModel",
          "model_module_version": "1.2.0",
          "state": {
            "_model_module": "@jupyter-widgets/base",
            "_model_module_version": "1.2.0",
            "_model_name": "LayoutModel",
            "_view_count": null,
            "_view_module": "@jupyter-widgets/base",
            "_view_module_version": "1.2.0",
            "_view_name": "LayoutView",
            "align_content": null,
            "align_items": null,
            "align_self": null,
            "border": null,
            "bottom": null,
            "display": null,
            "flex": null,
            "flex_flow": null,
            "grid_area": null,
            "grid_auto_columns": null,
            "grid_auto_flow": null,
            "grid_auto_rows": null,
            "grid_column": null,
            "grid_gap": null,
            "grid_row": null,
            "grid_template_areas": null,
            "grid_template_columns": null,
            "grid_template_rows": null,
            "height": null,
            "justify_content": null,
            "justify_items": null,
            "left": null,
            "margin": null,
            "max_height": null,
            "max_width": null,
            "min_height": null,
            "min_width": null,
            "object_fit": null,
            "object_position": null,
            "order": null,
            "overflow": null,
            "overflow_x": null,
            "overflow_y": null,
            "padding": null,
            "right": null,
            "top": null,
            "visibility": null,
            "width": null
          }
        },
        "5ece1f750f7f4ea29f031ff0d65361fc": {
          "model_module": "@jupyter-widgets/controls",
          "model_name": "DescriptionStyleModel",
          "model_module_version": "1.5.0",
          "state": {
            "_model_module": "@jupyter-widgets/controls",
            "_model_module_version": "1.5.0",
            "_model_name": "DescriptionStyleModel",
            "_view_count": null,
            "_view_module": "@jupyter-widgets/base",
            "_view_module_version": "1.2.0",
            "_view_name": "StyleView",
            "description_width": ""
          }
        },
        "648a4d0456fa442f8ca38a913babadf0": {
          "model_module": "@jupyter-widgets/base",
          "model_name": "LayoutModel",
          "model_module_version": "1.2.0",
          "state": {
            "_model_module": "@jupyter-widgets/base",
            "_model_module_version": "1.2.0",
            "_model_name": "LayoutModel",
            "_view_count": null,
            "_view_module": "@jupyter-widgets/base",
            "_view_module_version": "1.2.0",
            "_view_name": "LayoutView",
            "align_content": null,
            "align_items": null,
            "align_self": null,
            "border": null,
            "bottom": null,
            "display": null,
            "flex": null,
            "flex_flow": null,
            "grid_area": null,
            "grid_auto_columns": null,
            "grid_auto_flow": null,
            "grid_auto_rows": null,
            "grid_column": null,
            "grid_gap": null,
            "grid_row": null,
            "grid_template_areas": null,
            "grid_template_columns": null,
            "grid_template_rows": null,
            "height": null,
            "justify_content": null,
            "justify_items": null,
            "left": null,
            "margin": null,
            "max_height": null,
            "max_width": null,
            "min_height": null,
            "min_width": null,
            "object_fit": null,
            "object_position": null,
            "order": null,
            "overflow": null,
            "overflow_x": null,
            "overflow_y": null,
            "padding": null,
            "right": null,
            "top": null,
            "visibility": null,
            "width": null
          }
        },
        "13ebf931dca74b98a73b871086768e94": {
          "model_module": "@jupyter-widgets/controls",
          "model_name": "ProgressStyleModel",
          "model_module_version": "1.5.0",
          "state": {
            "_model_module": "@jupyter-widgets/controls",
            "_model_module_version": "1.5.0",
            "_model_name": "ProgressStyleModel",
            "_view_count": null,
            "_view_module": "@jupyter-widgets/base",
            "_view_module_version": "1.2.0",
            "_view_name": "StyleView",
            "bar_color": null,
            "description_width": ""
          }
        },
        "b5634405b7924435834eafa0809c8ca3": {
          "model_module": "@jupyter-widgets/base",
          "model_name": "LayoutModel",
          "model_module_version": "1.2.0",
          "state": {
            "_model_module": "@jupyter-widgets/base",
            "_model_module_version": "1.2.0",
            "_model_name": "LayoutModel",
            "_view_count": null,
            "_view_module": "@jupyter-widgets/base",
            "_view_module_version": "1.2.0",
            "_view_name": "LayoutView",
            "align_content": null,
            "align_items": null,
            "align_self": null,
            "border": null,
            "bottom": null,
            "display": null,
            "flex": null,
            "flex_flow": null,
            "grid_area": null,
            "grid_auto_columns": null,
            "grid_auto_flow": null,
            "grid_auto_rows": null,
            "grid_column": null,
            "grid_gap": null,
            "grid_row": null,
            "grid_template_areas": null,
            "grid_template_columns": null,
            "grid_template_rows": null,
            "height": null,
            "justify_content": null,
            "justify_items": null,
            "left": null,
            "margin": null,
            "max_height": null,
            "max_width": null,
            "min_height": null,
            "min_width": null,
            "object_fit": null,
            "object_position": null,
            "order": null,
            "overflow": null,
            "overflow_x": null,
            "overflow_y": null,
            "padding": null,
            "right": null,
            "top": null,
            "visibility": null,
            "width": null
          }
        },
        "aba4f220be4540f381b4b3e331b2b6ac": {
          "model_module": "@jupyter-widgets/controls",
          "model_name": "DescriptionStyleModel",
          "model_module_version": "1.5.0",
          "state": {
            "_model_module": "@jupyter-widgets/controls",
            "_model_module_version": "1.5.0",
            "_model_name": "DescriptionStyleModel",
            "_view_count": null,
            "_view_module": "@jupyter-widgets/base",
            "_view_module_version": "1.2.0",
            "_view_name": "StyleView",
            "description_width": ""
          }
        },
        "43ec10245b98492d86680f5fb45991b6": {
          "model_module": "@jupyter-widgets/controls",
          "model_name": "HBoxModel",
          "model_module_version": "1.5.0",
          "state": {
            "_dom_classes": [],
            "_model_module": "@jupyter-widgets/controls",
            "_model_module_version": "1.5.0",
            "_model_name": "HBoxModel",
            "_view_count": null,
            "_view_module": "@jupyter-widgets/controls",
            "_view_module_version": "1.5.0",
            "_view_name": "HBoxView",
            "box_style": "",
            "children": [
              "IPY_MODEL_262482b0a04549cea65e3ed9c7821479",
              "IPY_MODEL_b7c7ca5a4e194676adcfccf435a8d808",
              "IPY_MODEL_acd76acab3c349febd8afa0e95a5eff3"
            ],
            "layout": "IPY_MODEL_aeac1b004555475c94149b3a76f26813"
          }
        },
        "262482b0a04549cea65e3ed9c7821479": {
          "model_module": "@jupyter-widgets/controls",
          "model_name": "HTMLModel",
          "model_module_version": "1.5.0",
          "state": {
            "_dom_classes": [],
            "_model_module": "@jupyter-widgets/controls",
            "_model_module_version": "1.5.0",
            "_model_name": "HTMLModel",
            "_view_count": null,
            "_view_module": "@jupyter-widgets/controls",
            "_view_module_version": "1.5.0",
            "_view_name": "HTMLView",
            "description": "",
            "description_tooltip": null,
            "layout": "IPY_MODEL_9a4dd5bc955848bc909cee274a7f05e9",
            "placeholder": "​",
            "style": "IPY_MODEL_72b63310575b4897b258e567dedfb210",
            "value": "pytorch_model.bin: 100%"
          }
        },
        "b7c7ca5a4e194676adcfccf435a8d808": {
          "model_module": "@jupyter-widgets/controls",
          "model_name": "FloatProgressModel",
          "model_module_version": "1.5.0",
          "state": {
            "_dom_classes": [],
            "_model_module": "@jupyter-widgets/controls",
            "_model_module_version": "1.5.0",
            "_model_name": "FloatProgressModel",
            "_view_count": null,
            "_view_module": "@jupyter-widgets/controls",
            "_view_module_version": "1.5.0",
            "_view_name": "ProgressView",
            "bar_style": "success",
            "description": "",
            "description_tooltip": null,
            "layout": "IPY_MODEL_6a53ea114b57491e8e132dec6ea043de",
            "max": 498679497,
            "min": 0,
            "orientation": "horizontal",
            "style": "IPY_MODEL_f0d92c7475c84cd7a814710b2c80423a",
            "value": 498679497
          }
        },
        "acd76acab3c349febd8afa0e95a5eff3": {
          "model_module": "@jupyter-widgets/controls",
          "model_name": "HTMLModel",
          "model_module_version": "1.5.0",
          "state": {
            "_dom_classes": [],
            "_model_module": "@jupyter-widgets/controls",
            "_model_module_version": "1.5.0",
            "_model_name": "HTMLModel",
            "_view_count": null,
            "_view_module": "@jupyter-widgets/controls",
            "_view_module_version": "1.5.0",
            "_view_name": "HTMLView",
            "description": "",
            "description_tooltip": null,
            "layout": "IPY_MODEL_d03abdd0ee3b4074959b371540044130",
            "placeholder": "​",
            "style": "IPY_MODEL_37c0269578f646589ff910199832d874",
            "value": " 499M/499M [00:04&lt;00:00, 130MB/s]"
          }
        },
        "aeac1b004555475c94149b3a76f26813": {
          "model_module": "@jupyter-widgets/base",
          "model_name": "LayoutModel",
          "model_module_version": "1.2.0",
          "state": {
            "_model_module": "@jupyter-widgets/base",
            "_model_module_version": "1.2.0",
            "_model_name": "LayoutModel",
            "_view_count": null,
            "_view_module": "@jupyter-widgets/base",
            "_view_module_version": "1.2.0",
            "_view_name": "LayoutView",
            "align_content": null,
            "align_items": null,
            "align_self": null,
            "border": null,
            "bottom": null,
            "display": null,
            "flex": null,
            "flex_flow": null,
            "grid_area": null,
            "grid_auto_columns": null,
            "grid_auto_flow": null,
            "grid_auto_rows": null,
            "grid_column": null,
            "grid_gap": null,
            "grid_row": null,
            "grid_template_areas": null,
            "grid_template_columns": null,
            "grid_template_rows": null,
            "height": null,
            "justify_content": null,
            "justify_items": null,
            "left": null,
            "margin": null,
            "max_height": null,
            "max_width": null,
            "min_height": null,
            "min_width": null,
            "object_fit": null,
            "object_position": null,
            "order": null,
            "overflow": null,
            "overflow_x": null,
            "overflow_y": null,
            "padding": null,
            "right": null,
            "top": null,
            "visibility": null,
            "width": null
          }
        },
        "9a4dd5bc955848bc909cee274a7f05e9": {
          "model_module": "@jupyter-widgets/base",
          "model_name": "LayoutModel",
          "model_module_version": "1.2.0",
          "state": {
            "_model_module": "@jupyter-widgets/base",
            "_model_module_version": "1.2.0",
            "_model_name": "LayoutModel",
            "_view_count": null,
            "_view_module": "@jupyter-widgets/base",
            "_view_module_version": "1.2.0",
            "_view_name": "LayoutView",
            "align_content": null,
            "align_items": null,
            "align_self": null,
            "border": null,
            "bottom": null,
            "display": null,
            "flex": null,
            "flex_flow": null,
            "grid_area": null,
            "grid_auto_columns": null,
            "grid_auto_flow": null,
            "grid_auto_rows": null,
            "grid_column": null,
            "grid_gap": null,
            "grid_row": null,
            "grid_template_areas": null,
            "grid_template_columns": null,
            "grid_template_rows": null,
            "height": null,
            "justify_content": null,
            "justify_items": null,
            "left": null,
            "margin": null,
            "max_height": null,
            "max_width": null,
            "min_height": null,
            "min_width": null,
            "object_fit": null,
            "object_position": null,
            "order": null,
            "overflow": null,
            "overflow_x": null,
            "overflow_y": null,
            "padding": null,
            "right": null,
            "top": null,
            "visibility": null,
            "width": null
          }
        },
        "72b63310575b4897b258e567dedfb210": {
          "model_module": "@jupyter-widgets/controls",
          "model_name": "DescriptionStyleModel",
          "model_module_version": "1.5.0",
          "state": {
            "_model_module": "@jupyter-widgets/controls",
            "_model_module_version": "1.5.0",
            "_model_name": "DescriptionStyleModel",
            "_view_count": null,
            "_view_module": "@jupyter-widgets/base",
            "_view_module_version": "1.2.0",
            "_view_name": "StyleView",
            "description_width": ""
          }
        },
        "6a53ea114b57491e8e132dec6ea043de": {
          "model_module": "@jupyter-widgets/base",
          "model_name": "LayoutModel",
          "model_module_version": "1.2.0",
          "state": {
            "_model_module": "@jupyter-widgets/base",
            "_model_module_version": "1.2.0",
            "_model_name": "LayoutModel",
            "_view_count": null,
            "_view_module": "@jupyter-widgets/base",
            "_view_module_version": "1.2.0",
            "_view_name": "LayoutView",
            "align_content": null,
            "align_items": null,
            "align_self": null,
            "border": null,
            "bottom": null,
            "display": null,
            "flex": null,
            "flex_flow": null,
            "grid_area": null,
            "grid_auto_columns": null,
            "grid_auto_flow": null,
            "grid_auto_rows": null,
            "grid_column": null,
            "grid_gap": null,
            "grid_row": null,
            "grid_template_areas": null,
            "grid_template_columns": null,
            "grid_template_rows": null,
            "height": null,
            "justify_content": null,
            "justify_items": null,
            "left": null,
            "margin": null,
            "max_height": null,
            "max_width": null,
            "min_height": null,
            "min_width": null,
            "object_fit": null,
            "object_position": null,
            "order": null,
            "overflow": null,
            "overflow_x": null,
            "overflow_y": null,
            "padding": null,
            "right": null,
            "top": null,
            "visibility": null,
            "width": null
          }
        },
        "f0d92c7475c84cd7a814710b2c80423a": {
          "model_module": "@jupyter-widgets/controls",
          "model_name": "ProgressStyleModel",
          "model_module_version": "1.5.0",
          "state": {
            "_model_module": "@jupyter-widgets/controls",
            "_model_module_version": "1.5.0",
            "_model_name": "ProgressStyleModel",
            "_view_count": null,
            "_view_module": "@jupyter-widgets/base",
            "_view_module_version": "1.2.0",
            "_view_name": "StyleView",
            "bar_color": null,
            "description_width": ""
          }
        },
        "d03abdd0ee3b4074959b371540044130": {
          "model_module": "@jupyter-widgets/base",
          "model_name": "LayoutModel",
          "model_module_version": "1.2.0",
          "state": {
            "_model_module": "@jupyter-widgets/base",
            "_model_module_version": "1.2.0",
            "_model_name": "LayoutModel",
            "_view_count": null,
            "_view_module": "@jupyter-widgets/base",
            "_view_module_version": "1.2.0",
            "_view_name": "LayoutView",
            "align_content": null,
            "align_items": null,
            "align_self": null,
            "border": null,
            "bottom": null,
            "display": null,
            "flex": null,
            "flex_flow": null,
            "grid_area": null,
            "grid_auto_columns": null,
            "grid_auto_flow": null,
            "grid_auto_rows": null,
            "grid_column": null,
            "grid_gap": null,
            "grid_row": null,
            "grid_template_areas": null,
            "grid_template_columns": null,
            "grid_template_rows": null,
            "height": null,
            "justify_content": null,
            "justify_items": null,
            "left": null,
            "margin": null,
            "max_height": null,
            "max_width": null,
            "min_height": null,
            "min_width": null,
            "object_fit": null,
            "object_position": null,
            "order": null,
            "overflow": null,
            "overflow_x": null,
            "overflow_y": null,
            "padding": null,
            "right": null,
            "top": null,
            "visibility": null,
            "width": null
          }
        },
        "37c0269578f646589ff910199832d874": {
          "model_module": "@jupyter-widgets/controls",
          "model_name": "DescriptionStyleModel",
          "model_module_version": "1.5.0",
          "state": {
            "_model_module": "@jupyter-widgets/controls",
            "_model_module_version": "1.5.0",
            "_model_name": "DescriptionStyleModel",
            "_view_count": null,
            "_view_module": "@jupyter-widgets/base",
            "_view_module_version": "1.2.0",
            "_view_name": "StyleView",
            "description_width": ""
          }
        },
        "0052ba464a054e3c8e3d775d1ce41fc0": {
          "model_module": "@jupyter-widgets/controls",
          "model_name": "HBoxModel",
          "model_module_version": "1.5.0",
          "state": {
            "_dom_classes": [],
            "_model_module": "@jupyter-widgets/controls",
            "_model_module_version": "1.5.0",
            "_model_name": "HBoxModel",
            "_view_count": null,
            "_view_module": "@jupyter-widgets/controls",
            "_view_module_version": "1.5.0",
            "_view_name": "HBoxView",
            "box_style": "",
            "children": [
              "IPY_MODEL_96791c58d3084ac2bf53fe4c6c733378",
              "IPY_MODEL_37604cffbfd34af1b29f1b0579fa3630",
              "IPY_MODEL_ba389ecedd134f56893a815a12a7d1a3"
            ],
            "layout": "IPY_MODEL_7b1f03ca04ac43efb4181a9dfd669769"
          }
        },
        "96791c58d3084ac2bf53fe4c6c733378": {
          "model_module": "@jupyter-widgets/controls",
          "model_name": "HTMLModel",
          "model_module_version": "1.5.0",
          "state": {
            "_dom_classes": [],
            "_model_module": "@jupyter-widgets/controls",
            "_model_module_version": "1.5.0",
            "_model_name": "HTMLModel",
            "_view_count": null,
            "_view_module": "@jupyter-widgets/controls",
            "_view_module_version": "1.5.0",
            "_view_name": "HTMLView",
            "description": "",
            "description_tooltip": null,
            "layout": "IPY_MODEL_76f23767a0fb45b4bb4703c0f1145015",
            "placeholder": "​",
            "style": "IPY_MODEL_0ebfc0f3b5b443408bccf21cdac9a250",
            "value": "vocab.json: 100%"
          }
        },
        "37604cffbfd34af1b29f1b0579fa3630": {
          "model_module": "@jupyter-widgets/controls",
          "model_name": "FloatProgressModel",
          "model_module_version": "1.5.0",
          "state": {
            "_dom_classes": [],
            "_model_module": "@jupyter-widgets/controls",
            "_model_module_version": "1.5.0",
            "_model_name": "FloatProgressModel",
            "_view_count": null,
            "_view_module": "@jupyter-widgets/controls",
            "_view_module_version": "1.5.0",
            "_view_name": "ProgressView",
            "bar_style": "success",
            "description": "",
            "description_tooltip": null,
            "layout": "IPY_MODEL_ef3c6db6e15c47ff81cd53073d7817a3",
            "max": 898822,
            "min": 0,
            "orientation": "horizontal",
            "style": "IPY_MODEL_544e1fde69a94c09885a7056a6433eaa",
            "value": 898822
          }
        },
        "ba389ecedd134f56893a815a12a7d1a3": {
          "model_module": "@jupyter-widgets/controls",
          "model_name": "HTMLModel",
          "model_module_version": "1.5.0",
          "state": {
            "_dom_classes": [],
            "_model_module": "@jupyter-widgets/controls",
            "_model_module_version": "1.5.0",
            "_model_name": "HTMLModel",
            "_view_count": null,
            "_view_module": "@jupyter-widgets/controls",
            "_view_module_version": "1.5.0",
            "_view_name": "HTMLView",
            "description": "",
            "description_tooltip": null,
            "layout": "IPY_MODEL_133fc403a7214e75b46f13a8e999ebf1",
            "placeholder": "​",
            "style": "IPY_MODEL_a86f04dc419d42af8cab90d3530b6b41",
            "value": " 899k/899k [00:00&lt;00:00, 6.35MB/s]"
          }
        },
        "7b1f03ca04ac43efb4181a9dfd669769": {
          "model_module": "@jupyter-widgets/base",
          "model_name": "LayoutModel",
          "model_module_version": "1.2.0",
          "state": {
            "_model_module": "@jupyter-widgets/base",
            "_model_module_version": "1.2.0",
            "_model_name": "LayoutModel",
            "_view_count": null,
            "_view_module": "@jupyter-widgets/base",
            "_view_module_version": "1.2.0",
            "_view_name": "LayoutView",
            "align_content": null,
            "align_items": null,
            "align_self": null,
            "border": null,
            "bottom": null,
            "display": null,
            "flex": null,
            "flex_flow": null,
            "grid_area": null,
            "grid_auto_columns": null,
            "grid_auto_flow": null,
            "grid_auto_rows": null,
            "grid_column": null,
            "grid_gap": null,
            "grid_row": null,
            "grid_template_areas": null,
            "grid_template_columns": null,
            "grid_template_rows": null,
            "height": null,
            "justify_content": null,
            "justify_items": null,
            "left": null,
            "margin": null,
            "max_height": null,
            "max_width": null,
            "min_height": null,
            "min_width": null,
            "object_fit": null,
            "object_position": null,
            "order": null,
            "overflow": null,
            "overflow_x": null,
            "overflow_y": null,
            "padding": null,
            "right": null,
            "top": null,
            "visibility": null,
            "width": null
          }
        },
        "76f23767a0fb45b4bb4703c0f1145015": {
          "model_module": "@jupyter-widgets/base",
          "model_name": "LayoutModel",
          "model_module_version": "1.2.0",
          "state": {
            "_model_module": "@jupyter-widgets/base",
            "_model_module_version": "1.2.0",
            "_model_name": "LayoutModel",
            "_view_count": null,
            "_view_module": "@jupyter-widgets/base",
            "_view_module_version": "1.2.0",
            "_view_name": "LayoutView",
            "align_content": null,
            "align_items": null,
            "align_self": null,
            "border": null,
            "bottom": null,
            "display": null,
            "flex": null,
            "flex_flow": null,
            "grid_area": null,
            "grid_auto_columns": null,
            "grid_auto_flow": null,
            "grid_auto_rows": null,
            "grid_column": null,
            "grid_gap": null,
            "grid_row": null,
            "grid_template_areas": null,
            "grid_template_columns": null,
            "grid_template_rows": null,
            "height": null,
            "justify_content": null,
            "justify_items": null,
            "left": null,
            "margin": null,
            "max_height": null,
            "max_width": null,
            "min_height": null,
            "min_width": null,
            "object_fit": null,
            "object_position": null,
            "order": null,
            "overflow": null,
            "overflow_x": null,
            "overflow_y": null,
            "padding": null,
            "right": null,
            "top": null,
            "visibility": null,
            "width": null
          }
        },
        "0ebfc0f3b5b443408bccf21cdac9a250": {
          "model_module": "@jupyter-widgets/controls",
          "model_name": "DescriptionStyleModel",
          "model_module_version": "1.5.0",
          "state": {
            "_model_module": "@jupyter-widgets/controls",
            "_model_module_version": "1.5.0",
            "_model_name": "DescriptionStyleModel",
            "_view_count": null,
            "_view_module": "@jupyter-widgets/base",
            "_view_module_version": "1.2.0",
            "_view_name": "StyleView",
            "description_width": ""
          }
        },
        "ef3c6db6e15c47ff81cd53073d7817a3": {
          "model_module": "@jupyter-widgets/base",
          "model_name": "LayoutModel",
          "model_module_version": "1.2.0",
          "state": {
            "_model_module": "@jupyter-widgets/base",
            "_model_module_version": "1.2.0",
            "_model_name": "LayoutModel",
            "_view_count": null,
            "_view_module": "@jupyter-widgets/base",
            "_view_module_version": "1.2.0",
            "_view_name": "LayoutView",
            "align_content": null,
            "align_items": null,
            "align_self": null,
            "border": null,
            "bottom": null,
            "display": null,
            "flex": null,
            "flex_flow": null,
            "grid_area": null,
            "grid_auto_columns": null,
            "grid_auto_flow": null,
            "grid_auto_rows": null,
            "grid_column": null,
            "grid_gap": null,
            "grid_row": null,
            "grid_template_areas": null,
            "grid_template_columns": null,
            "grid_template_rows": null,
            "height": null,
            "justify_content": null,
            "justify_items": null,
            "left": null,
            "margin": null,
            "max_height": null,
            "max_width": null,
            "min_height": null,
            "min_width": null,
            "object_fit": null,
            "object_position": null,
            "order": null,
            "overflow": null,
            "overflow_x": null,
            "overflow_y": null,
            "padding": null,
            "right": null,
            "top": null,
            "visibility": null,
            "width": null
          }
        },
        "544e1fde69a94c09885a7056a6433eaa": {
          "model_module": "@jupyter-widgets/controls",
          "model_name": "ProgressStyleModel",
          "model_module_version": "1.5.0",
          "state": {
            "_model_module": "@jupyter-widgets/controls",
            "_model_module_version": "1.5.0",
            "_model_name": "ProgressStyleModel",
            "_view_count": null,
            "_view_module": "@jupyter-widgets/base",
            "_view_module_version": "1.2.0",
            "_view_name": "StyleView",
            "bar_color": null,
            "description_width": ""
          }
        },
        "133fc403a7214e75b46f13a8e999ebf1": {
          "model_module": "@jupyter-widgets/base",
          "model_name": "LayoutModel",
          "model_module_version": "1.2.0",
          "state": {
            "_model_module": "@jupyter-widgets/base",
            "_model_module_version": "1.2.0",
            "_model_name": "LayoutModel",
            "_view_count": null,
            "_view_module": "@jupyter-widgets/base",
            "_view_module_version": "1.2.0",
            "_view_name": "LayoutView",
            "align_content": null,
            "align_items": null,
            "align_self": null,
            "border": null,
            "bottom": null,
            "display": null,
            "flex": null,
            "flex_flow": null,
            "grid_area": null,
            "grid_auto_columns": null,
            "grid_auto_flow": null,
            "grid_auto_rows": null,
            "grid_column": null,
            "grid_gap": null,
            "grid_row": null,
            "grid_template_areas": null,
            "grid_template_columns": null,
            "grid_template_rows": null,
            "height": null,
            "justify_content": null,
            "justify_items": null,
            "left": null,
            "margin": null,
            "max_height": null,
            "max_width": null,
            "min_height": null,
            "min_width": null,
            "object_fit": null,
            "object_position": null,
            "order": null,
            "overflow": null,
            "overflow_x": null,
            "overflow_y": null,
            "padding": null,
            "right": null,
            "top": null,
            "visibility": null,
            "width": null
          }
        },
        "a86f04dc419d42af8cab90d3530b6b41": {
          "model_module": "@jupyter-widgets/controls",
          "model_name": "DescriptionStyleModel",
          "model_module_version": "1.5.0",
          "state": {
            "_model_module": "@jupyter-widgets/controls",
            "_model_module_version": "1.5.0",
            "_model_name": "DescriptionStyleModel",
            "_view_count": null,
            "_view_module": "@jupyter-widgets/base",
            "_view_module_version": "1.2.0",
            "_view_name": "StyleView",
            "description_width": ""
          }
        },
        "6f02429df68c439ca6fb82ba726886c0": {
          "model_module": "@jupyter-widgets/controls",
          "model_name": "HBoxModel",
          "model_module_version": "1.5.0",
          "state": {
            "_dom_classes": [],
            "_model_module": "@jupyter-widgets/controls",
            "_model_module_version": "1.5.0",
            "_model_name": "HBoxModel",
            "_view_count": null,
            "_view_module": "@jupyter-widgets/controls",
            "_view_module_version": "1.5.0",
            "_view_name": "HBoxView",
            "box_style": "",
            "children": [
              "IPY_MODEL_7a000372536b45f384142b9b908de54c",
              "IPY_MODEL_99995756987e441db5fe1b1b220b7b63",
              "IPY_MODEL_7890b11c13354b0db8dcada63bab049e"
            ],
            "layout": "IPY_MODEL_b4c08a9dc28e46469602f55f2f361339"
          }
        },
        "7a000372536b45f384142b9b908de54c": {
          "model_module": "@jupyter-widgets/controls",
          "model_name": "HTMLModel",
          "model_module_version": "1.5.0",
          "state": {
            "_dom_classes": [],
            "_model_module": "@jupyter-widgets/controls",
            "_model_module_version": "1.5.0",
            "_model_name": "HTMLModel",
            "_view_count": null,
            "_view_module": "@jupyter-widgets/controls",
            "_view_module_version": "1.5.0",
            "_view_name": "HTMLView",
            "description": "",
            "description_tooltip": null,
            "layout": "IPY_MODEL_565431d9ec1c4e3d9c451bcc3bbbbf5e",
            "placeholder": "​",
            "style": "IPY_MODEL_be47125088fd4bf7b6e1c0b71443c955",
            "value": "merges.txt: 100%"
          }
        },
        "99995756987e441db5fe1b1b220b7b63": {
          "model_module": "@jupyter-widgets/controls",
          "model_name": "FloatProgressModel",
          "model_module_version": "1.5.0",
          "state": {
            "_dom_classes": [],
            "_model_module": "@jupyter-widgets/controls",
            "_model_module_version": "1.5.0",
            "_model_name": "FloatProgressModel",
            "_view_count": null,
            "_view_module": "@jupyter-widgets/controls",
            "_view_module_version": "1.5.0",
            "_view_name": "ProgressView",
            "bar_style": "success",
            "description": "",
            "description_tooltip": null,
            "layout": "IPY_MODEL_8fa53c2cc3c44be089ec32a208a33b9c",
            "max": 456318,
            "min": 0,
            "orientation": "horizontal",
            "style": "IPY_MODEL_841ba6a5bd8e4a28a308ac30f0820ecd",
            "value": 456318
          }
        },
        "7890b11c13354b0db8dcada63bab049e": {
          "model_module": "@jupyter-widgets/controls",
          "model_name": "HTMLModel",
          "model_module_version": "1.5.0",
          "state": {
            "_dom_classes": [],
            "_model_module": "@jupyter-widgets/controls",
            "_model_module_version": "1.5.0",
            "_model_name": "HTMLModel",
            "_view_count": null,
            "_view_module": "@jupyter-widgets/controls",
            "_view_module_version": "1.5.0",
            "_view_name": "HTMLView",
            "description": "",
            "description_tooltip": null,
            "layout": "IPY_MODEL_7f83504c87c04bbf9fcf3dabc44d771a",
            "placeholder": "​",
            "style": "IPY_MODEL_c696bac280b84a208a2d08aa0205409b",
            "value": " 456k/456k [00:00&lt;00:00, 3.11MB/s]"
          }
        },
        "b4c08a9dc28e46469602f55f2f361339": {
          "model_module": "@jupyter-widgets/base",
          "model_name": "LayoutModel",
          "model_module_version": "1.2.0",
          "state": {
            "_model_module": "@jupyter-widgets/base",
            "_model_module_version": "1.2.0",
            "_model_name": "LayoutModel",
            "_view_count": null,
            "_view_module": "@jupyter-widgets/base",
            "_view_module_version": "1.2.0",
            "_view_name": "LayoutView",
            "align_content": null,
            "align_items": null,
            "align_self": null,
            "border": null,
            "bottom": null,
            "display": null,
            "flex": null,
            "flex_flow": null,
            "grid_area": null,
            "grid_auto_columns": null,
            "grid_auto_flow": null,
            "grid_auto_rows": null,
            "grid_column": null,
            "grid_gap": null,
            "grid_row": null,
            "grid_template_areas": null,
            "grid_template_columns": null,
            "grid_template_rows": null,
            "height": null,
            "justify_content": null,
            "justify_items": null,
            "left": null,
            "margin": null,
            "max_height": null,
            "max_width": null,
            "min_height": null,
            "min_width": null,
            "object_fit": null,
            "object_position": null,
            "order": null,
            "overflow": null,
            "overflow_x": null,
            "overflow_y": null,
            "padding": null,
            "right": null,
            "top": null,
            "visibility": null,
            "width": null
          }
        },
        "565431d9ec1c4e3d9c451bcc3bbbbf5e": {
          "model_module": "@jupyter-widgets/base",
          "model_name": "LayoutModel",
          "model_module_version": "1.2.0",
          "state": {
            "_model_module": "@jupyter-widgets/base",
            "_model_module_version": "1.2.0",
            "_model_name": "LayoutModel",
            "_view_count": null,
            "_view_module": "@jupyter-widgets/base",
            "_view_module_version": "1.2.0",
            "_view_name": "LayoutView",
            "align_content": null,
            "align_items": null,
            "align_self": null,
            "border": null,
            "bottom": null,
            "display": null,
            "flex": null,
            "flex_flow": null,
            "grid_area": null,
            "grid_auto_columns": null,
            "grid_auto_flow": null,
            "grid_auto_rows": null,
            "grid_column": null,
            "grid_gap": null,
            "grid_row": null,
            "grid_template_areas": null,
            "grid_template_columns": null,
            "grid_template_rows": null,
            "height": null,
            "justify_content": null,
            "justify_items": null,
            "left": null,
            "margin": null,
            "max_height": null,
            "max_width": null,
            "min_height": null,
            "min_width": null,
            "object_fit": null,
            "object_position": null,
            "order": null,
            "overflow": null,
            "overflow_x": null,
            "overflow_y": null,
            "padding": null,
            "right": null,
            "top": null,
            "visibility": null,
            "width": null
          }
        },
        "be47125088fd4bf7b6e1c0b71443c955": {
          "model_module": "@jupyter-widgets/controls",
          "model_name": "DescriptionStyleModel",
          "model_module_version": "1.5.0",
          "state": {
            "_model_module": "@jupyter-widgets/controls",
            "_model_module_version": "1.5.0",
            "_model_name": "DescriptionStyleModel",
            "_view_count": null,
            "_view_module": "@jupyter-widgets/base",
            "_view_module_version": "1.2.0",
            "_view_name": "StyleView",
            "description_width": ""
          }
        },
        "8fa53c2cc3c44be089ec32a208a33b9c": {
          "model_module": "@jupyter-widgets/base",
          "model_name": "LayoutModel",
          "model_module_version": "1.2.0",
          "state": {
            "_model_module": "@jupyter-widgets/base",
            "_model_module_version": "1.2.0",
            "_model_name": "LayoutModel",
            "_view_count": null,
            "_view_module": "@jupyter-widgets/base",
            "_view_module_version": "1.2.0",
            "_view_name": "LayoutView",
            "align_content": null,
            "align_items": null,
            "align_self": null,
            "border": null,
            "bottom": null,
            "display": null,
            "flex": null,
            "flex_flow": null,
            "grid_area": null,
            "grid_auto_columns": null,
            "grid_auto_flow": null,
            "grid_auto_rows": null,
            "grid_column": null,
            "grid_gap": null,
            "grid_row": null,
            "grid_template_areas": null,
            "grid_template_columns": null,
            "grid_template_rows": null,
            "height": null,
            "justify_content": null,
            "justify_items": null,
            "left": null,
            "margin": null,
            "max_height": null,
            "max_width": null,
            "min_height": null,
            "min_width": null,
            "object_fit": null,
            "object_position": null,
            "order": null,
            "overflow": null,
            "overflow_x": null,
            "overflow_y": null,
            "padding": null,
            "right": null,
            "top": null,
            "visibility": null,
            "width": null
          }
        },
        "841ba6a5bd8e4a28a308ac30f0820ecd": {
          "model_module": "@jupyter-widgets/controls",
          "model_name": "ProgressStyleModel",
          "model_module_version": "1.5.0",
          "state": {
            "_model_module": "@jupyter-widgets/controls",
            "_model_module_version": "1.5.0",
            "_model_name": "ProgressStyleModel",
            "_view_count": null,
            "_view_module": "@jupyter-widgets/base",
            "_view_module_version": "1.2.0",
            "_view_name": "StyleView",
            "bar_color": null,
            "description_width": ""
          }
        },
        "7f83504c87c04bbf9fcf3dabc44d771a": {
          "model_module": "@jupyter-widgets/base",
          "model_name": "LayoutModel",
          "model_module_version": "1.2.0",
          "state": {
            "_model_module": "@jupyter-widgets/base",
            "_model_module_version": "1.2.0",
            "_model_name": "LayoutModel",
            "_view_count": null,
            "_view_module": "@jupyter-widgets/base",
            "_view_module_version": "1.2.0",
            "_view_name": "LayoutView",
            "align_content": null,
            "align_items": null,
            "align_self": null,
            "border": null,
            "bottom": null,
            "display": null,
            "flex": null,
            "flex_flow": null,
            "grid_area": null,
            "grid_auto_columns": null,
            "grid_auto_flow": null,
            "grid_auto_rows": null,
            "grid_column": null,
            "grid_gap": null,
            "grid_row": null,
            "grid_template_areas": null,
            "grid_template_columns": null,
            "grid_template_rows": null,
            "height": null,
            "justify_content": null,
            "justify_items": null,
            "left": null,
            "margin": null,
            "max_height": null,
            "max_width": null,
            "min_height": null,
            "min_width": null,
            "object_fit": null,
            "object_position": null,
            "order": null,
            "overflow": null,
            "overflow_x": null,
            "overflow_y": null,
            "padding": null,
            "right": null,
            "top": null,
            "visibility": null,
            "width": null
          }
        },
        "c696bac280b84a208a2d08aa0205409b": {
          "model_module": "@jupyter-widgets/controls",
          "model_name": "DescriptionStyleModel",
          "model_module_version": "1.5.0",
          "state": {
            "_model_module": "@jupyter-widgets/controls",
            "_model_module_version": "1.5.0",
            "_model_name": "DescriptionStyleModel",
            "_view_count": null,
            "_view_module": "@jupyter-widgets/base",
            "_view_module_version": "1.2.0",
            "_view_name": "StyleView",
            "description_width": ""
          }
        },
        "fe5bb6a1ed2d4106bdc56d2b2c6c7e20": {
          "model_module": "@jupyter-widgets/controls",
          "model_name": "HBoxModel",
          "model_module_version": "1.5.0",
          "state": {
            "_dom_classes": [],
            "_model_module": "@jupyter-widgets/controls",
            "_model_module_version": "1.5.0",
            "_model_name": "HBoxModel",
            "_view_count": null,
            "_view_module": "@jupyter-widgets/controls",
            "_view_module_version": "1.5.0",
            "_view_name": "HBoxView",
            "box_style": "",
            "children": [
              "IPY_MODEL_2711f1b1ecf9418599f32f5ad3918394",
              "IPY_MODEL_b3547980446d4110ad42b9c5dae58770",
              "IPY_MODEL_e110150067ac4a3a86180729103e6b0a"
            ],
            "layout": "IPY_MODEL_c7f110869d62493691764f329bbfdf5c"
          }
        },
        "2711f1b1ecf9418599f32f5ad3918394": {
          "model_module": "@jupyter-widgets/controls",
          "model_name": "HTMLModel",
          "model_module_version": "1.5.0",
          "state": {
            "_dom_classes": [],
            "_model_module": "@jupyter-widgets/controls",
            "_model_module_version": "1.5.0",
            "_model_name": "HTMLModel",
            "_view_count": null,
            "_view_module": "@jupyter-widgets/controls",
            "_view_module_version": "1.5.0",
            "_view_name": "HTMLView",
            "description": "",
            "description_tooltip": null,
            "layout": "IPY_MODEL_6fe892e0259b424780bcf5044d4ddd20",
            "placeholder": "​",
            "style": "IPY_MODEL_dcc580b98bf5454abb68ba50019be7d9",
            "value": "special_tokens_map.json: 100%"
          }
        },
        "b3547980446d4110ad42b9c5dae58770": {
          "model_module": "@jupyter-widgets/controls",
          "model_name": "FloatProgressModel",
          "model_module_version": "1.5.0",
          "state": {
            "_dom_classes": [],
            "_model_module": "@jupyter-widgets/controls",
            "_model_module_version": "1.5.0",
            "_model_name": "FloatProgressModel",
            "_view_count": null,
            "_view_module": "@jupyter-widgets/controls",
            "_view_module_version": "1.5.0",
            "_view_name": "ProgressView",
            "bar_style": "success",
            "description": "",
            "description_tooltip": null,
            "layout": "IPY_MODEL_5888851442b348d3a3a360dd3c7a85b9",
            "max": 150,
            "min": 0,
            "orientation": "horizontal",
            "style": "IPY_MODEL_d7b19143fb9848e381cef4fb6a12c49a",
            "value": 150
          }
        },
        "e110150067ac4a3a86180729103e6b0a": {
          "model_module": "@jupyter-widgets/controls",
          "model_name": "HTMLModel",
          "model_module_version": "1.5.0",
          "state": {
            "_dom_classes": [],
            "_model_module": "@jupyter-widgets/controls",
            "_model_module_version": "1.5.0",
            "_model_name": "HTMLModel",
            "_view_count": null,
            "_view_module": "@jupyter-widgets/controls",
            "_view_module_version": "1.5.0",
            "_view_name": "HTMLView",
            "description": "",
            "description_tooltip": null,
            "layout": "IPY_MODEL_b47ca8ded5c84c5ba782c12b96ef40b3",
            "placeholder": "​",
            "style": "IPY_MODEL_0cf49d1e8e794d9e83a97248b939dc8f",
            "value": " 150/150 [00:00&lt;00:00, 4.73kB/s]"
          }
        },
        "c7f110869d62493691764f329bbfdf5c": {
          "model_module": "@jupyter-widgets/base",
          "model_name": "LayoutModel",
          "model_module_version": "1.2.0",
          "state": {
            "_model_module": "@jupyter-widgets/base",
            "_model_module_version": "1.2.0",
            "_model_name": "LayoutModel",
            "_view_count": null,
            "_view_module": "@jupyter-widgets/base",
            "_view_module_version": "1.2.0",
            "_view_name": "LayoutView",
            "align_content": null,
            "align_items": null,
            "align_self": null,
            "border": null,
            "bottom": null,
            "display": null,
            "flex": null,
            "flex_flow": null,
            "grid_area": null,
            "grid_auto_columns": null,
            "grid_auto_flow": null,
            "grid_auto_rows": null,
            "grid_column": null,
            "grid_gap": null,
            "grid_row": null,
            "grid_template_areas": null,
            "grid_template_columns": null,
            "grid_template_rows": null,
            "height": null,
            "justify_content": null,
            "justify_items": null,
            "left": null,
            "margin": null,
            "max_height": null,
            "max_width": null,
            "min_height": null,
            "min_width": null,
            "object_fit": null,
            "object_position": null,
            "order": null,
            "overflow": null,
            "overflow_x": null,
            "overflow_y": null,
            "padding": null,
            "right": null,
            "top": null,
            "visibility": null,
            "width": null
          }
        },
        "6fe892e0259b424780bcf5044d4ddd20": {
          "model_module": "@jupyter-widgets/base",
          "model_name": "LayoutModel",
          "model_module_version": "1.2.0",
          "state": {
            "_model_module": "@jupyter-widgets/base",
            "_model_module_version": "1.2.0",
            "_model_name": "LayoutModel",
            "_view_count": null,
            "_view_module": "@jupyter-widgets/base",
            "_view_module_version": "1.2.0",
            "_view_name": "LayoutView",
            "align_content": null,
            "align_items": null,
            "align_self": null,
            "border": null,
            "bottom": null,
            "display": null,
            "flex": null,
            "flex_flow": null,
            "grid_area": null,
            "grid_auto_columns": null,
            "grid_auto_flow": null,
            "grid_auto_rows": null,
            "grid_column": null,
            "grid_gap": null,
            "grid_row": null,
            "grid_template_areas": null,
            "grid_template_columns": null,
            "grid_template_rows": null,
            "height": null,
            "justify_content": null,
            "justify_items": null,
            "left": null,
            "margin": null,
            "max_height": null,
            "max_width": null,
            "min_height": null,
            "min_width": null,
            "object_fit": null,
            "object_position": null,
            "order": null,
            "overflow": null,
            "overflow_x": null,
            "overflow_y": null,
            "padding": null,
            "right": null,
            "top": null,
            "visibility": null,
            "width": null
          }
        },
        "dcc580b98bf5454abb68ba50019be7d9": {
          "model_module": "@jupyter-widgets/controls",
          "model_name": "DescriptionStyleModel",
          "model_module_version": "1.5.0",
          "state": {
            "_model_module": "@jupyter-widgets/controls",
            "_model_module_version": "1.5.0",
            "_model_name": "DescriptionStyleModel",
            "_view_count": null,
            "_view_module": "@jupyter-widgets/base",
            "_view_module_version": "1.2.0",
            "_view_name": "StyleView",
            "description_width": ""
          }
        },
        "5888851442b348d3a3a360dd3c7a85b9": {
          "model_module": "@jupyter-widgets/base",
          "model_name": "LayoutModel",
          "model_module_version": "1.2.0",
          "state": {
            "_model_module": "@jupyter-widgets/base",
            "_model_module_version": "1.2.0",
            "_model_name": "LayoutModel",
            "_view_count": null,
            "_view_module": "@jupyter-widgets/base",
            "_view_module_version": "1.2.0",
            "_view_name": "LayoutView",
            "align_content": null,
            "align_items": null,
            "align_self": null,
            "border": null,
            "bottom": null,
            "display": null,
            "flex": null,
            "flex_flow": null,
            "grid_area": null,
            "grid_auto_columns": null,
            "grid_auto_flow": null,
            "grid_auto_rows": null,
            "grid_column": null,
            "grid_gap": null,
            "grid_row": null,
            "grid_template_areas": null,
            "grid_template_columns": null,
            "grid_template_rows": null,
            "height": null,
            "justify_content": null,
            "justify_items": null,
            "left": null,
            "margin": null,
            "max_height": null,
            "max_width": null,
            "min_height": null,
            "min_width": null,
            "object_fit": null,
            "object_position": null,
            "order": null,
            "overflow": null,
            "overflow_x": null,
            "overflow_y": null,
            "padding": null,
            "right": null,
            "top": null,
            "visibility": null,
            "width": null
          }
        },
        "d7b19143fb9848e381cef4fb6a12c49a": {
          "model_module": "@jupyter-widgets/controls",
          "model_name": "ProgressStyleModel",
          "model_module_version": "1.5.0",
          "state": {
            "_model_module": "@jupyter-widgets/controls",
            "_model_module_version": "1.5.0",
            "_model_name": "ProgressStyleModel",
            "_view_count": null,
            "_view_module": "@jupyter-widgets/base",
            "_view_module_version": "1.2.0",
            "_view_name": "StyleView",
            "bar_color": null,
            "description_width": ""
          }
        },
        "b47ca8ded5c84c5ba782c12b96ef40b3": {
          "model_module": "@jupyter-widgets/base",
          "model_name": "LayoutModel",
          "model_module_version": "1.2.0",
          "state": {
            "_model_module": "@jupyter-widgets/base",
            "_model_module_version": "1.2.0",
            "_model_name": "LayoutModel",
            "_view_count": null,
            "_view_module": "@jupyter-widgets/base",
            "_view_module_version": "1.2.0",
            "_view_name": "LayoutView",
            "align_content": null,
            "align_items": null,
            "align_self": null,
            "border": null,
            "bottom": null,
            "display": null,
            "flex": null,
            "flex_flow": null,
            "grid_area": null,
            "grid_auto_columns": null,
            "grid_auto_flow": null,
            "grid_auto_rows": null,
            "grid_column": null,
            "grid_gap": null,
            "grid_row": null,
            "grid_template_areas": null,
            "grid_template_columns": null,
            "grid_template_rows": null,
            "height": null,
            "justify_content": null,
            "justify_items": null,
            "left": null,
            "margin": null,
            "max_height": null,
            "max_width": null,
            "min_height": null,
            "min_width": null,
            "object_fit": null,
            "object_position": null,
            "order": null,
            "overflow": null,
            "overflow_x": null,
            "overflow_y": null,
            "padding": null,
            "right": null,
            "top": null,
            "visibility": null,
            "width": null
          }
        },
        "0cf49d1e8e794d9e83a97248b939dc8f": {
          "model_module": "@jupyter-widgets/controls",
          "model_name": "DescriptionStyleModel",
          "model_module_version": "1.5.0",
          "state": {
            "_model_module": "@jupyter-widgets/controls",
            "_model_module_version": "1.5.0",
            "_model_name": "DescriptionStyleModel",
            "_view_count": null,
            "_view_module": "@jupyter-widgets/base",
            "_view_module_version": "1.2.0",
            "_view_name": "StyleView",
            "description_width": ""
          }
        }
      }
    }
  },
  "cells": [
    {
      "cell_type": "markdown",
      "metadata": {
        "id": "view-in-github",
        "colab_type": "text"
      },
      "source": [
        "<a href=\"https://colab.research.google.com/github/FredLongo/DataMiningProject/blob/main/code/GetTwitterSentiment.ipynb\" target=\"_parent\"><img src=\"https://colab.research.google.com/assets/colab-badge.svg\" alt=\"Open In Colab\"/></a>"
      ]
    },
    {
      "cell_type": "markdown",
      "source": [
        "This first part is about processing the Twitter data to a format we can work with.   \n"
      ],
      "metadata": {
        "id": "-gt85Llw_0cp"
      }
    },
    {
      "cell_type": "markdown",
      "source": [
        "# Project Overview\n",
        "\n",
        "## Evaluation of Twitter stock sentiment on price stock prices.\n",
        "\n",
        "In this project we evaluate twiter tweet posts to see if tweets can act as leading  indicators or lagging indicators to stock prices.  We will push to evaluate this over one and three days from tweet.   \n",
        "\n",
        "\n"
      ],
      "metadata": {
        "id": "mEwxVGti9a79"
      }
    },
    {
      "cell_type": "markdown",
      "source": [
        "# Acquiring  Tweets\n",
        "\n",
        "We targeted twitter tweets to data mine as a source for evaluation of sentiment.  Twitter was chosen because many of the papers we reviewed took this approach.  We wanted to emulate some of their process.  However, Twitter has changed its policies over the past year to not allow twitter pulls for free to research.  As a result, We needed to use a thired party product to pull a few months worth of tweets.  This third party was Apify (www.apify.com)  as a tool it can pull twitter feeds.  This file was created using the tool and the results of which can be found at # Data pulled from https://console.apify.com/actors/2s3kSMq7tpuC3bI6M/runs/cMp5HramffKLAmVSt#output\n",
        "\n",
        "The Json file is stored to the following location\n",
        " https://drive.google.com/file/d/1s429__b-2Gptf2oN2g-t--1aNPkMiyU-/view?usp=drive_link and should be downloaded to the local Colab environment for processing.  \n",
        "\n",
        "\n",
        "## Limiting/Filtering twitter-Tweets.json Data Set\n",
        "During this process we thought about the different approaches to evaluation of stock.  We could look at all tweets and get sentinment with respect to the market.  However, we found that there are so many ways to interpret the tweets with respect to the market as a whole was difficult. Some filtering was required.  We chose to limit our stocks to just the top 7 of the S&P 100.  By doing so we felt this would be easier to selectively identify tweets with respect to the stock.  The stocks we chose are \"Apple\",\"Alphabet\",\"Amazon\",\"Microsoft\",\"Meta\",\"Nvidia\" and \"Tesla\".  Using their Stock lable of \"AAPL\",\"GOOG\",\"AMZN\",\"MSFT\",\"META\",\"NVDA\",\"TSLA\"\n",
        "\n",
        "We also just looked a few months of tweets.  This is to limit the data set to just a sample timeframe.  \n",
        "\n",
        "Twitter has many users(channels) that produce tweets. We recognize not all channels are interested in producing relevant, reliable, and consistent statements with respect to market or stocks.  So, we limit the channels that we monitored to just a few key players that we thought might be relevant in the marketspace of stock evaluations.  The channels we chose to evaluate are \"@USNewsMoney\", \"@TMFStockAdvisor\", \"@ftfinancenews\", \"@Stocktwits\", \"@MadMoneyOnCNBC\" and \"@SquawkCNBC\".  We found these to be popular that should fit our needs.\n",
        "\n",
        "\n"
      ],
      "metadata": {
        "id": "KuQ7215q_4uA"
      }
    },
    {
      "cell_type": "markdown",
      "source": [
        "Loading tweet data from Twitter."
      ],
      "metadata": {
        "id": "LEz7VDQ1FIVJ"
      }
    },
    {
      "cell_type": "code",
      "execution_count": 1,
      "metadata": {
        "id": "SBQdtyBwzosZ"
      },
      "outputs": [],
      "source": [
        "import json\n",
        "import csv\n",
        "import requests\n",
        "from datetime import datetime\n",
        "\n"
      ]
    },
    {
      "cell_type": "code",
      "source": [
        "\n",
        "#The Twitter-Tweets file can be pulled off the internet from the following\n",
        "\n",
        "# As JSON\n",
        "#Tweets_url = 'https://drive.google.com/file/d/1s429__b-2Gptf2oN2g-t--1aNPkMiyU-/view?usp=drive_link'\n",
        "Tweets_filename = 'twitter-tweets.json'\n",
        "\n",
        "\n",
        "#infile = f\"/content/{Tweets_filename}\"\n",
        "infile = Tweets_filename\n",
        "\n",
        "print(infile)\n",
        "\n",
        "with open(infile, \"r\") as f:\n",
        "  data = json.load(f)\n",
        "\n",
        "\n"
      ],
      "metadata": {
        "colab": {
          "base_uri": "https://localhost:8080/"
        },
        "id": "7dVV8pfAKiki",
        "outputId": "26c1fda9-3bfc-4f18-b074-0303a2ddd431"
      },
      "execution_count": 2,
      "outputs": [
        {
          "output_type": "stream",
          "name": "stdout",
          "text": [
            "twitter-tweets.json\n"
          ]
        }
      ]
    },
    {
      "cell_type": "markdown",
      "source": [
        "Load stock price data."
      ],
      "metadata": {
        "id": "xWvUAVD3lgAU"
      }
    },
    {
      "cell_type": "code",
      "source": [
        "'''\n",
        "#Stock Price URL of the file to be downloaded\n",
        "StockPrice_url = 'https://drive.google.com/file/d/1Hk3Ca66ai_vAO14EFAD1AfOEk2A60E-U/view?usp=drive_link'\n",
        "\n",
        "# Send a GET request to the URL\n",
        "StockPrice_response = requests.get(StockPrice_url)\n",
        "\n",
        "# Ensure the request was successful\n",
        "if StockPrice_response.status_code == 200:\n",
        "    # Write the content of the response to a file\n",
        "    with open('StockPrice.csv', 'wb') as file:\n",
        "        file.write(StockPrice_response.content)\n",
        "else:\n",
        "    print(f\"Failed to download the file. Status code: {StockPrice_response.status_code}\")\n",
        "'''"
      ],
      "metadata": {
        "id": "kUpZkFsVrO7h"
      },
      "execution_count": 3,
      "outputs": []
    },
    {
      "cell_type": "markdown",
      "source": [
        "# Data Structure\n",
        "\n",
        "We needed a way to store our data so we implented SQLITE database to  use.\n"
      ],
      "metadata": {
        "id": "XjDl94NGnu_z"
      }
    },
    {
      "cell_type": "code",
      "source": [
        "\n",
        "import sqlite3\n",
        "conn = sqlite3.connect(\"Project.db\")\n",
        "\n",
        "# Create a cursor object using the cursor() method\n",
        "cursor = conn.cursor()\n"
      ],
      "metadata": {
        "id": "ip_IaVLXoDqN"
      },
      "execution_count": 3,
      "outputs": []
    },
    {
      "cell_type": "code",
      "source": [
        "# SQL command to create Tweets table\n",
        "\n",
        "create_table_command = \"\"\"\n",
        "CREATE TABLE Tweets (\n",
        "    Timestamp DATE,\n",
        "    DateKey TEXT,\n",
        "    Channel TEXT,\n",
        "    Stock  TEXT,\n",
        "    Neg_score FLOAT,\n",
        "    Neu_score FLOAT,\n",
        "    Pos_score FLOAT,\n",
        "    Sentiment Int,\n",
        "    Tweet_clean TEXT\n",
        "\n",
        ");\n",
        "\"\"\"\n",
        "\n",
        "\n",
        "# Execute the SQL command\n",
        "cursor.execute(create_table_command)\n",
        "\n",
        "\n"
      ],
      "metadata": {
        "id": "fGfpjAyRojzy",
        "outputId": "3fdc5af4-9614-488d-e232-7adfbd28e1ce",
        "colab": {
          "base_uri": "https://localhost:8080/"
        }
      },
      "execution_count": 4,
      "outputs": [
        {
          "output_type": "execute_result",
          "data": {
            "text/plain": [
              "<sqlite3.Cursor at 0x790c74b2ce40>"
            ]
          },
          "metadata": {},
          "execution_count": 4
        }
      ]
    },
    {
      "cell_type": "code",
      "source": [
        "#dbexec(\"drop table Tweets\")"
      ],
      "metadata": {
        "id": "2-REJOoyA-N0"
      },
      "execution_count": null,
      "outputs": []
    },
    {
      "cell_type": "code",
      "source": [
        "# SQL command to create Stocks table\n",
        "\n",
        "create_table_command = \"\"\"\n",
        "CREATE TABLE Stocks (\n",
        "    ID INTEGER PRIMARY KEY AUTOINCREMENT,\n",
        "    Date DATE,\n",
        "    DateKey TEXT,\n",
        "    AAPL_C\tFLOAT,\n",
        "    AMZN_C\tFLOAT,\n",
        "    GOOG_C\tFLOAT,\n",
        "    META_C\tFLOAT,\n",
        "    MSFT_C\tFLOAT,\n",
        "    NVDA_C\tFLOAT,\n",
        "    TSLA_C\tFLOAT,\n",
        "    AAPL_H\tFLOAT,\n",
        "    AMZN_H\tFLOAT,\n",
        "    GOOG_H\tFLOAT,\n",
        "    META_H\tFLOAT,\n",
        "    MSFT_H\tFLOAT,\n",
        "    NVDA_H\tFLOAT,\n",
        "    TSLA_H\tFLOAT,\n",
        "    AAPL_L\tFLOAT,\n",
        "    AMZN_L\tFLOAT,\n",
        "    GOOG_L\tFLOAT,\n",
        "    META_L\tFLOAT,\n",
        "    MSFT_L\tFLOAT,\n",
        "    NVDA_L\tFLOAT,\n",
        "    TSLA_L\tFLOAT,\n",
        "    AAPL_O\tFLOAT,\n",
        "    AMZN_O\tFLOAT,\n",
        "    GOOG_O\tFLOAT,\n",
        "    META_O\tFLOAT,\n",
        "    MSFT_O\tFLOAT,\n",
        "    NVDA_O\tFLOAT,\n",
        "    TSLA_O\tFLOAT,\n",
        "    AAPL_V\tFLOAT,\n",
        "    AMZN_V\tFLOAT,\n",
        "    GOOG_V\tFLOAT,\n",
        "    META_V\tFLOAT,\n",
        "    MSFT_V\tFLOAT,\n",
        "    NVDA_V\tFLOAT,\n",
        "    TSLA_V\tFLOAT,\n",
        "    AAPL_N\tFLOAT,\n",
        "    AMZN_N\tFLOAT,\n",
        "    GOOG_N\tFLOAT,\n",
        "    META_N\tFLOAT,\n",
        "    MSFT_N\tFLOAT,\n",
        "    NVDA_N\tFLOAT,\n",
        "    TSLA_N\tFLOAT,\n",
        "    AAPL_U\tFLOAT,\n",
        "    AMZN_U\tFLOAT,\n",
        "    GOOG_U\tFLOAT,\n",
        "    META_U\tFLOAT,\n",
        "    MSFT_U\tFLOAT,\n",
        "    NVDA_U\tFLOAT,\n",
        "    TSLA_U\tFLOAT,\n",
        "    AAPL_P\tFLOAT,\n",
        "    AMZN_P\tFLOAT,\n",
        "    GOOG_P\tFLOAT,\n",
        "    META_P\tFLOAT,\n",
        "    MSFT_P\tFLOAT,\n",
        "    NVDA_P\tFLOAT,\n",
        "    TSLA_P  FLOAT\n",
        ");\n",
        "\"\"\"\n",
        "\n",
        "# Execute the SQL command\n",
        "cursor.execute(create_table_command)"
      ],
      "metadata": {
        "id": "o4eTuYmH2Tkm",
        "outputId": "5ee5d87c-2d2d-48ae-f335-b31dc90eccf3",
        "colab": {
          "base_uri": "https://localhost:8080/"
        }
      },
      "execution_count": 5,
      "outputs": [
        {
          "output_type": "execute_result",
          "data": {
            "text/plain": [
              "<sqlite3.Cursor at 0x790c74b2ce40>"
            ]
          },
          "metadata": {},
          "execution_count": 5
        }
      ]
    },
    {
      "cell_type": "code",
      "source": [
        "#dbexec(\"drop table Stocks\")"
      ],
      "metadata": {
        "id": "2seEccaT-p6P"
      },
      "execution_count": null,
      "outputs": []
    },
    {
      "cell_type": "code",
      "source": [
        "# List all table in DB\n",
        "\n",
        "list_tables_command = \"SELECT name FROM sqlite_master WHERE type='table';\"\n",
        "cursor.execute(list_tables_command)\n",
        "\n",
        "tables = cursor.fetchall()\n",
        "for table in tables:\n",
        "  print(table[0])"
      ],
      "metadata": {
        "id": "G-28QESVomZs",
        "colab": {
          "base_uri": "https://localhost:8080/"
        },
        "outputId": "fcc5764d-6527-4b9e-e785-6f2f2030eb0e"
      },
      "execution_count": 6,
      "outputs": [
        {
          "output_type": "stream",
          "name": "stdout",
          "text": [
            "Tweets\n",
            "Stocks\n",
            "sqlite_sequence\n"
          ]
        }
      ]
    },
    {
      "cell_type": "markdown",
      "source": [
        "This function is used to easily Execute SQL Commands so quickly display."
      ],
      "metadata": {
        "id": "Hfgn4k3zCzt0"
      }
    },
    {
      "cell_type": "code",
      "source": [
        "def dbexec(command):\n",
        "  # Execute the command\n",
        "  cursor.execute(command)\n",
        "\n",
        "  # Fetch all the rows from the executed query\n",
        "  rows = cursor.fetchall()\n",
        "\n",
        "  # Iterate through rows and print them\n",
        "  for row in rows:\n",
        "    print(row)\n",
        "\n",
        "\n"
      ],
      "metadata": {
        "id": "Ahcn6VBjzUxt"
      },
      "execution_count": 7,
      "outputs": []
    },
    {
      "cell_type": "code",
      "source": [
        "\n",
        "def Stock_case_AAPL():\n",
        "    return \"AAPL\"\n",
        "\n",
        "def Stock_case_GOOG():\n",
        "    return \"GOOG\"\n",
        "\n",
        "def Stock_case_AMZN():\n",
        "    return \"AMZN\"\n",
        "\n",
        "def Stock_case_META():\n",
        "    return \"META\"\n",
        "\n",
        "def Stock_case_MSFT():\n",
        "    return \"MSFT\"\n",
        "\n",
        "def Stock_case_NVDA():\n",
        "    return \"NVDA\"\n",
        "\n",
        "def Stock_case_TSLA():\n",
        "    return \"TSLA\"\n",
        "\n",
        "def Stock_case_default():\n",
        "    return \"ERROR\"\n",
        "\n",
        "def Stock_Symble(StockID):\n",
        "  StockID = StockID.strip()\n",
        "  switcher = {\n",
        "      'AAPL':       Stock_case_AAPL,\n",
        "      'Alphabet':  \tStock_case_GOOG,\n",
        "      'AMZN':   \t\tStock_case_AMZN,\n",
        "      'Apple':   \t\tStock_case_AAPL,\n",
        "      'GOOG':   \t\tStock_case_GOOG,\n",
        "      'META':   \t \tStock_case_META,\n",
        "      'Microsoft': \tStock_case_MSFT,\n",
        "      'MSFT':   \t\tStock_case_MSFT,\n",
        "      'NVDA':   \t\tStock_case_NVDA,\n",
        "      'Nvidia':   \tStock_case_NVDA,\n",
        "      'Tesla':   \t\tStock_case_TSLA,\n",
        "      'TSLA':   \t\tStock_case_TSLA\n",
        "  }\n",
        "\n",
        "  # Get the function from switcher dictionary\n",
        "  case_function = switcher.get(StockID, Stock_case_default)\n",
        "\n",
        "  # Execute the function\n",
        "  return case_function()\n",
        "\n",
        "\n"
      ],
      "metadata": {
        "id": "EgaBLive0sLk"
      },
      "execution_count": 8,
      "outputs": []
    },
    {
      "cell_type": "markdown",
      "source": [
        "# Evaluation of Twitter Sentiment"
      ],
      "metadata": {
        "id": "tGniHGe_E29l"
      }
    },
    {
      "cell_type": "markdown",
      "source": [
        "At this point I want to add the code to do the sentiment analysis.\n",
        "\n",
        "\n",
        "We do this by using a publicly available Sequence Classifier that has been pretrained on tweeter tweets for sentement of Positive, Neutral, or Negetive."
      ],
      "metadata": {
        "id": "n-fnSw-Im217"
      }
    },
    {
      "cell_type": "code",
      "source": [
        "\n",
        "from transformers import AutoTokenizer, AutoModelForSequenceClassification\n",
        "from scipy.special import softmax\n",
        "\n",
        "\n",
        "# load model and tokenizer\n",
        "roberta = \"cardiffnlp/twitter-roberta-base-sentiment\"\n",
        "\n",
        "model = AutoModelForSequenceClassification.from_pretrained(roberta)\n",
        "tokenizer = AutoTokenizer.from_pretrained(roberta)\n",
        "\n",
        "labels = ['Negative', 'Neutral', 'Positive']\n",
        "\n",
        "Negative = 0\n",
        "Neutral = 1\n",
        "Positive = 2\n",
        "\n"
      ],
      "metadata": {
        "id": "75BicuOmm9rm",
        "colab": {
          "base_uri": "https://localhost:8080/",
          "height": 177,
          "referenced_widgets": [
            "36528f86894748e1a181211b6f8d0794",
            "edf76d354977442fb52e6634aee30686",
            "2281106d1c1f4d64bc0fb22333f70160",
            "af4fb25a9c8f43f891ccee40662f46c0",
            "691f25fa610a431ebfa747a873897bdf",
            "46263a9081ff42179ab72b12416da852",
            "5ece1f750f7f4ea29f031ff0d65361fc",
            "648a4d0456fa442f8ca38a913babadf0",
            "13ebf931dca74b98a73b871086768e94",
            "b5634405b7924435834eafa0809c8ca3",
            "aba4f220be4540f381b4b3e331b2b6ac",
            "43ec10245b98492d86680f5fb45991b6",
            "262482b0a04549cea65e3ed9c7821479",
            "b7c7ca5a4e194676adcfccf435a8d808",
            "acd76acab3c349febd8afa0e95a5eff3",
            "aeac1b004555475c94149b3a76f26813",
            "9a4dd5bc955848bc909cee274a7f05e9",
            "72b63310575b4897b258e567dedfb210",
            "6a53ea114b57491e8e132dec6ea043de",
            "f0d92c7475c84cd7a814710b2c80423a",
            "d03abdd0ee3b4074959b371540044130",
            "37c0269578f646589ff910199832d874",
            "0052ba464a054e3c8e3d775d1ce41fc0",
            "96791c58d3084ac2bf53fe4c6c733378",
            "37604cffbfd34af1b29f1b0579fa3630",
            "ba389ecedd134f56893a815a12a7d1a3",
            "7b1f03ca04ac43efb4181a9dfd669769",
            "76f23767a0fb45b4bb4703c0f1145015",
            "0ebfc0f3b5b443408bccf21cdac9a250",
            "ef3c6db6e15c47ff81cd53073d7817a3",
            "544e1fde69a94c09885a7056a6433eaa",
            "133fc403a7214e75b46f13a8e999ebf1",
            "a86f04dc419d42af8cab90d3530b6b41",
            "6f02429df68c439ca6fb82ba726886c0",
            "7a000372536b45f384142b9b908de54c",
            "99995756987e441db5fe1b1b220b7b63",
            "7890b11c13354b0db8dcada63bab049e",
            "b4c08a9dc28e46469602f55f2f361339",
            "565431d9ec1c4e3d9c451bcc3bbbbf5e",
            "be47125088fd4bf7b6e1c0b71443c955",
            "8fa53c2cc3c44be089ec32a208a33b9c",
            "841ba6a5bd8e4a28a308ac30f0820ecd",
            "7f83504c87c04bbf9fcf3dabc44d771a",
            "c696bac280b84a208a2d08aa0205409b",
            "fe5bb6a1ed2d4106bdc56d2b2c6c7e20",
            "2711f1b1ecf9418599f32f5ad3918394",
            "b3547980446d4110ad42b9c5dae58770",
            "e110150067ac4a3a86180729103e6b0a",
            "c7f110869d62493691764f329bbfdf5c",
            "6fe892e0259b424780bcf5044d4ddd20",
            "dcc580b98bf5454abb68ba50019be7d9",
            "5888851442b348d3a3a360dd3c7a85b9",
            "d7b19143fb9848e381cef4fb6a12c49a",
            "b47ca8ded5c84c5ba782c12b96ef40b3",
            "0cf49d1e8e794d9e83a97248b939dc8f"
          ]
        },
        "outputId": "6ab845ba-1084-4af5-92ea-6b8e9fe23f49"
      },
      "execution_count": 9,
      "outputs": [
        {
          "output_type": "display_data",
          "data": {
            "text/plain": [
              "config.json:   0%|          | 0.00/747 [00:00<?, ?B/s]"
            ],
            "application/vnd.jupyter.widget-view+json": {
              "version_major": 2,
              "version_minor": 0,
              "model_id": "36528f86894748e1a181211b6f8d0794"
            }
          },
          "metadata": {}
        },
        {
          "output_type": "display_data",
          "data": {
            "text/plain": [
              "pytorch_model.bin:   0%|          | 0.00/499M [00:00<?, ?B/s]"
            ],
            "application/vnd.jupyter.widget-view+json": {
              "version_major": 2,
              "version_minor": 0,
              "model_id": "43ec10245b98492d86680f5fb45991b6"
            }
          },
          "metadata": {}
        },
        {
          "output_type": "display_data",
          "data": {
            "text/plain": [
              "vocab.json:   0%|          | 0.00/899k [00:00<?, ?B/s]"
            ],
            "application/vnd.jupyter.widget-view+json": {
              "version_major": 2,
              "version_minor": 0,
              "model_id": "0052ba464a054e3c8e3d775d1ce41fc0"
            }
          },
          "metadata": {}
        },
        {
          "output_type": "display_data",
          "data": {
            "text/plain": [
              "merges.txt:   0%|          | 0.00/456k [00:00<?, ?B/s]"
            ],
            "application/vnd.jupyter.widget-view+json": {
              "version_major": 2,
              "version_minor": 0,
              "model_id": "6f02429df68c439ca6fb82ba726886c0"
            }
          },
          "metadata": {}
        },
        {
          "output_type": "display_data",
          "data": {
            "text/plain": [
              "special_tokens_map.json:   0%|          | 0.00/150 [00:00<?, ?B/s]"
            ],
            "application/vnd.jupyter.widget-view+json": {
              "version_major": 2,
              "version_minor": 0,
              "model_id": "fe5bb6a1ed2d4106bdc56d2b2c6c7e20"
            }
          },
          "metadata": {}
        }
      ]
    },
    {
      "cell_type": "markdown",
      "source": [
        "remove_quotes funciton is used to remove any single or double quouts from the tweet so as to normilize the messages for processing."
      ],
      "metadata": {
        "id": "hExKSb3_DVOn"
      }
    },
    {
      "cell_type": "code",
      "source": [
        "def remove_quotes(input_string):\n",
        "    # Remove single quotes\n",
        "    no_single_quotes = input_string.replace(\"'\", \"\")\n",
        "\n",
        "    # Remove double quotes\n",
        "    no_quotes = no_single_quotes.replace('\"', \"\")\n",
        "\n",
        "    return no_quotes"
      ],
      "metadata": {
        "id": "YIvyElIWlWVV"
      },
      "execution_count": 10,
      "outputs": []
    },
    {
      "cell_type": "markdown",
      "source": [
        "Since we have exluded emaoji evaluation the remove_emojis funciton is used to remove any emojis from the tweet so as to normilize the messages for processing."
      ],
      "metadata": {
        "id": "z49Bh7iJDqZ-"
      }
    },
    {
      "cell_type": "code",
      "source": [
        "def remove_emojis(text):\n",
        "    # Define the emoji pattern using Unicode ranges\n",
        "    emoji_pattern = re.compile(\"[\"\n",
        "                           u\"\\U0001F600-\\U0001F64F\"  # emoticons\n",
        "                           u\"\\U0001F300-\\U0001F5FF\"  # symbols & pictographs\n",
        "                           u\"\\U0001F680-\\U0001F6FF\"  # transport & map symbols\n",
        "                           u\"\\U0001F1E0-\\U0001F1FF\"  # flags (iOS)\n",
        "                           u\"\\U00002702-\\U000027B0\"\n",
        "                           u\"\\U000024C2-\\U0001F251\"\n",
        "                           \"]+\", flags=re.UNICODE)\n",
        "\n",
        "    # Remove emojis from the text\n",
        "    return emoji_pattern.sub(r'', text)\n"
      ],
      "metadata": {
        "id": "R9OkeX5hZfZ3"
      },
      "execution_count": 11,
      "outputs": []
    },
    {
      "cell_type": "markdown",
      "source": [
        "Clean_string funciton is used to remove any non visiable from the tweet so as to normilize the messages for processing."
      ],
      "metadata": {
        "id": "eLiYNS4cD8GU"
      }
    },
    {
      "cell_type": "code",
      "source": [
        "import re\n",
        "\n",
        "def clean_string(input_string):\n",
        "    # Regex to match only visible characters\n",
        "    # This excludes most control characters like \\n, \\t, \\r, etc.\n",
        "    visible_chars_regex = r'[^\\x20-\\x7E]'\n",
        "\n",
        "    # Substitute non-visible characters with an empty string\n",
        "    cleaned_string = re.sub(visible_chars_regex, '', input_string)\n",
        "\n",
        "    return cleaned_string\n"
      ],
      "metadata": {
        "id": "AJ3F5PWZXwD1"
      },
      "execution_count": 12,
      "outputs": []
    },
    {
      "cell_type": "markdown",
      "source": [
        "Because tweets contain usernames and URLs the preprocess_tweet funciton is used to replace a standered string for these elements so as the names themselves do not affect the sentiment engine.  "
      ],
      "metadata": {
        "id": "EBiV3ddtEI-e"
      }
    },
    {
      "cell_type": "code",
      "source": [
        "def preprocesses_tweet(tweet):\n",
        "  tweet_words = []\n",
        "\n",
        "  cleaned_string = remove_emojis(tweet)\n",
        "  cleaned_string = remove_quotes(cleaned_string)\n",
        "  cleaned_string = clean_string(cleaned_string)\n",
        "\n",
        "\n",
        "  # replace\n",
        "  for word in cleaned_string.split(' '):\n",
        "    # username\n",
        "    if word.startswith('@') and len(word) > 1 :\n",
        "      word = '@user'\n",
        "\n",
        "    # http link\n",
        "    elif word.startswith('http'):\n",
        "      word = \"http\"\n",
        "\n",
        "    elif word == '':\n",
        "      continue\n",
        "\n",
        "    tweet_words.append(word)\n",
        "\n",
        "\n",
        "  tweet_proc = \" \".join(tweet_words)\n",
        "  return tweet_proc\n"
      ],
      "metadata": {
        "id": "7dWCHf6CrFur"
      },
      "execution_count": 13,
      "outputs": []
    },
    {
      "cell_type": "markdown",
      "source": [
        "Runs tweet into AI sentement anilizer model."
      ],
      "metadata": {
        "id": "48dR2eKMEmlc"
      }
    },
    {
      "cell_type": "code",
      "source": [
        "def get_tweet_sentiment(tweet_proc):\n",
        "  # sentiment analysis\n",
        "  encoded_tweet = tokenizer(tweet_proc, return_tensors='pt')\n",
        "  # output = model(encoded_tweet['input_ids'], encoded_tweet['attention_mask'])\n",
        "  output = model(**encoded_tweet)\n",
        "\n",
        "  scores = output[0][0].detach().numpy()\n",
        "  scores = softmax(scores)\n",
        "\n",
        "  maxposition = 0\n",
        "  maxscore = 0\n",
        "\n",
        "  for i in range(len(scores)):\n",
        "    if maxscore <= scores[i]:\n",
        "      maxposition = i\n",
        "      maxscore = scores[i]\n",
        "\n",
        "  return labels[maxposition]  , scores[maxposition], maxposition, scores[0],scores[1],scores[2]\n",
        "\n",
        "\n"
      ],
      "metadata": {
        "id": "kofDI5AUtuy7"
      },
      "execution_count": 14,
      "outputs": []
    },
    {
      "cell_type": "code",
      "source": [
        "# Evaluate Tweet and add to database.\n",
        "import time\n",
        "\n",
        "# Clean up in case something is already in there\n",
        "cursor.execute(\"DELETE FROM Tweets\")\n",
        "\n",
        "loop_count = -1\n",
        "tweet_proc = \"\"\n",
        "\n",
        "\n",
        "# Need to create a tweet loop\n",
        "\n",
        "for x in data:\n",
        "  loop_count+=1\n",
        "  #print(loop_count)\n",
        "  try:\n",
        "\n",
        "    tweet_proc = preprocesses_tweet(x['text'])\n",
        "    sentiment_label, sentiment_score, Sentiment, scores0,scores1,scores2 = get_tweet_sentiment(tweet_proc)\n",
        "    stock_symble_o = x['searchQuery']\n",
        "    stock_symble = Stock_Symble(x['searchQuery'])\n",
        "\n",
        "\n",
        "    date_object = datetime.strptime(x['timestamp'],  \"%Y-%m-%dT%H:%M:%S.%fZ\" )\n",
        "    date_key = date_object.strftime(\"%Y-%m-%d\")\n",
        "\n",
        "    insert_command = f\"INSERT INTO Tweets (Timestamp, DateKey, Channel, Stock, Neg_score, Neu_score, Pos_score, sentiment,Tweet_clean) VALUES ('{x['timestamp']}','{date_key}','{x['user']['username']}', '{stock_symble}','{scores0}','{scores1}','{scores2}','{Sentiment}','{tweet_proc}')\"\n",
        "    cursor.execute(insert_command)\n",
        "\n",
        "  except Exception as e:\n",
        "    print(f\"---------------------------------------\")\n",
        "    print(f\"exception on {str(loop_count)}\")\n",
        "    print(f\"Error {e}\")\n",
        "    continue\n",
        "\n",
        "\n",
        "# Commit the changes to database on drive.\n",
        "conn.commit()\n",
        "\n",
        "\n",
        "# Sanity Data Check\n",
        "dbexec(\"Select Stock , count(1) from Tweets group by Stock \")\n",
        "dbexec(\"Select count(1) from Tweets\")\n"
      ],
      "metadata": {
        "id": "aWoAqEnpm-r0",
        "outputId": "5b27044c-16e5-4ac2-93b2-ef149adbec44",
        "colab": {
          "base_uri": "https://localhost:8080/"
        }
      },
      "execution_count": 15,
      "outputs": [
        {
          "output_type": "stream",
          "name": "stdout",
          "text": [
            "('AAPL', 52)\n",
            "('AMZN', 39)\n",
            "('GOOG', 8)\n",
            "('META', 39)\n",
            "('MSFT', 36)\n",
            "('NVDA', 55)\n",
            "('TSLA', 63)\n",
            "(292,)\n"
          ]
        }
      ]
    },
    {
      "cell_type": "markdown",
      "source": [
        "# Aquiring Stock Prices"
      ],
      "metadata": {
        "id": "hYhakd00FjVi"
      }
    },
    {
      "cell_type": "markdown",
      "source": [
        "Using Yahoo Financial API to pull historical Stock information."
      ],
      "metadata": {
        "id": "csVNZD7LMRvw"
      }
    },
    {
      "cell_type": "code",
      "source": [
        "import yfinance as yf\n",
        "import pandas as pd\n",
        "import matplotlib.pyplot as plt\n",
        "\n",
        "\n",
        "PARAMS = {\n",
        "    't': '6mo',\n",
        "    'tickers': 'GOOG, AMZN, AAPL, META, MSFT, NVDA, TSLA'\n",
        "    }\n",
        "\n",
        "\n",
        "data = yf.Tickers(PARAMS.get('tickers'))\n",
        "\n",
        "hist = data.history(PARAMS.get('t'))\n",
        "#hist   # view the dataframe\n",
        "\n",
        "#Save to CSV\n",
        "hist.to_csv('hist_out.csv')\n",
        "\n",
        "\n"
      ],
      "metadata": {
        "colab": {
          "base_uri": "https://localhost:8080/"
        },
        "id": "zFp04_OPKtXt",
        "outputId": "b5473966-f864-47a3-e9cb-9906a46ce47d"
      },
      "execution_count": 16,
      "outputs": [
        {
          "output_type": "stream",
          "name": "stdout",
          "text": [
            "[*********************100%%**********************]  7 of 7 completed\n"
          ]
        }
      ]
    },
    {
      "cell_type": "code",
      "source": [
        "# Load the CSV file we downloaded.  It contains the Stock Prices for the past few months.\n",
        "import csv\n",
        "\n",
        "# Specify the CSV file name\n",
        "csv_file_name = \"StockPrices.csv\"\n",
        "#csv_file_name = \"hist_out.csv\"\n",
        "\n",
        "# Initialize an empty database table just in case I stuck something in their.\n",
        "dbexec(\"DELETE FROM Stocks \")\n",
        "\n",
        "\n",
        "# Open the CSV file in read mode\n",
        "with open(csv_file_name, mode='r', newline='') as csv_file:\n",
        "    # Create a CSV reader\n",
        "    csv_reader = csv.reader(csv_file)\n",
        "\n",
        "    # Read the header row\n",
        "    header = next(csv_reader)\n",
        "\n",
        "    header_row = True\n",
        "\n",
        "\n",
        "    # Read the data rows\n",
        "    for row in csv_reader:\n",
        "        #data.append(row)\n",
        "\n",
        "        if header_row == True:\n",
        "          header_row = False\n",
        "          continue\n",
        "        date_object = datetime.strptime(row[0], \"%m/%d/%Y\")\n",
        "        date_key = date_object.strftime(\"%Y-%m-%d\")\n",
        "        insert_command = f'''INSERT INTO Stocks\n",
        "                        ( Date,DateKey,\n",
        "                          AAPL_C,\tAMZN_C,\tGOOG_C,\tMETA_C,\tMSFT_C,\tNVDA_C,\tTSLA_C,\n",
        "                          AAPL_H,\tAMZN_H,\tGOOG_H,\tMETA_H,\tMSFT_H,\tNVDA_H,\tTSLA_H,\n",
        "                          AAPL_L,\tAMZN_L,\tGOOG_L,\tMETA_L,\tMSFT_L,\tNVDA_L,\tTSLA_L,\n",
        "                          AAPL_O,\tAMZN_O,\tGOOG_O,\tMETA_O,\tMSFT_O,\tNVDA_O,\tTSLA_O,\n",
        "                          AAPL_V,\tAMZN_V,\tGOOG_V,\tMETA_V,\tMSFT_V,\tNVDA_V,\tTSLA_V\n",
        "                        )\n",
        "                      VALUES\n",
        "                        (\n",
        "                          '{date_object}','{date_key}',\n",
        "                          '{row[1]}',\t'{row[2]}',\t  '{row[3]}',\t  '{row[4]}',\t  '{row[5]}',\t  '{row[6]}',   '{row[7]}',\n",
        "                          '{row[15]}',\t'{row[16]}',\t'{row[17]}',\t'{row[18]}',\t'{row[19]}',\t'{row[20]}',\t'{row[21]}',\n",
        "                          '{row[22]}',\t'{row[23]}',\t'{row[24]}',\t'{row[25]}',\t'{row[26]}',\t'{row[27]}',\t'{row[28]}',\n",
        "                          '{row[29]}',\t'{row[30]}',\t'{row[31]}',\t'{row[32]}',\t'{row[33]}',\t'{row[34]}',\t'{row[35]}',\n",
        "                          '{row[43]}',\t'{row[44]}',\t'{row[45]}',\t'{row[46]}',\t'{row[47]}',\t'{row[48]}',\t'{row[49]}'\n",
        "                        )'''\n",
        "        cursor.execute(insert_command)\n",
        "\n",
        "\n",
        "# Display the loaded data\n",
        "#for row in data:\n",
        "#    print(row)\n",
        "\n",
        "# Data Sanity Check\n",
        "dbexec(\"Select count(1) from Stocks\")\n",
        "dbexec(\"Select  * from Tweets  LIMIT 3\")\n",
        "dbexec(\"Select  * from Stocks  LIMIT 3\")\n"
      ],
      "metadata": {
        "colab": {
          "base_uri": "https://localhost:8080/"
        },
        "id": "kgINSPpyWCQ3",
        "outputId": "62402a7c-15fc-481d-8162-6f222bd7d4a9"
      },
      "execution_count": 17,
      "outputs": [
        {
          "output_type": "stream",
          "name": "stdout",
          "text": [
            "(128,)\n",
            "('2023-10-17T13:21:00.000Z', '2023-10-17', '@Stocktwits', 'NVDA', 0.47528815269470215, 0.4988061189651489, 0.025905678048729897, 1, 'Nvidia stock put on slides this morning after reports drop that the Biden administration is tightening restrictions on Chinas ability to buy advanced semiconductors.$NVDA -3.75%')\n",
            "('2023-10-27T13:47:00.000Z', '2023-10-27', '@Stocktwits', 'AMZN', 0.004496750887483358, 0.8170449733734131, 0.17845827341079712, 1, 'Top Trending stocks & crypto on Stocktwits this morning:1 $AMZN 2 $SQ3 $INTC4 $F5 $ENPH6 $CRSP7 $SNY8 $DXCM9 $ABBV $CPRX')\n",
            "('2023-10-25T13:47:00.000Z', '2023-10-25', '@Stocktwits', 'MSFT', 0.004904467146843672, 0.7698082327842712, 0.2252873033285141, 1, 'Top Trending stocks & crypto on Stocktwits this morning:1 $MSFT2 $GOOGL 3 $ASPA4 $AVXL5 $SNAP6 $GOOG7 $BA8 $PYPL9 $TDOC $PEPE')\n",
            "(1, '2023-05-22 00:00:00', '2023-05-22', 173.73619079589844, 115.01000213623047, 125.87000274658203, 248.32000732421875, 319.85223388671875, 311.70208740234375, 188.8699951171875, 174.24484266444423, 116.7699966430664, 127.05000305175781, 253.57000732421875, 321.25640859061883, 315.1414507204986, 189.32000732421875, 172.98818766513122, 114.25, 123.44999694824219, 245.1199951171875, 316.69535569281544, 306.74298695966434, 180.11000061035156, 173.5167753267537, 116.7699966430664, 123.51000213623047, 245.41000366210938, 317.2829129845606, 308.9525983, 180.6999969482422, 43570900.0, 70741100.0, 29760200.0, 27738500.0, 24115700.0, 37200000.0, 132001400.0, None, None, None, None, None, None, None, None, None, None, None, None, None, None, None, None, None, None, None, None, None)\n",
            "(2, '2023-05-23 00:00:00', '2023-05-23', 171.1032257080078, 114.98999786376953, 123.29000091552734, 246.74000549316406, 313.95672607421875, 306.8229675292969, 185.77000427246094, 172.9183873331977, 117.13999938964844, 125.41999816894531, 251.61000061035156, 321.38587795275606, 312.8218523568658, 192.9600067138672, 170.82397241461908, 113.77999877929688, 123.05000305175781, 246.64999389648438, 313.9467576889271, 306.2530661478204, 185.25999450683594, 172.66905294851753, 114.2699966430664, 124.93000030517578, 246.80999755859375, 318.70699597129754, 309.9423827577277, 186.1999969482422, 50747300.0, 67576300.0, 24477900.0, 17748100.0, 30797200.0, 35625300.0, 156952100.0, None, None, None, None, None, None, None, None, None, None, None, None, None, None, None, None, None, None, None, None, None)\n",
            "(3, '2023-05-24 00:00:00', '2023-05-24', 171.38247680664062, 116.75, 121.63999938964844, 249.2100067138672, 312.55255126953125, 305.3232727050781, 182.89999389648438, 171.96093439787035, 117.33999633789062, 122.75, 249.58999633789062, 315.1915901004615, 306.0131469608124, 184.22000122070312, 170.06599918583325, 115.0199966430664, 120.75, 244.9499969482422, 311.3176567590552, 298.0046252601897, 178.22000122070312, 170.6344736621792, 115.3499984741211, 121.87999725341797, 245.27999877929688, 313.42891821521795, 302.0438832697813, 182.22999572753906, 45143500.0, 63487900.0, 23087900.0, 17724300.0, 23384900.0, 72141900.0, 137605100.0, None, None, None, None, None, None, None, None, None, None, None, None, None, None, None, None, None, None, None, None, None)\n"
          ]
        }
      ]
    },
    {
      "cell_type": "markdown",
      "source": [
        "# Joining Stock Prices with respect to Tweets"
      ],
      "metadata": {
        "id": "xqKMuf0yFsqW"
      }
    },
    {
      "cell_type": "markdown",
      "source": [
        "This will update the Stock columns of Stock_Neg, Stock_Neu, Stock_Pos with the average sentement for that day."
      ],
      "metadata": {
        "id": "jep1Rm4UHnPd"
      }
    },
    {
      "cell_type": "code",
      "source": [
        "# Update Stocks table with Tweet avearges\n",
        "\n",
        "update_query = '''\n",
        "    UPDATE Stocks\n",
        "    SET AAPL_N = (\n",
        "        SELECT avg(Neg_score)\n",
        "        FROM Tweets as t\n",
        "        WHERE Stocks.DateKey = t.DateKey AND t.Stock = 'AAPL'\n",
        "    ),\n",
        "    AAPL_U = (\n",
        "        SELECT avg(Neu_score)\n",
        "        FROM Tweets as t\n",
        "        WHERE Stocks.DateKey = t.DateKey AND t.Stock = 'AAPL'\n",
        "    ),\n",
        "    AAPL_P = (\n",
        "        SELECT avg(Pos_score)\n",
        "        FROM Tweets as t\n",
        "        WHERE Stocks.DateKey = t.DateKey AND t.Stock = 'AAPL'\n",
        "    ),\n",
        "    AMZN_N = (\n",
        "        SELECT avg(Neg_score)\n",
        "        FROM Tweets as t\n",
        "        WHERE Stocks.DateKey = t.DateKey AND t.Stock = 'AMZN'\n",
        "    ),\n",
        "    AAPL_U = (\n",
        "        SELECT avg(Neu_score)\n",
        "        FROM Tweets as t\n",
        "        WHERE Stocks.DateKey = t.DateKey AND t.Stock = 'AMZN'\n",
        "    ),\n",
        "    AAPL_P = (\n",
        "        SELECT avg(Pos_score)\n",
        "        FROM Tweets as t\n",
        "        WHERE Stocks.DateKey = t.DateKey AND t.Stock = 'AMZN'\n",
        "    ),\n",
        "    GOOG_N = (\n",
        "        SELECT avg(Neg_score)\n",
        "        FROM Tweets as t\n",
        "        WHERE Stocks.DateKey = t.DateKey AND t.Stock = 'GOOG'\n",
        "    ),\n",
        "    GOOG_U = (\n",
        "        SELECT avg(Neu_score)\n",
        "        FROM Tweets as t\n",
        "        WHERE Stocks.DateKey = t.DateKey AND t.Stock = 'GOOG'\n",
        "    ),\n",
        "    GOOG_P = (\n",
        "        SELECT avg(Pos_score)\n",
        "        FROM Tweets as t\n",
        "        WHERE Stocks.DateKey = t.DateKey AND t.Stock = 'GOOG'\n",
        "    ),\n",
        "    META_N = (\n",
        "        SELECT avg(Neg_score)\n",
        "        FROM Tweets as t\n",
        "        WHERE Stocks.DateKey = t.DateKey AND t.Stock = 'META'\n",
        "    ),\n",
        "    META_U = (\n",
        "        SELECT avg(Neu_score)\n",
        "        FROM Tweets as t\n",
        "        WHERE Stocks.DateKey = t.DateKey AND t.Stock = 'META'\n",
        "    ),\n",
        "    META_P = (\n",
        "        SELECT avg(Pos_score)\n",
        "        FROM Tweets as t\n",
        "        WHERE Stocks.DateKey = t.DateKey AND t.Stock = 'META'\n",
        "    ),\n",
        "    MSFT_N = (\n",
        "        SELECT avg(Neg_score)\n",
        "        FROM Tweets as t\n",
        "        WHERE Stocks.DateKey = t.DateKey AND t.Stock = 'MSFT'\n",
        "    ),\n",
        "    MSFT_U = (\n",
        "        SELECT avg(Neu_score)\n",
        "        FROM Tweets as t\n",
        "        WHERE Stocks.DateKey = t.DateKey AND t.Stock = 'MSFT'\n",
        "    ),\n",
        "    MSFT_P = (\n",
        "        SELECT avg(Pos_score)\n",
        "        FROM Tweets as t\n",
        "        WHERE Stocks.DateKey = t.DateKey AND t.Stock = 'MSFT'\n",
        "    ),\n",
        "    NVDA_N = (\n",
        "        SELECT avg(Neg_score)\n",
        "        FROM Tweets as t\n",
        "        WHERE Stocks.DateKey = t.DateKey AND t.Stock = 'NVDA'\n",
        "    ),\n",
        "    NVDA_U = (\n",
        "        SELECT avg(Neu_score)\n",
        "        FROM Tweets as t\n",
        "        WHERE Stocks.DateKey = t.DateKey AND t.Stock = 'NVDA'\n",
        "    ),\n",
        "    NVDA_P = (\n",
        "        SELECT avg(Pos_score)\n",
        "        FROM Tweets as t\n",
        "        WHERE Stocks.DateKey = t.DateKey AND t.Stock = 'NVDA'\n",
        "    ),\n",
        "    TSLA_N = (\n",
        "        SELECT avg(Neg_score)\n",
        "        FROM Tweets as t\n",
        "        WHERE Stocks.DateKey = t.DateKey AND t.Stock = 'TSLA'\n",
        "    ),\n",
        "    TSLA_U = (\n",
        "        SELECT avg(Neu_score)\n",
        "        FROM Tweets as t\n",
        "        WHERE Stocks.DateKey = t.DateKey AND t.Stock = 'TSLA'\n",
        "    ),\n",
        "    TSLA_P = (\n",
        "        SELECT avg(Pos_score)\n",
        "        FROM Tweets as t\n",
        "        WHERE Stocks.DateKey = t.DateKey AND t.Stock = 'TSLA'\n",
        "    );\n",
        "'''\n",
        "\n",
        "dbexec(update_query)\n",
        "\n",
        "\n"
      ],
      "metadata": {
        "id": "Vu1HgD3NTooB"
      },
      "execution_count": 18,
      "outputs": []
    },
    {
      "cell_type": "markdown",
      "source": [
        "# Export to CSV"
      ],
      "metadata": {
        "id": "Z8C3SrfJBWZB"
      }
    },
    {
      "cell_type": "markdown",
      "source": [
        "Export Table to be evaluated in excel or Power BI"
      ],
      "metadata": {
        "id": "vOFEZpRnJ3NO"
      }
    },
    {
      "cell_type": "code",
      "source": [
        "\n",
        "\n",
        "# Execute a SELECT query to retrieve data from the SQLite table\n",
        "query = \"SELECT * FROM Stocks\"  # Replace with your table name\n",
        "cursor.execute(query)\n",
        "\n",
        "# Fetch the results\n",
        "results = cursor.fetchall()\n",
        "\n",
        "# Specify the CSV file name\n",
        "csv_file_name = \"Stock_Sentament_Evaluation.csv\"\n",
        "\n",
        "# Open the CSV file in write mode\n",
        "with open(csv_file_name, mode='w', newline='') as csv_file:\n",
        "    # Create a CSV writer\n",
        "    csv_writer = csv.writer(csv_file)\n",
        "\n",
        "    # Write the header row based on the column names in the table\n",
        "    column_names = [description[0] for description in cursor.description]\n",
        "    csv_writer.writerow(column_names)\n",
        "\n",
        "    # Write the data rows\n",
        "    csv_writer.writerows(results)\n",
        "\n",
        "# Close the cursor and the database connection\n",
        "#cursor.close()\n",
        "#conn.close()\n",
        "\n"
      ],
      "metadata": {
        "id": "lohpJGAryXdK"
      },
      "execution_count": 19,
      "outputs": []
    }
  ]
}