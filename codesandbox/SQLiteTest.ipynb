{
  "nbformat": 4,
  "nbformat_minor": 0,
  "metadata": {
    "colab": {
      "provenance": [],
      "authorship_tag": "ABX9TyOmpVLqOkpPZaIwq76rikMF",
      "include_colab_link": true
    },
    "kernelspec": {
      "name": "python3",
      "display_name": "Python 3"
    },
    "language_info": {
      "name": "python"
    }
  },
  "cells": [
    {
      "cell_type": "markdown",
      "metadata": {
        "id": "view-in-github",
        "colab_type": "text"
      },
      "source": [
        "<a href=\"https://colab.research.google.com/github/FredLongo/DataMiningProject/blob/main/codesandbox/SQLiteTest.ipynb\" target=\"_parent\"><img src=\"https://colab.research.google.com/assets/colab-badge.svg\" alt=\"Open In Colab\"/></a>"
      ]
    },
    {
      "cell_type": "code",
      "execution_count": 1,
      "metadata": {
        "id": "VuK0goMh5fnB"
      },
      "outputs": [],
      "source": [
        "#from sqlalchemy import create_engine\n",
        "#my_conn=create_engine(\"my_db.db\")\n",
        "\n",
        "import sqlite3\n"
      ]
    },
    {
      "cell_type": "code",
      "source": [
        "conn = sqlite3.connect(\"sqltest.db\")"
      ],
      "metadata": {
        "id": "1TR1KlNO549B"
      },
      "execution_count": 2,
      "outputs": []
    },
    {
      "cell_type": "code",
      "source": [
        "\n",
        "# Create a cursor object using the cursor() method\n",
        "cursor = conn.cursor()\n",
        "\n"
      ],
      "metadata": {
        "id": "0HF1Xcip-Wwe"
      },
      "execution_count": 3,
      "outputs": []
    },
    {
      "cell_type": "code",
      "source": [
        "# SQL command to create a table\n",
        "create_table_command = \"\"\"\n",
        "CREATE TABLE class (\n",
        "    grade TEXT,\n",
        "    name TEXT\n",
        ");\n",
        "\"\"\""
      ],
      "metadata": {
        "id": "7MVPjZOh-YEY"
      },
      "execution_count": 10,
      "outputs": []
    },
    {
      "cell_type": "code",
      "source": [
        "# Execute the SQL command\n",
        "cursor.execute(create_table_command)\n"
      ],
      "metadata": {
        "colab": {
          "base_uri": "https://localhost:8080/"
        },
        "id": "9xZfXL4z7f_C",
        "outputId": "0294b3d6-2ae6-4d35-e377-0a980a4f80a2"
      },
      "execution_count": 5,
      "outputs": [
        {
          "output_type": "execute_result",
          "data": {
            "text/plain": [
              "<sqlite3.Cursor at 0x793a7038e540>"
            ]
          },
          "metadata": {},
          "execution_count": 5
        }
      ]
    },
    {
      "cell_type": "code",
      "source": [
        "list_tables_command = \"SELECT name FROM sqlite_master WHERE type='table';\"\n",
        "\n",
        "cursor.execute(list_tables_command)"
      ],
      "metadata": {
        "colab": {
          "base_uri": "https://localhost:8080/"
        },
        "id": "QkKzhOhj7f7q",
        "outputId": "7599004f-ce65-429c-ba92-06206423473e"
      },
      "execution_count": 11,
      "outputs": [
        {
          "output_type": "execute_result",
          "data": {
            "text/plain": [
              "<sqlite3.Cursor at 0x793a7038e540>"
            ]
          },
          "metadata": {},
          "execution_count": 11
        }
      ]
    },
    {
      "cell_type": "code",
      "source": [
        "tables = cursor.fetchall()\n",
        "for table in tables:\n",
        "  print(table[0])"
      ],
      "metadata": {
        "id": "cjiOAkrK7f4k"
      },
      "execution_count": 12,
      "outputs": []
    },
    {
      "cell_type": "code",
      "source": [],
      "metadata": {
        "colab": {
          "base_uri": "https://localhost:8080/"
        },
        "id": "BlQqhr9uAI9N",
        "outputId": "d5cceedf-f944-4b00-96a5-20ccf024eb5a"
      },
      "execution_count": 13,
      "outputs": [
        {
          "output_type": "stream",
          "name": "stdout",
          "text": [
            "class\n"
          ]
        }
      ]
    },
    {
      "cell_type": "code",
      "source": [
        "from re import I\n",
        "# Data to be inserted\n",
        "data_to_insert = [\n",
        "    ('A', 'JohnDoe'),\n",
        "    ('B', 'JaneSmith'),\n",
        "    ('C', 'EmilyJohnson')\n",
        "]\n",
        "\n",
        "# Insert data into the table\n",
        "for data in data_to_insert:\n",
        "    insert_command = f\"INSERT INTO class (grade, name) VALUES ('{data[0]}', '{data[1]}')\"\n",
        "    cursor.execute(insert_command)\n",
        "    #print(insert_command)\n"
      ],
      "metadata": {
        "id": "aWYfBR1sAmdw"
      },
      "execution_count": 29,
      "outputs": []
    },
    {
      "cell_type": "code",
      "source": [
        "#Show all class table\n",
        "# SQL command to select all rows from the table\n",
        "select_all_command = \"SELECT * FROM class;\"\n",
        "\n",
        "# Execute the command\n",
        "cursor.execute(select_all_command)\n",
        "\n",
        "# Fetch all the rows from the executed query\n",
        "rows = cursor.fetchall()\n",
        "\n",
        "# Iterate through rows and print them\n",
        "for row in rows:\n",
        "    print(row)\n"
      ],
      "metadata": {
        "colab": {
          "base_uri": "https://localhost:8080/"
        },
        "id": "psPwDrPAEYJB",
        "outputId": "9c3977bb-b332-40e9-ab5d-27bd9858d78c"
      },
      "execution_count": 33,
      "outputs": [
        {
          "output_type": "stream",
          "name": "stdout",
          "text": [
            "('A', 'John Doe')\n",
            "('B', 'Jane Smith')\n",
            "('C', 'Emily Johnson')\n",
            "('A', 'JohnDoe')\n",
            "('B', 'JaneSmith')\n",
            "('C', 'EmilyJohnson')\n"
          ]
        }
      ]
    },
    {
      "cell_type": "code",
      "source": [
        "# SQL command to selct all A students\n",
        "select_a_students = \"SELECT * FROM class WHERE grade='A';\"\n",
        "\n",
        "cursor.execute(select_a_students)"
      ],
      "metadata": {
        "colab": {
          "base_uri": "https://localhost:8080/"
        },
        "id": "FpllluOiApl4",
        "outputId": "c21a733e-28e3-404e-973c-a5a2cfcb0c10"
      },
      "execution_count": 38,
      "outputs": [
        {
          "output_type": "execute_result",
          "data": {
            "text/plain": [
              "<sqlite3.Cursor at 0x793a7038e540>"
            ]
          },
          "metadata": {},
          "execution_count": 38
        }
      ]
    },
    {
      "cell_type": "code",
      "source": [
        "A_list = cursor.fetchall()"
      ],
      "metadata": {
        "id": "t-PY2onoBGpr"
      },
      "execution_count": 39,
      "outputs": []
    },
    {
      "cell_type": "code",
      "source": [
        "for student in A_list:\n",
        "  print(student[1])"
      ],
      "metadata": {
        "colab": {
          "base_uri": "https://localhost:8080/"
        },
        "id": "UvCvHCs1BKUc",
        "outputId": "4f9605cb-92bb-4ab9-b296-1d3fe7f3781f"
      },
      "execution_count": 40,
      "outputs": [
        {
          "output_type": "stream",
          "name": "stdout",
          "text": [
            "John Doe\n",
            "JohnDoe\n"
          ]
        }
      ]
    },
    {
      "cell_type": "code",
      "source": [
        "A_list"
      ],
      "metadata": {
        "colab": {
          "base_uri": "https://localhost:8080/"
        },
        "id": "T0eCTFV5BauF",
        "outputId": "6bd19c3b-f1ed-4bfe-d7d9-ed33b07fccf7"
      },
      "execution_count": 18,
      "outputs": [
        {
          "output_type": "execute_result",
          "data": {
            "text/plain": [
              "[('class',)]"
            ]
          },
          "metadata": {},
          "execution_count": 18
        }
      ]
    },
    {
      "cell_type": "code",
      "source": [
        "# Commit the changes and close the connection\n",
        "conn.commit()\n",
        "conn.close()"
      ],
      "metadata": {
        "id": "vaItvZyG7fqo"
      },
      "execution_count": 42,
      "outputs": []
    }
  ]
}